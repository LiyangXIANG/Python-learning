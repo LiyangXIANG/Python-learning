{
 "cells": [
  {
   "cell_type": "markdown",
   "metadata": {},
   "source": [
    "# 函数的作用域\n",
    "- 变量有作用范围限制\n",
    "- 分类：按照作用域\n",
    "    - 全局（global）变量：在函数外部定义\n",
    "    - 局部 （local）变量：在函数内部定义\n",
    "- 变量的作用范围\n",
    "    - 全局变量：在整个全局范围有效\n",
    "    - 全局变量（函数外定义的变量）可以在函数内部被访问\n",
    "    - 局部变量在局部范围可以使用\n",
    "    - 局部变量在全局范围无法使用\n",
    "    - 通俗来说，即“里边”可以访问“外边”，而“外边”不能访问“里边”\n",
    "- LEGB原则\n",
    "    - L（local）局部作用域\n",
    "    - E（Enclosing function locale）外部嵌套函数作用域\n",
    "    - G（Global module）函数定义所在模块作用域\n",
    "    - B（Buildin）：python内置模块的作用域"
   ]
  },
  {
   "cell_type": "code",
   "execution_count": 5,
   "metadata": {
    "collapsed": false
   },
   "outputs": [
    {
     "name": "stdout",
     "output_type": "stream",
     "text": [
      "100\n",
      "100\n",
      "I am in fun\n",
      "99\n",
      "199\n"
     ]
    }
   ],
   "source": [
    "# 变量作用域的示例\n",
    "a1=100 # a1 is a global variable\n",
    "def fun():\n",
    "    print(a1)\n",
    "    print(\"I am in fun\")\n",
    "    a2=99 # a2 is a local variable\n",
    "    print(a2)\n",
    "    a3=a1+a2\n",
    "    return a3\n",
    "    \n",
    "print(a1)\n",
    "# print(a2) # error \n",
    "# after tesing, one can not define a1 inside the fun fucntion \n",
    "# since it's already defined outside but a1 can be used inside the function\n",
    "\n",
    "print(fun())"
   ]
  },
  {
   "cell_type": "markdown",
   "metadata": {},
   "source": [
    "# 为一个定义在函数外的变量赋值\n",
    "- 或者说将局部变量转换为全局变量\n",
    "- 使用global\n",
    "- 注意，需要执行过函数才可"
   ]
  },
  {
   "cell_type": "code",
   "execution_count": 31,
   "metadata": {
    "collapsed": false
   },
   "outputs": [
    {
     "name": "stdout",
     "output_type": "stream",
     "text": [
      "200\n",
      "100\n",
      "200\n",
      "--------------------------------------------------\n",
      "test global\n",
      "None\n",
      "200\n",
      "300\n"
     ]
    }
   ],
   "source": [
    "# 为一个定义在函数外的变量赋值\n",
    "b1=100 # b1 is a global variable\n",
    "def fun():  \n",
    "    b1=200\n",
    "    return b1\n",
    "    \n",
    "print(fun())\n",
    "print(b1)\n",
    "\n",
    "b2=b1+100\n",
    "print(b2)\n",
    "\n",
    "\n",
    "# =======================================\n",
    "print(\"-\"*50)\n",
    "print(\"test global\")\n",
    "b1=500 # b1 is a global variable\n",
    "def fun():\n",
    "    global b1\n",
    "    b1=200\n",
    "    #return b1\n",
    "    \n",
    "print(fun())\n",
    "print(b1)\n",
    "\n",
    "b2=b1+100\n",
    "print(b2)\n",
    "\n",
    "# 经过上述测试，发现如果在函数里面将一个原本的局部变量前面加上global，\n",
    "# 则在函数内对他值得改变会影响到函数外部与其同名的变量的值\n",
    "# 如果不加global，则不会影响函数外同名变量的值"
   ]
  },
  {
   "cell_type": "markdown",
   "metadata": {},
   "source": [
    "# globals，locals函数\n",
    "- 可以通过这个两个函数显示出局部变量和全局变量\n",
    "- 这两个函数就是python 的内置函数（buildin）"
   ]
  },
  {
   "cell_type": "code",
   "execution_count": 42,
   "metadata": {
    "collapsed": true
   },
   "outputs": [],
   "source": [
    "# globals and locals\n",
    "a=1\n",
    "b=2\n",
    "def func(c,d):\n",
    "    e=c+d\n",
    "    print(\"locals={0}\".format(locals()))\n",
    "    print(\"globals={0}\".format(globals()))\n",
    "    \n",
    "# func(100,200)"
   ]
  },
  {
   "cell_type": "markdown",
   "metadata": {},
   "source": [
    "# eval()函数\n",
    "- 把字符串当成代码来执行\n",
    "- 语法：\n",
    "\n",
    "        eval(string_code, globals=None, locals=None)\n",
    "        \n",
    "# exec()函数\n",
    "- 跟eval功能类似，但是，不返回结果\n",
    "- 语法：\n",
    "\n",
    "        exec(string_code, globals=None, locals=None)"
   ]
  },
  {
   "cell_type": "code",
   "execution_count": 51,
   "metadata": {
    "collapsed": false
   },
   "outputs": [
    {
     "name": "stdout",
     "output_type": "stream",
     "text": [
      "x+y 30\n",
      "30\n",
      "30\n",
      "None\n",
      "None\n"
     ]
    },
    {
     "data": {
      "text/plain": [
       "'\\n奇怪，输出应该如下才是：\\n30\\n30\\nNone\\nx+y 30\\nNone\\n\\n为何x+y 30 会在输出的最前面？？\\n'"
      ]
     },
     "execution_count": 51,
     "metadata": {},
     "output_type": "execute_result"
    }
   ],
   "source": [
    "x=10\n",
    "y=20\n",
    "# 执行x+y\n",
    "z1=x+y\n",
    "z2=eval(\"x+y\")\n",
    "z3=exec(\"x+y\")\n",
    "\n",
    "# 注意字符串中引号的写法\n",
    "z4=exec(\"print('x+y',x+y)\")\n",
    "\n",
    "print(z1)\n",
    "print(z2)\n",
    "print(z3)\n",
    "print(z4)\n",
    "\n",
    "'''\n",
    "奇怪，输出应该如下才是：\n",
    "30\n",
    "30\n",
    "None\n",
    "x+y 30\n",
    "None\n",
    "\n",
    "为何x+y 30 会在输出的最前面？？\n",
    "'''\n",
    "\n"
   ]
  },
  {
   "cell_type": "markdown",
   "metadata": {},
   "source": [
    "# 递归函数\n",
    "- 函数直接或者间接的调用自身\n",
    "- 优点：简洁，容易理解\n",
    "- 缺点：对递归深度有限制，资源消耗大\n",
    "- python对递归的深度做了限制，超过这个限制会报错\n",
    "- 在写递归函数的时候，一定要注意结束条件"
   ]
  },
  {
   "cell_type": "code",
   "execution_count": 55,
   "metadata": {
    "collapsed": false
   },
   "outputs": [
    {
     "name": "stdout",
     "output_type": "stream",
     "text": [
      "1\n",
      "2\n",
      "3\n",
      "4\n",
      "5\n",
      "6\n",
      "7\n",
      "8\n",
      "9\n",
      "10\n",
      "11\n",
      "12\n",
      "13\n",
      "14\n",
      "15\n",
      "16\n",
      "17\n",
      "18\n",
      "19\n",
      "20\n",
      "21\n",
      "22\n",
      "23\n",
      "24\n",
      "25\n",
      "26\n",
      "27\n",
      "28\n",
      "29\n",
      "30\n",
      "31\n",
      "32\n",
      "33\n",
      "34\n",
      "35\n",
      "36\n",
      "37\n",
      "38\n",
      "39\n",
      "40\n",
      "41\n",
      "42\n",
      "43\n",
      "44\n",
      "45\n",
      "46\n",
      "47\n",
      "48\n",
      "49\n",
      "50\n",
      "51\n",
      "52\n",
      "53\n",
      "54\n",
      "55\n",
      "56\n",
      "57\n",
      "58\n",
      "59\n",
      "60\n",
      "61\n",
      "62\n",
      "63\n",
      "64\n",
      "65\n",
      "66\n",
      "67\n",
      "68\n",
      "69\n",
      "70\n",
      "71\n",
      "72\n",
      "73\n",
      "74\n",
      "75\n",
      "76\n",
      "77\n",
      "78\n",
      "79\n",
      "80\n",
      "81\n",
      "82\n",
      "83\n",
      "84\n",
      "85\n",
      "86\n",
      "87\n",
      "88\n",
      "89\n",
      "90\n",
      "91\n",
      "92\n",
      "93\n",
      "94\n",
      "95\n",
      "96\n",
      "97\n",
      "98\n",
      "99\n",
      "100\n",
      "101\n",
      "102\n",
      "103\n",
      "104\n",
      "105\n",
      "106\n",
      "107\n",
      "108\n",
      "109\n",
      "110\n",
      "111\n",
      "112\n",
      "113\n",
      "114\n",
      "115\n",
      "116\n",
      "117\n",
      "118\n",
      "119\n",
      "120\n",
      "121\n",
      "122\n",
      "123\n",
      "124\n",
      "125\n",
      "126\n",
      "127\n",
      "128\n",
      "129\n",
      "130\n",
      "131\n",
      "132\n",
      "133\n",
      "134\n",
      "135\n",
      "136\n",
      "137\n",
      "138\n",
      "139\n",
      "140\n",
      "141\n",
      "142\n",
      "143\n",
      "144\n",
      "145\n",
      "146\n",
      "147\n",
      "148\n",
      "149\n",
      "150\n",
      "151\n",
      "152\n",
      "153\n",
      "154\n",
      "155\n",
      "156\n",
      "157\n",
      "158\n",
      "159\n",
      "160\n",
      "161\n",
      "162\n",
      "163\n",
      "164\n",
      "165\n",
      "166\n",
      "167\n",
      "168\n",
      "169\n",
      "170\n",
      "171\n",
      "172\n",
      "173\n",
      "174\n",
      "175\n",
      "176\n",
      "177\n",
      "178\n",
      "179\n",
      "180\n",
      "181\n",
      "182\n",
      "183\n",
      "184\n",
      "185\n",
      "186\n",
      "187\n",
      "188\n",
      "189\n",
      "190\n",
      "191\n",
      "192\n",
      "193\n",
      "194\n",
      "195\n",
      "196\n",
      "197\n",
      "198\n",
      "199\n",
      "200\n",
      "201\n",
      "202\n",
      "203\n",
      "204\n",
      "205\n",
      "206\n",
      "207\n",
      "208\n",
      "209\n",
      "210\n",
      "211\n",
      "212\n",
      "213\n",
      "214\n",
      "215\n",
      "216\n",
      "217\n",
      "218\n",
      "219\n",
      "220\n",
      "221\n",
      "222\n",
      "223\n",
      "224\n",
      "225\n",
      "226\n",
      "227\n",
      "228\n",
      "229\n",
      "230\n",
      "231\n",
      "232\n",
      "233\n",
      "234\n",
      "235\n",
      "236\n",
      "237\n",
      "238\n",
      "239\n",
      "240\n",
      "241\n",
      "242\n",
      "243\n",
      "244\n",
      "245\n",
      "246\n",
      "247\n",
      "248\n",
      "249\n",
      "250\n",
      "251\n",
      "252\n",
      "253\n",
      "254\n",
      "255\n",
      "256\n",
      "257\n",
      "258\n",
      "259\n",
      "260\n",
      "261\n",
      "262\n",
      "263\n",
      "264\n",
      "265\n",
      "266\n",
      "267\n",
      "268\n",
      "269\n",
      "270\n",
      "271\n",
      "272\n",
      "273\n",
      "274\n",
      "275\n",
      "276\n",
      "277\n",
      "278\n",
      "279\n",
      "280\n",
      "281\n",
      "282\n",
      "283\n",
      "284\n",
      "285\n",
      "286\n",
      "287\n",
      "288\n",
      "289\n",
      "290\n",
      "291\n",
      "292\n",
      "293\n",
      "294\n",
      "295\n",
      "296\n",
      "297\n",
      "298\n",
      "299\n",
      "300\n",
      "301\n",
      "302\n",
      "303\n",
      "304\n",
      "305\n",
      "306\n",
      "307\n",
      "308\n",
      "309\n",
      "310\n",
      "311\n",
      "312\n",
      "313\n",
      "314\n",
      "315\n",
      "316\n",
      "317\n",
      "318\n",
      "319\n",
      "320\n",
      "321\n",
      "322\n",
      "323\n",
      "324\n",
      "325\n",
      "326\n",
      "327\n",
      "328\n",
      "329\n",
      "330\n",
      "331\n",
      "332\n",
      "333\n",
      "334\n",
      "335\n",
      "336\n",
      "337\n",
      "338\n",
      "339\n",
      "340\n",
      "341\n",
      "342\n",
      "343\n",
      "344\n",
      "345\n",
      "346\n",
      "347\n",
      "348\n",
      "349\n",
      "350\n",
      "351\n",
      "352\n",
      "353\n",
      "354\n",
      "355\n",
      "356\n",
      "357\n",
      "358\n",
      "359\n",
      "360\n",
      "361\n",
      "362\n",
      "363\n",
      "364\n",
      "365\n",
      "366\n",
      "367\n",
      "368\n",
      "369\n",
      "370\n",
      "371\n",
      "372\n",
      "373\n",
      "374\n",
      "375\n",
      "376\n",
      "377\n",
      "378\n",
      "379\n",
      "380\n",
      "381\n",
      "382\n",
      "383\n",
      "384\n",
      "385\n",
      "386\n",
      "387\n",
      "388\n",
      "389\n",
      "390\n",
      "391\n",
      "392\n",
      "393\n",
      "394\n",
      "395\n",
      "396\n",
      "397\n",
      "398\n",
      "399\n",
      "400\n",
      "401\n",
      "402\n",
      "403\n",
      "404\n",
      "405\n",
      "406\n",
      "407\n",
      "408\n",
      "409\n",
      "410\n",
      "411\n",
      "412\n",
      "413\n",
      "414\n",
      "415\n",
      "416\n",
      "417\n",
      "418\n",
      "419\n",
      "420\n",
      "421\n",
      "422\n",
      "423\n",
      "424\n",
      "425\n",
      "426\n",
      "427\n",
      "428\n",
      "429\n",
      "430\n",
      "431\n",
      "432\n",
      "433\n",
      "434\n",
      "435\n",
      "436\n",
      "437\n",
      "438\n",
      "439\n",
      "440\n",
      "441\n",
      "442\n",
      "443\n",
      "444\n",
      "445\n",
      "446\n",
      "447\n",
      "448\n",
      "449\n",
      "450\n",
      "451\n",
      "452\n",
      "453\n",
      "454\n",
      "455\n",
      "456\n",
      "457\n",
      "458\n",
      "459\n",
      "460\n",
      "461\n",
      "462\n",
      "463\n",
      "464\n",
      "465\n",
      "466\n",
      "467\n",
      "468\n",
      "469\n",
      "470\n",
      "471\n",
      "472\n",
      "473\n",
      "474\n",
      "475\n",
      "476\n",
      "477\n",
      "478\n",
      "479\n",
      "480\n",
      "481\n",
      "482\n",
      "483\n",
      "484\n",
      "485\n",
      "486\n",
      "487\n",
      "488\n",
      "489\n",
      "490\n",
      "491\n",
      "492\n",
      "493\n",
      "494\n",
      "495\n",
      "496\n",
      "497\n",
      "498\n",
      "499\n",
      "500\n",
      "501\n",
      "502\n",
      "503\n",
      "504\n",
      "505\n",
      "506\n",
      "507\n",
      "508\n",
      "509\n",
      "510\n",
      "511\n",
      "512\n",
      "513\n",
      "514\n",
      "515\n",
      "516\n",
      "517\n",
      "518\n",
      "519\n",
      "520\n",
      "521\n",
      "522\n",
      "523\n",
      "524\n",
      "525\n",
      "526\n",
      "527\n",
      "528\n",
      "529\n",
      "530\n",
      "531\n",
      "532\n",
      "533\n",
      "534\n",
      "535\n",
      "536\n",
      "537\n",
      "538\n",
      "539\n",
      "540\n",
      "541\n",
      "542\n",
      "543\n",
      "544\n",
      "545\n",
      "546\n",
      "547\n",
      "548\n",
      "549\n",
      "550\n",
      "551\n",
      "552\n",
      "553\n",
      "554\n",
      "555\n",
      "556\n",
      "557\n",
      "558\n",
      "559\n",
      "560\n",
      "561\n",
      "562\n",
      "563\n",
      "564\n",
      "565\n",
      "566\n",
      "567\n",
      "568\n",
      "569\n",
      "570\n",
      "571\n",
      "572\n",
      "573\n",
      "574\n",
      "575\n",
      "576\n",
      "577\n",
      "578\n",
      "579\n",
      "580\n",
      "581\n",
      "582\n",
      "583\n",
      "584\n",
      "585\n",
      "586\n",
      "587\n",
      "588\n",
      "589\n",
      "590\n",
      "591\n",
      "592\n",
      "593\n",
      "594\n",
      "595\n",
      "596\n",
      "597\n",
      "598\n",
      "599\n",
      "600\n",
      "601\n",
      "602\n",
      "603\n",
      "604\n",
      "605\n",
      "606\n",
      "607\n",
      "608\n",
      "609\n",
      "610\n",
      "611\n",
      "612\n",
      "613\n",
      "614\n",
      "615\n",
      "616\n",
      "617\n",
      "618\n",
      "619\n",
      "620\n",
      "621\n",
      "622\n",
      "623\n",
      "624\n",
      "625\n",
      "626\n",
      "627\n",
      "628\n",
      "629\n",
      "630\n",
      "631\n",
      "632\n",
      "633\n",
      "634\n",
      "635\n",
      "636\n",
      "637\n",
      "638\n",
      "639\n",
      "640\n",
      "641\n",
      "642\n",
      "643\n",
      "644\n",
      "645\n",
      "646\n",
      "647\n",
      "648\n",
      "649\n",
      "650\n",
      "651\n",
      "652\n",
      "653\n",
      "654\n",
      "655\n",
      "656\n",
      "657\n",
      "658\n",
      "659\n",
      "660\n",
      "661\n",
      "662\n",
      "663\n",
      "664\n",
      "665\n",
      "666\n",
      "667\n",
      "668\n",
      "669\n",
      "670\n",
      "671\n",
      "672\n",
      "673\n",
      "674\n",
      "675\n",
      "676\n",
      "677\n",
      "678\n",
      "679\n",
      "680\n",
      "681\n",
      "682\n",
      "683\n",
      "684\n",
      "685\n",
      "686\n",
      "687\n",
      "688\n",
      "689\n",
      "690\n",
      "691\n",
      "692\n",
      "693\n",
      "694\n",
      "695\n",
      "696\n",
      "697\n",
      "698\n",
      "699\n",
      "700\n",
      "701\n",
      "702\n",
      "703\n",
      "704\n",
      "705\n",
      "706\n",
      "707\n",
      "708\n",
      "709\n",
      "710\n",
      "711\n",
      "712\n",
      "713\n",
      "714\n",
      "715\n",
      "716\n",
      "717\n",
      "718\n",
      "719\n",
      "720\n",
      "721\n",
      "722\n",
      "723\n",
      "724\n",
      "725\n",
      "726\n",
      "727\n",
      "728\n",
      "729\n",
      "730\n",
      "731\n",
      "732\n",
      "733\n",
      "734\n",
      "735\n",
      "736\n",
      "737\n",
      "738\n",
      "739\n",
      "740\n",
      "741\n",
      "742\n",
      "743\n",
      "744\n",
      "745\n",
      "746\n",
      "747\n",
      "748\n",
      "749\n",
      "750\n",
      "751\n",
      "752\n",
      "753\n",
      "754\n",
      "755\n",
      "756\n",
      "757\n",
      "758\n",
      "759\n",
      "760\n",
      "761\n",
      "762\n",
      "763\n",
      "764\n",
      "765\n",
      "766\n",
      "767\n",
      "768\n",
      "769\n",
      "770\n",
      "771\n",
      "772\n",
      "773\n",
      "774\n",
      "775\n",
      "776\n",
      "777\n",
      "778\n",
      "779\n",
      "780\n",
      "781\n",
      "782\n",
      "783\n",
      "784\n",
      "785\n",
      "786\n",
      "787\n",
      "788\n",
      "789\n",
      "790\n",
      "791\n",
      "792\n",
      "793\n",
      "794\n",
      "795\n",
      "796\n",
      "797\n",
      "798\n",
      "799\n",
      "800\n",
      "801\n",
      "802\n",
      "803\n",
      "804\n",
      "805\n",
      "806\n",
      "807\n",
      "808\n",
      "809\n",
      "810\n",
      "811\n",
      "812\n",
      "813\n",
      "814\n",
      "815\n",
      "816\n",
      "817\n",
      "818\n",
      "819\n",
      "820\n",
      "821\n",
      "822\n",
      "823\n",
      "824\n",
      "825\n",
      "826\n",
      "827\n",
      "828\n",
      "829\n",
      "830\n",
      "831\n",
      "832\n",
      "833\n",
      "834\n",
      "835\n",
      "836\n",
      "837\n",
      "838\n",
      "839\n",
      "840\n",
      "841\n",
      "842\n",
      "843\n",
      "844\n",
      "845\n",
      "846\n",
      "847\n",
      "848\n",
      "849\n",
      "850\n",
      "851\n",
      "852\n",
      "853\n",
      "854\n",
      "855\n",
      "856\n",
      "857\n",
      "858\n",
      "859\n",
      "860\n",
      "861\n",
      "862\n",
      "863\n",
      "864\n",
      "865\n",
      "866\n",
      "867\n",
      "868\n",
      "869\n",
      "870\n",
      "871\n",
      "872\n",
      "873\n",
      "874\n",
      "875\n",
      "876\n",
      "877\n",
      "878\n",
      "879\n",
      "880\n",
      "881\n",
      "882\n",
      "883\n",
      "884\n",
      "885\n",
      "886\n",
      "887\n",
      "888\n",
      "889\n",
      "890\n",
      "891\n",
      "892\n",
      "893\n",
      "894\n",
      "895\n",
      "896\n",
      "897\n",
      "898\n",
      "899\n",
      "900\n",
      "901\n",
      "902\n",
      "903\n",
      "904\n",
      "905\n",
      "906\n",
      "907\n",
      "908\n",
      "909\n",
      "910\n",
      "911\n",
      "912\n",
      "913\n",
      "914\n",
      "915\n",
      "916\n",
      "917\n",
      "918\n",
      "919\n",
      "920\n",
      "921\n",
      "922\n",
      "923\n",
      "924\n",
      "925\n",
      "926\n",
      "927\n",
      "928\n",
      "929\n",
      "930\n",
      "931\n",
      "932\n",
      "933\n",
      "934\n",
      "935\n",
      "936\n",
      "937\n",
      "938\n",
      "939\n",
      "940\n",
      "941\n",
      "942\n",
      "943\n",
      "944\n",
      "945\n",
      "946\n",
      "947\n",
      "948\n",
      "949\n",
      "950\n",
      "951\n",
      "952\n",
      "953\n",
      "954\n",
      "955\n",
      "956\n",
      "957\n",
      "958\n",
      "959\n",
      "960\n",
      "961\n",
      "962\n",
      "963\n",
      "964\n",
      "965\n",
      "966\n",
      "967\n",
      "968\n",
      "969\n"
     ]
    },
    {
     "ename": "RecursionError",
     "evalue": "maximum recursion depth exceeded in comparison",
     "output_type": "error",
     "traceback": [
      "\u001b[0;31m---------------------------------------------------------------------------\u001b[0m",
      "\u001b[0;31mRecursionError\u001b[0m                            Traceback (most recent call last)",
      "\u001b[0;32m<ipython-input-55-ffa988518413>\u001b[0m in \u001b[0;36m<module>\u001b[0;34m()\u001b[0m\n\u001b[1;32m      8\u001b[0m \u001b[1;33m\u001b[0m\u001b[0m\n\u001b[1;32m      9\u001b[0m \u001b[1;31m# 调用函数\u001b[0m\u001b[1;33m\u001b[0m\u001b[1;33m\u001b[0m\u001b[0m\n\u001b[0;32m---> 10\u001b[0;31m \u001b[0mfun\u001b[0m\u001b[1;33m(\u001b[0m\u001b[1;33m)\u001b[0m\u001b[1;33m\u001b[0m\u001b[0m\n\u001b[0m\u001b[1;32m     11\u001b[0m \u001b[0mprint\u001b[0m\u001b[1;33m(\u001b[0m\u001b[0mx\u001b[0m\u001b[1;33m)\u001b[0m\u001b[1;33m\u001b[0m\u001b[0m\n\u001b[1;32m     12\u001b[0m \u001b[1;31m# 到第969次后报错，达到最大递归深度上限\u001b[0m\u001b[1;33m\u001b[0m\u001b[1;33m\u001b[0m\u001b[0m\n",
      "\u001b[0;32m<ipython-input-55-ffa988518413>\u001b[0m in \u001b[0;36mfun\u001b[0;34m()\u001b[0m\n\u001b[1;32m      5\u001b[0m     \u001b[0mx\u001b[0m\u001b[1;33m+=\u001b[0m\u001b[1;36m1\u001b[0m\u001b[1;33m\u001b[0m\u001b[0m\n\u001b[1;32m      6\u001b[0m     \u001b[0mprint\u001b[0m\u001b[1;33m(\u001b[0m\u001b[0mx\u001b[0m\u001b[1;33m)\u001b[0m\u001b[1;33m\u001b[0m\u001b[0m\n\u001b[0;32m----> 7\u001b[0;31m     \u001b[0mfun\u001b[0m\u001b[1;33m(\u001b[0m\u001b[1;33m)\u001b[0m\u001b[1;33m\u001b[0m\u001b[0m\n\u001b[0m\u001b[1;32m      8\u001b[0m \u001b[1;33m\u001b[0m\u001b[0m\n\u001b[1;32m      9\u001b[0m \u001b[1;31m# 调用函数\u001b[0m\u001b[1;33m\u001b[0m\u001b[1;33m\u001b[0m\u001b[0m\n",
      "... last 1 frames repeated, from the frame below ...\n",
      "\u001b[0;32m<ipython-input-55-ffa988518413>\u001b[0m in \u001b[0;36mfun\u001b[0;34m()\u001b[0m\n\u001b[1;32m      5\u001b[0m     \u001b[0mx\u001b[0m\u001b[1;33m+=\u001b[0m\u001b[1;36m1\u001b[0m\u001b[1;33m\u001b[0m\u001b[0m\n\u001b[1;32m      6\u001b[0m     \u001b[0mprint\u001b[0m\u001b[1;33m(\u001b[0m\u001b[0mx\u001b[0m\u001b[1;33m)\u001b[0m\u001b[1;33m\u001b[0m\u001b[0m\n\u001b[0;32m----> 7\u001b[0;31m     \u001b[0mfun\u001b[0m\u001b[1;33m(\u001b[0m\u001b[1;33m)\u001b[0m\u001b[1;33m\u001b[0m\u001b[0m\n\u001b[0m\u001b[1;32m      8\u001b[0m \u001b[1;33m\u001b[0m\u001b[0m\n\u001b[1;32m      9\u001b[0m \u001b[1;31m# 调用函数\u001b[0m\u001b[1;33m\u001b[0m\u001b[1;33m\u001b[0m\u001b[0m\n",
      "\u001b[0;31mRecursionError\u001b[0m: maximum recursion depth exceeded in comparison"
     ]
    }
   ],
   "source": [
    "# 递归函数调用深度限制代码\n",
    "x=0\n",
    "def fun():\n",
    "    global x\n",
    "    x+=1\n",
    "    print(x)\n",
    "    fun()\n",
    "    \n",
    "# 调用函数\n",
    "fun()\n",
    "print(x)\n",
    "# 到第969次后报错，达到最大递归深度上限\n",
    "# RecursionError: maximum recursion depth exceeded in comparison"
   ]
  },
  {
   "cell_type": "code",
   "execution_count": 1,
   "metadata": {
    "collapsed": false
   },
   "outputs": [
    {
     "name": "stdout",
     "output_type": "stream",
     "text": [
      "[1, 1, 2, 3, 5, 8, 13, 21, 34, 55]\n",
      "None\n"
     ]
    }
   ],
   "source": [
    "# 斐波那契额数列\n",
    "# 一列数字，第一个数字1，第二个也是1，从地上那个开始，每个数字的值等于前两个数字出现的值得和\n",
    "# 数学公式为：f(1)=1,f(2)=1,f(n)=f(n-1)+f(n-2)\n",
    "# 例如：1,1,2,3,5,8,13.。。。。\n",
    "\n",
    "# ---------------------\n",
    "# 1. 用for循环，求斐波那契额数列\n",
    "\n",
    "def fib1(loop):\n",
    "    l=[]\n",
    "    l.append(1)\n",
    "    l.append(1)\n",
    "    for i in range(2,loop):\n",
    "        l.append(l[i-1]+l[i-2])\n",
    "    return l\n",
    "\n",
    "l1=fib1(10)\n",
    "print(l1)\n",
    "\n",
    "# ------------------------\n",
    "# 2. 用递归，求斐波那契额数值\n",
    "# n:表示第n个数字的斐波那契额数列的值\n",
    "def fib(n):\n",
    "    if n>=0:\n",
    "        if n==1:\n",
    "            return 1\n",
    "        if n==2:\n",
    "            return 1\n",
    "        return fib(n-1)+fib(n-2)\n",
    "    else:\n",
    "        return\n",
    "\n",
    "print(fib(-1))    \n",
    "        \n",
    "    "
   ]
  },
  {
   "cell_type": "markdown",
   "metadata": {},
   "source": [
    "# 经典递归，汉诺塔问题\n",
    "\n",
    "- A处有一叠盘子，按照一定的规则，中间有个B塔，移动到C处\n",
    "- 规则：\n",
    "    - 1.一次只能移动一个盘子\n",
    "    - 2.任意一次移动，三个塔的状态，必须是大盘子在下面，小盘子在上面\n",
    "- 方法：\n",
    "    - n=盘子数量\n",
    "    - n=1: 直接把A上的一个盘子放到C上:\n",
    "    - n=2：\n",
    "        - 1.把小盘子从A放到B\n",
    "        - 2.把大盘子从A放到C\n",
    "        - 3.把B上的小盘子放到C\n",
    "    - n=3：\n",
    "        - 1.把A上的两个盘子，通过C移动到B上，调用递归实现\n",
    "        - 2.把A上剩下的一个最大盘子移动到C上\n",
    "        - 3.把B上两个盘子，借助于A，移到C上，调用递归算法\n",
    "    - n=n：\n",
    "        - 1.把A上的n-1个盘子，借助于C，移到B，调用递归\n",
    "        - 2.把A上最大的盘子，也是剩下唯一一个盘子，移到C\n",
    "        - 3.把B上的n-1个盘子，借助A，移到C，调用递归"
   ]
  },
  {
   "cell_type": "code",
   "execution_count": 11,
   "metadata": {
    "collapsed": false
   },
   "outputs": [
    {
     "name": "stdout",
     "output_type": "stream",
     "text": [
      "A --> B\n",
      "A --> C\n",
      "B --> C\n"
     ]
    }
   ],
   "source": [
    "def hano(n,a,b,c):\n",
    "    if n==1:\n",
    "        print(a,\"-->\",c)\n",
    "        return\n",
    "# n=2的这部分可以注释掉，也不影响函数功能，放在这里是为了便于理解汉诺塔的移动步骤\n",
    "#     if n==2:  \n",
    "#         print(a,\"-->\",b)\n",
    "#         print(a,\"-->\",c)\n",
    "#         print(b,\"-->\",c)\n",
    "#         return\n",
    "   \n",
    "    hano(n-1,a,c,b)\n",
    "    hano(1,a,b,c)\n",
    "    hano(n-1,b,a,c)\n",
    "    return\n",
    "\n",
    "# 调用\n",
    "a=\"A\"\n",
    "b=\"B\"\n",
    "c=\"C\"\n",
    "hano(2,a,b,c)"
   ]
  },
  {
   "cell_type": "markdown",
   "metadata": {},
   "source": [
    "# 内置数据结构（变量类型）\n",
    "- list\n",
    "- set\n",
    "- dit\n",
    "- tuple\n",
    "## list(列表)\n",
    "- 一组有顺序数据的组合，list中的元素有先后顺序\n",
    "- 创建列表\n",
    "    - 空列表： l=[], l=list()\n",
    "    - 带值列表：l=[1,2,3,4]\n",
    "- 列表的操作\n",
    "    - 访问列表元素\n",
    "        - 使用下标/索引来获取\n",
    "        - python中，列表的位置从0开始\n",
    "    - 分片操作\n",
    "        - 对列表进行任意一段的截取\n",
    "        - l[a:b],a,b为下标\n",
    "        - 间隔截取，l[a:b:step],a,b为下标，step为步长，默认是1\n",
    "            -下标可以超出范围，超出后不再考虑多余的下标内容\n",
    "        - 分片操作是生成一个新的list\n",
    "        \n",
    "    "
   ]
  },
  {
   "cell_type": "code",
   "execution_count": 86,
   "metadata": {
    "collapsed": false
   },
   "outputs": [
    {
     "name": "stdout",
     "output_type": "stream",
     "text": [
      "[]\n",
      "<class 'list'>\n",
      "[]\n",
      "<class 'list'>\n",
      "[1, 2, 3, 4]\n",
      "<class 'list'>\n"
     ]
    }
   ],
   "source": [
    "# 创建列表\n",
    "l1=[]\n",
    "print(l1)\n",
    "print(type(l1))\n",
    "\n",
    "l2=list()\n",
    "print(l2)\n",
    "print(type(l2))\n",
    "\n",
    "l3=[1,2,3,4]\n",
    "print(l3)\n",
    "print(type(l3))"
   ]
  },
  {
   "cell_type": "code",
   "execution_count": 89,
   "metadata": {
    "collapsed": false
   },
   "outputs": [
    {
     "name": "stdout",
     "output_type": "stream",
     "text": [
      "5\n"
     ]
    }
   ],
   "source": [
    "# 列表元素的访问\n",
    "l=[1,2,3,4,5,6,7]\n",
    "# 获取第5个元素的值\n",
    "print(l[4]) # 注意这里对应的下标应该是4"
   ]
  },
  {
   "cell_type": "code",
   "execution_count": 118,
   "metadata": {
    "collapsed": false
   },
   "outputs": [
    {
     "name": "stdout",
     "output_type": "stream",
     "text": [
      "[4, 5, 6, 7]\n",
      "[1, 2, 3, 4, 5, 6, 7]\n",
      "[1, 2, 3, 4, 5]\n",
      "[3, 4, 5, 6, 7]\n",
      "[2, 4, 6]\n",
      "[1, 4, 7]\n",
      "[7]\n",
      "6\n",
      "--------------------------------------------------\n",
      "[1, 2, 3, 4, 5, 6, 7]\n",
      "[]\n",
      "[4, 5]\n",
      "[6, 5]\n",
      "[7, 6, 5, 4, 3, 2, 1]\n"
     ]
    }
   ],
   "source": [
    "# 列表的分片操作\n",
    "l=[1,2,3,4,5,6,7]\n",
    "# 获取从第4到第7个元素的值\n",
    "# 所以，这里，左边下标应该-1（这里，4-1=3），因为列表从0开始数\n",
    "# 右边下标值不变，其实是7-1+1\n",
    "print(l[3:7]) \n",
    "\n",
    "# 分片时候，下标值可以为空\n",
    "# 左边为空，表示从列表第一个值开始\n",
    "# 右边为空，表示截取到列表最后一个数值\n",
    "# 如下，截取全部，则左右下标值都为空\n",
    "print(l[:])\n",
    "\n",
    "# 若要截取列表第一个到第五个的值\n",
    "print(l[:5])\n",
    "\n",
    "# 若要截取列表第三个到最后一个的值\n",
    "print(l[2:])\n",
    "\n",
    "# 间隔截取\n",
    "# 如下间隔打印从第二个到第六个数值\n",
    "print(l[1:6:2])\n",
    "print(l[0:10:3]) # 这里尽管下标10超出list的下标范围，但也无妨\n",
    "\n",
    "print(l[-1:10:2]) # 注意，下标-1代表最后一个元素,即倒数第一个元素\n",
    "print(l[-2]) # 下标-2代表倒数第二个\n",
    "\n",
    "# 分片之负数下标\n",
    "print(\"-\"*50)\n",
    "print(l)\n",
    "print(l[-2:-4])\n",
    "# 显示结果为空，因为默认分片总是从左向右截取\n",
    "# 即正常情况下，分片左边的下标值一定要小于右边\n",
    "print(l[-4:-2])\n",
    "\n",
    "# 或者也可以这样,若果左边的下标大于右边，步长设为负数即可\n",
    "# 不过，截取的结果，顺序跟原序列相比，颠倒了\n",
    "print(l[-2:-4:-1])\n",
    "# 这位list的直接元素顺序正反颠倒提供了一种思路\n",
    "print(l[-1:-10:-1])"
   ]
  },
  {
   "cell_type": "code",
   "execution_count": 121,
   "metadata": {
    "collapsed": false
   },
   "outputs": [
    {
     "name": "stdout",
     "output_type": "stream",
     "text": [
      "1867546352\n",
      "1867549552\n",
      "1867546352\n",
      "101\n",
      "100\n"
     ]
    }
   ],
   "source": [
    "# 内置函数id函数，负责显示一个变量或者数据的唯一确定编号\n",
    "a=100\n",
    "b=200\n",
    "c=a\n",
    "\n",
    "print(id(a))\n",
    "print(id(b))\n",
    "print(id(c))\n",
    "\n",
    "# 说明a和b不是指向同一个东西\n",
    "# 然而，a和c指向同一个东西\n",
    "\n",
    "a=101\n",
    "print(a)\n",
    "print(c)\n",
    "# 这里，为什么更改a的值，不会影响c的值呢？？？"
   ]
  },
  {
   "cell_type": "code",
   "execution_count": 12,
   "metadata": {
    "collapsed": false
   },
   "outputs": [
    {
     "name": "stdout",
     "output_type": "stream",
     "text": [
      "93625032\n",
      "93623368\n",
      "--------------------------------------------------\n",
      "93623368\n",
      "93623368\n",
      "--------------------------------------------------\n",
      "93625032\n",
      "93623368\n",
      "93623368\n",
      "[1, 100, 3, 4, 8, 9, 10]\n",
      "[1, 2, 3, 4, 8, 9, 10]\n",
      "[1, 2, 3, 4, 8, 9, 10]\n"
     ]
    }
   ],
   "source": [
    "# 通过id函数判断分片操作是否是重新生成一份数据还是使用同一份数据\n",
    "l=[1,2,3,4,8,9,10]\n",
    "l1=l[:]\n",
    "# 如果两个id一样，则表明分片产生的列表使用的是同一地址同一份数据\n",
    "# 否则，分片是重新生成一个新的列表，把截取的值放入新的列表中\n",
    "print(id(l))\n",
    "print(id(l1))\n",
    "# 结果表明l和l1是两个不同的列表\n",
    "\n",
    "#-------------------\n",
    "print(\"-\"*50)\n",
    "l2=l1\n",
    "print(id(l1))\n",
    "print(id(l2))\n",
    "# 结果表明l1和12是指向同一份数据\n",
    "\n",
    "#------------------\n",
    "print(\"-\"*50)\n",
    "l[1]=100\n",
    "print(id(l))\n",
    "print(id(l1))\n",
    "print(id(l2))\n",
    "print(l)\n",
    "print(l1)\n",
    "print(l2)\n"
   ]
  },
  {
   "cell_type": "markdown",
   "metadata": {},
   "source": [
    "# 列表的其他操作\n",
    "- del：删除命令"
   ]
  },
  {
   "cell_type": "code",
   "execution_count": 14,
   "metadata": {
    "collapsed": false
   },
   "outputs": [
    {
     "name": "stdout",
     "output_type": "stream",
     "text": [
      "[1, 2, 4, 5, 6]\n"
     ]
    }
   ],
   "source": [
    "# del删除\n",
    "a = [1,2,3,4,5,6]\n",
    "del a[2]\n",
    "print(a)"
   ]
  },
  {
   "cell_type": "code",
   "execution_count": 16,
   "metadata": {
    "collapsed": false
   },
   "outputs": [
    {
     "name": "stdout",
     "output_type": "stream",
     "text": [
      "93860168\n",
      "93860168\n",
      "[1, 2, 4, 5, 6]\n"
     ]
    }
   ],
   "source": [
    "# del删除过程中发生了什么\n",
    "a = [1,2,3,4,5,6]\n",
    "print(id(a))\n",
    "del a[2]\n",
    "print(id(a))\n",
    "print(a)\n",
    "# 可以发现，删除的过程是原地删除，即没有生成新的列表"
   ]
  },
  {
   "cell_type": "code",
   "execution_count": 6,
   "metadata": {
    "collapsed": false
   },
   "outputs": [
    {
     "name": "stdout",
     "output_type": "stream",
     "text": [
      "[1, 2, 3, 4, 5]\n",
      "77675720\n",
      "[1, 2, 3, 4, 5]\n",
      "77675720\n",
      "[1, 2, 4, 5]\n",
      "77675720\n",
      "[1, 2, 4, 5]\n",
      "77675720\n"
     ]
    }
   ],
   "source": [
    "# 再看一个例子\n",
    "a=[1,2,3,4,5]\n",
    "print(a)\n",
    "print(id(a))\n",
    "\n",
    "b=a\n",
    "print(b)\n",
    "print(id(b))\n",
    "\n",
    "del b[2]\n",
    "print(b)\n",
    "print(id(b))\n",
    "\n",
    "print(a)\n",
    "print(id(a))\n"
   ]
  },
  {
   "cell_type": "code",
   "execution_count": 18,
   "metadata": {
    "collapsed": false
   },
   "outputs": [
    {
     "ename": "NameError",
     "evalue": "name 'a' is not defined",
     "output_type": "error",
     "traceback": [
      "\u001b[1;31m---------------------------------------------------------------------------\u001b[0m",
      "\u001b[1;31mNameError\u001b[0m                                 Traceback (most recent call last)",
      "\u001b[1;32m<ipython-input-18-97a47e2b48a1>\u001b[0m in \u001b[0;36m<module>\u001b[1;34m()\u001b[0m\n\u001b[0;32m      1\u001b[0m \u001b[1;31m# 一旦删除一个变量，不能再继续使用这个变量\u001b[0m\u001b[1;33m\u001b[0m\u001b[1;33m\u001b[0m\u001b[0m\n\u001b[1;32m----> 2\u001b[1;33m \u001b[1;32mdel\u001b[0m \u001b[0ma\u001b[0m\u001b[1;33m\u001b[0m\u001b[0m\n\u001b[0m\u001b[0;32m      3\u001b[0m \u001b[0mprint\u001b[0m\u001b[1;33m(\u001b[0m\u001b[0ma\u001b[0m\u001b[1;33m)\u001b[0m\u001b[1;33m\u001b[0m\u001b[0m\n",
      "\u001b[1;31mNameError\u001b[0m: name 'a' is not defined"
     ]
    }
   ],
   "source": [
    "# 一旦删除一个变量，不能再继续使用这个变量\n",
    "del a\n",
    "print(a)"
   ]
  },
  {
   "cell_type": "markdown",
   "metadata": {},
   "source": [
    "# 列表相加\n",
    "- 使用加号连接两个列表"
   ]
  },
  {
   "cell_type": "code",
   "execution_count": 20,
   "metadata": {
    "collapsed": false
   },
   "outputs": [
    {
     "name": "stdout",
     "output_type": "stream",
     "text": [
      "[1, 2, 3, 4, 5, 5, 6, 7, 8, 9, 'a', 'b', 'c']\n"
     ]
    }
   ],
   "source": [
    "a=[1,2,3,4,5]\n",
    "b=[5,6,7,8,9]\n",
    "c=[\"a\",\"b\",\"c\"]\n",
    "d=a+b+c\n",
    "print(d)"
   ]
  },
  {
   "cell_type": "markdown",
   "metadata": {},
   "source": [
    "# 列表相乘\n",
    "- 列表直接和整数相乘\n",
    "- 相当于把n个列表接在一起"
   ]
  },
  {
   "cell_type": "code",
   "execution_count": 22,
   "metadata": {
    "collapsed": false
   },
   "outputs": [
    {
     "name": "stdout",
     "output_type": "stream",
     "text": [
      "[1, 2, 3, 4, 5, 1, 2, 3, 4, 5, 1, 2, 3, 4, 5]\n"
     ]
    }
   ],
   "source": [
    "a=[1,2,3,4,5]\n",
    "b=a*3\n",
    "print(b)"
   ]
  },
  {
   "cell_type": "markdown",
   "metadata": {},
   "source": [
    "# 成员资格运算\n",
    "- 即判断一个元素是否是属于一个列表\n",
    "- 用 in，not in"
   ]
  },
  {
   "cell_type": "code",
   "execution_count": 26,
   "metadata": {
    "collapsed": false
   },
   "outputs": [
    {
     "name": "stdout",
     "output_type": "stream",
     "text": [
      "True\n"
     ]
    }
   ],
   "source": [
    "a=[1,2,3,4,5]\n",
    "b=4\n",
    "c=b in a # c是布尔值\n",
    "print(c)"
   ]
  },
  {
   "cell_type": "code",
   "execution_count": 28,
   "metadata": {
    "collapsed": false
   },
   "outputs": [
    {
     "name": "stdout",
     "output_type": "stream",
     "text": [
      "False\n"
     ]
    }
   ],
   "source": [
    "a=[1,2,3,4,5]\n",
    "b=4\n",
    "c=b not in a # c是布尔值\n",
    "print(c)"
   ]
  },
  {
   "cell_type": "markdown",
   "metadata": {},
   "source": [
    "# 列表的遍历\n",
    "- for\n",
    "- while"
   ]
  },
  {
   "cell_type": "code",
   "execution_count": 30,
   "metadata": {
    "collapsed": false
   },
   "outputs": [
    {
     "name": "stdout",
     "output_type": "stream",
     "text": [
      "1\n",
      "2\n",
      "3\n",
      "4\n",
      "5\n"
     ]
    }
   ],
   "source": [
    "# for in list\n",
    "# 挨个打印a中的元素\n",
    "a=[1,2,3,4,5]\n",
    "for i in a:\n",
    "    print(i)\n"
   ]
  },
  {
   "cell_type": "code",
   "execution_count": 33,
   "metadata": {
    "collapsed": false
   },
   "outputs": [
    {
     "name": "stdout",
     "output_type": "stream",
     "text": [
      "I\n",
      "love\n",
      "China\n"
     ]
    }
   ],
   "source": [
    "b=[\"I\", \"love\", \"China\"]\n",
    "for i in b:\n",
    "    print(i)\n"
   ]
  },
  {
   "cell_type": "code",
   "execution_count": 36,
   "metadata": {
    "collapsed": false
   },
   "outputs": [
    {
     "name": "stdout",
     "output_type": "stream",
     "text": [
      "<class 'range'>\n",
      "1\n",
      "2\n",
      "3\n",
      "4\n"
     ]
    }
   ],
   "source": [
    "# range()返回的其实不是list\n",
    "print(type(range(1,10)))\n",
    "\n",
    "# 然而，也通常可用 in range()来遍历\n",
    "for i in range(1,5):\n",
    "    print(i)\n",
    "    \n",
    "# 所以，in 后面跟的不一定是list，但一定是可迭代的数据结构"
   ]
  },
  {
   "cell_type": "code",
   "execution_count": 2,
   "metadata": {
    "collapsed": false
   },
   "outputs": [
    {
     "name": "stdout",
     "output_type": "stream",
     "text": [
      "1\n",
      "2\n",
      "3\n",
      "4\n",
      "5\n"
     ]
    }
   ],
   "source": [
    "# while循环访问list\n",
    "# 一般不用while遍历list\n",
    "# 因为太麻烦，不如for循环简介\n",
    "a=[1,2,3,4,5]\n",
    "length=len(a)\n",
    "i=0\n",
    "while i<length:  \n",
    "    print(a[i])\n",
    "    i+=1\n",
    "   "
   ]
  },
  {
   "cell_type": "code",
   "execution_count": 4,
   "metadata": {
    "collapsed": false
   },
   "outputs": [
    {
     "name": "stdout",
     "output_type": "stream",
     "text": [
      "A --- 1\n",
      "B --- 2\n",
      "C --- 3\n"
     ]
    }
   ],
   "source": [
    "# 双层列表循环\n",
    "\n",
    "a = [[\"A\",1],[\"B\",2],[\"C\",3]] # a是双层列表，即列表套列表\n",
    "for k,v in a:\n",
    "    print(k,\"---\",v)"
   ]
  },
  {
   "cell_type": "code",
   "execution_count": 8,
   "metadata": {
    "collapsed": false
   },
   "outputs": [
    {
     "ename": "ValueError",
     "evalue": "too many values to unpack (expected 2)",
     "output_type": "error",
     "traceback": [
      "\u001b[1;31m---------------------------------------------------------------------------\u001b[0m",
      "\u001b[1;31mValueError\u001b[0m                                Traceback (most recent call last)",
      "\u001b[1;32m<ipython-input-8-43bee59eb6b2>\u001b[0m in \u001b[0;36m<module>\u001b[1;34m()\u001b[0m\n\u001b[0;32m      2\u001b[0m \u001b[1;33m\u001b[0m\u001b[0m\n\u001b[0;32m      3\u001b[0m \u001b[0ma\u001b[0m \u001b[1;33m=\u001b[0m \u001b[1;33m[\u001b[0m\u001b[1;33m[\u001b[0m\u001b[1;34m\"A\"\u001b[0m\u001b[1;33m,\u001b[0m\u001b[1;36m1\u001b[0m\u001b[1;33m,\u001b[0m\u001b[1;34m\"one\"\u001b[0m\u001b[1;33m]\u001b[0m\u001b[1;33m,\u001b[0m\u001b[1;33m[\u001b[0m\u001b[1;34m\"B\"\u001b[0m\u001b[1;33m,\u001b[0m\u001b[1;36m2\u001b[0m\u001b[1;33m]\u001b[0m\u001b[1;33m,\u001b[0m\u001b[1;33m[\u001b[0m\u001b[1;34m\"C\"\u001b[0m\u001b[1;33m,\u001b[0m\u001b[1;36m3\u001b[0m\u001b[1;33m,\u001b[0m\u001b[1;36m4\u001b[0m\u001b[1;33m,\u001b[0m\u001b[1;36m5\u001b[0m\u001b[1;33m]\u001b[0m\u001b[1;33m]\u001b[0m \u001b[1;31m# a是双层列表，即列表套列表\u001b[0m\u001b[1;33m\u001b[0m\u001b[0m\n\u001b[1;32m----> 4\u001b[1;33m \u001b[1;32mfor\u001b[0m \u001b[0mk\u001b[0m\u001b[1;33m,\u001b[0m\u001b[0mv\u001b[0m \u001b[1;32min\u001b[0m \u001b[0ma\u001b[0m\u001b[1;33m:\u001b[0m\u001b[1;33m\u001b[0m\u001b[0m\n\u001b[0m\u001b[0;32m      5\u001b[0m     \u001b[0mprint\u001b[0m\u001b[1;33m(\u001b[0m\u001b[0mk\u001b[0m\u001b[1;33m,\u001b[0m\u001b[1;34m\"---\"\u001b[0m\u001b[1;33m,\u001b[0m\u001b[0mv\u001b[0m\u001b[1;33m)\u001b[0m\u001b[1;33m\u001b[0m\u001b[0m\n\u001b[0;32m      6\u001b[0m \u001b[1;33m\u001b[0m\u001b[0m\n",
      "\u001b[1;31mValueError\u001b[0m: too many values to unpack (expected 2)"
     ]
    }
   ],
   "source": [
    "# 双层列表循环变异\n",
    "\n",
    "a = [[\"A\",1,\"one\"],[\"B\",2],[\"C\",3,4,5]] # a是双层列表，即列表套列表\n",
    "for k,v in a:  \n",
    "    print(k,\"---\",v)\n",
    "    \n",
    "# 由此可见，这种遍历方式是特例，要求元素个数相同\n",
    "# k,v是两个变量，对应列表中的每个子列表也需要是两个变量\n"
   ]
  },
  {
   "cell_type": "code",
   "execution_count": 10,
   "metadata": {
    "collapsed": false
   },
   "outputs": [
    {
     "ename": "ValueError",
     "evalue": "too many values to unpack (expected 2)",
     "output_type": "error",
     "traceback": [
      "\u001b[1;31m---------------------------------------------------------------------------\u001b[0m",
      "\u001b[1;31mValueError\u001b[0m                                Traceback (most recent call last)",
      "\u001b[1;32m<ipython-input-10-fa1f4d249d2f>\u001b[0m in \u001b[0;36m<module>\u001b[1;34m()\u001b[0m\n\u001b[0;32m      2\u001b[0m \u001b[1;33m\u001b[0m\u001b[0m\n\u001b[0;32m      3\u001b[0m \u001b[0ma\u001b[0m \u001b[1;33m=\u001b[0m \u001b[1;33m[\u001b[0m\u001b[1;33m[\u001b[0m\u001b[1;34m\"A\"\u001b[0m\u001b[1;33m,\u001b[0m\u001b[1;36m1\u001b[0m\u001b[1;33m,\u001b[0m\u001b[1;34m\"one\"\u001b[0m\u001b[1;33m]\u001b[0m\u001b[1;33m,\u001b[0m\u001b[1;33m[\u001b[0m\u001b[1;34m\"B\"\u001b[0m\u001b[1;33m,\u001b[0m\u001b[1;36m2\u001b[0m\u001b[1;33m,\u001b[0m\u001b[1;34m\"two\"\u001b[0m\u001b[1;33m]\u001b[0m\u001b[1;33m,\u001b[0m\u001b[1;33m[\u001b[0m\u001b[1;34m\"C\"\u001b[0m\u001b[1;33m,\u001b[0m\u001b[1;36m3\u001b[0m\u001b[1;33m,\u001b[0m\u001b[1;34m\"three\"\u001b[0m\u001b[1;33m]\u001b[0m\u001b[1;33m]\u001b[0m \u001b[1;31m# a是双层列表，即列表套列表\u001b[0m\u001b[1;33m\u001b[0m\u001b[0m\n\u001b[1;32m----> 4\u001b[1;33m \u001b[1;32mfor\u001b[0m \u001b[0mk\u001b[0m\u001b[1;33m,\u001b[0m\u001b[0mv\u001b[0m \u001b[1;32min\u001b[0m \u001b[0ma\u001b[0m\u001b[1;33m:\u001b[0m\u001b[1;33m\u001b[0m\u001b[0m\n\u001b[0m\u001b[0;32m      5\u001b[0m     \u001b[0mprint\u001b[0m\u001b[1;33m(\u001b[0m\u001b[0mk\u001b[0m\u001b[1;33m,\u001b[0m\u001b[1;34m\"---\"\u001b[0m\u001b[1;33m,\u001b[0m\u001b[0mv\u001b[0m\u001b[1;33m)\u001b[0m\u001b[1;33m\u001b[0m\u001b[0m\n\u001b[0;32m      6\u001b[0m \u001b[1;33m\u001b[0m\u001b[0m\n",
      "\u001b[1;31mValueError\u001b[0m: too many values to unpack (expected 2)"
     ]
    }
   ],
   "source": [
    "# 双层列表循环变异\n",
    "\n",
    "a = [[\"A\",1,\"one\"],[\"B\",2,\"two\"],[\"C\",3,\"three\"]] # a是双层列表，即列表套列表\n",
    "for k,v in a:  \n",
    "    print(k,\"---\",v)\n",
    "    \n",
    "# 由此可见，这种遍历方式是特例，要求元素个数相同\n",
    "# k,v是两个变量，对应列表中的每个子列表也需要是两个变量\n",
    "# 这里，尽管每个子列表都具有相同的元素个数，三个，但是仍然报错\n"
   ]
  },
  {
   "cell_type": "code",
   "execution_count": 12,
   "metadata": {
    "collapsed": false
   },
   "outputs": [
    {
     "name": "stdout",
     "output_type": "stream",
     "text": [
      "A --- 1 --- one\n",
      "B --- 2 --- two\n",
      "C --- 3 --- three\n"
     ]
    }
   ],
   "source": [
    "# 双层列表循环变异\n",
    "# 这样子修正就好\n",
    "a = [[\"A\",1,\"one\"],[\"B\",2,\"two\"],[\"C\",3,\"three\"]] # a是双层列表，即列表套列表\n",
    "for k,v,w in a:  # k,v,w对应每个子列表中的三个元素\n",
    "    print(k,\"---\",v,\"---\",w)"
   ]
  },
  {
   "cell_type": "markdown",
   "metadata": {},
   "source": [
    "# 列表内涵：list content\n",
    "- 通过简单的方法制作列表"
   ]
  },
  {
   "cell_type": "code",
   "execution_count": 16,
   "metadata": {
    "collapsed": false
   },
   "outputs": [
    {
     "name": "stdout",
     "output_type": "stream",
     "text": [
      "['a', 'b', 'c']\n",
      "88177032\n",
      "91362952\n"
     ]
    }
   ],
   "source": [
    "a = ['a','b','c']\n",
    "# 用list a创建一个list b\n",
    "# 下面代码的含义是，对于所有a中的元素，逐个放入新列表b中\n",
    "b = [i for i in a]\n",
    "print(b)\n",
    "print(id(a))\n",
    "print(id(b))"
   ]
  },
  {
   "cell_type": "code",
   "execution_count": 18,
   "metadata": {
    "collapsed": false
   },
   "outputs": [
    {
     "name": "stdout",
     "output_type": "stream",
     "text": [
      "[10, 20, 30, 50]\n"
     ]
    }
   ],
   "source": [
    "# 对a中的每个元素都乘以10，生成一个新的list\n",
    "a = [1,2,3,5]\n",
    "b = [i*10 for i in a]\n",
    "print(b)\n",
    "# 如此一来，就不用for循环来生成b"
   ]
  },
  {
   "cell_type": "code",
   "execution_count": 20,
   "metadata": {
    "collapsed": false
   },
   "outputs": [
    {
     "name": "stdout",
     "output_type": "stream",
     "text": [
      "[1, 2, 3, 4, 5, 6, 7, 8, 9, 10, 11, 12, 13, 14, 15, 16, 17, 18, 19, 20, 21, 22, 23, 24, 25, 26, 27, 28, 29, 30, 31, 32, 33, 34]\n",
      "[2, 4, 6, 8, 10, 12, 14, 16, 18, 20, 22, 24, 26, 28, 30, 32, 34]\n"
     ]
    }
   ],
   "source": [
    "# 这种代码方式还可以过滤a中的元素放入新的列表\n",
    "# 比如把a中所有的偶数生成新的列表\n",
    "a = [i for i in range(1,35)]\n",
    "b = [i for i in a if i%2==0] # 这是带条件表达式的列表生成式\n",
    "print(a)\n",
    "print(b)"
   ]
  },
  {
   "cell_type": "code",
   "execution_count": 34,
   "metadata": {
    "collapsed": false
   },
   "outputs": [
    {
     "name": "stdout",
     "output_type": "stream",
     "text": [
      "[1, 2, 3, 4, 5, 6, 7, 8, 9]\n",
      "[100, 200, 300, 400]\n",
      "[101, 102, 103, 104, 105, 106, 107, 108, 109]\n",
      "[101, 202, 303, 404]\n"
     ]
    }
   ],
   "source": [
    "# 列表生成式也可以嵌套\n",
    "# 有两个列表a，b\n",
    "a = [i for i in range(1,10)]\n",
    "print(a)\n",
    "b = [i for i in range(100,500) if i%100==0]\n",
    "print(b)\n",
    "\n",
    "# 列表生成式也可以嵌套\n",
    "c = [m+n for m in a for n in b if m+n<200] # 这里等于两个for循环的叠加,也可以加条件表达式\n",
    "print(c)\n",
    "\n",
    "d = [a[i]+b[i] for i in range(0,len(b))]\n",
    "print(d)"
   ]
  },
  {
   "cell_type": "markdown",
   "metadata": {},
   "source": [
    "# 关于列表的常用函数\n",
    "- len：求列表长度\n",
    "- max：求最大值\n",
    "- min：求最小值\n",
    "- list：将其他格式的数据转换成list\n",
    "    要求被转换的数据必须是可迭代的即可"
   ]
  },
  {
   "cell_type": "code",
   "execution_count": 37,
   "metadata": {
    "collapsed": false
   },
   "outputs": [
    {
     "name": "stdout",
     "output_type": "stream",
     "text": [
      "[1, 2, 3]\n"
     ]
    }
   ],
   "source": [
    "# list \n",
    "# a本身就是list，list（a）肯定可以\n",
    "a = [1,2,3]\n",
    "print(list(a))"
   ]
  },
  {
   "cell_type": "code",
   "execution_count": 39,
   "metadata": {
    "collapsed": false
   },
   "outputs": [
    {
     "name": "stdout",
     "output_type": "stream",
     "text": [
      "['I', ' ', 'l', 'i', 'v', 'e', ' ', 'i', 'n', ' ', 'C', 'h', 'i', 'n', 'a']\n"
     ]
    }
   ],
   "source": [
    "# list\n",
    "# 如果a是字符串，list（a）会返回什么列表？\n",
    "# 看打印结果，是返回一个列表，按顺序将每个字符都作为一个元素，包括空格\n",
    "a = \"I live in China\"\n",
    "print(list(a))"
   ]
  },
  {
   "cell_type": "code",
   "execution_count": 1,
   "metadata": {
    "collapsed": false
   },
   "outputs": [
    {
     "name": "stdout",
     "output_type": "stream",
     "text": [
      "[12, 13, 14, 15, 16, 17, 18]\n"
     ]
    }
   ],
   "source": [
    "# 把range产生的内容直接转换成一个list\n",
    "print(list(range(12,19)))"
   ]
  },
  {
   "cell_type": "code",
   "execution_count": 7,
   "metadata": {
    "collapsed": false
   },
   "outputs": [
    {
     "name": "stdout",
     "output_type": "stream",
     "text": [
      "1\n",
      "[1, 2, 100, 4, 5]\n",
      "[1, 2, 100, 4, 5]\n",
      "--------------------------------------------------\n",
      "2\n",
      "102\n",
      "2\n"
     ]
    }
   ],
   "source": [
    "# 函数体内的语句如果以下标的方式更改了输入参数的列表内容，则函数体外的列表（即那个输入参数列表）的内容也会相应更改\n",
    "# 这可能是因为上面提到过的，如果用下标的方式更改内容，这个过程其实就是在原列表上进行更改，而不会生成新列表，看下面代码：\n",
    "def func1(l): # 其实，列表传入是“传地址”的过程，而不是纯粹“传值”得过程\n",
    "    l[2]=100\n",
    "    print(l)\n",
    "    return\n",
    "\n",
    "def func2(n): # 这里面n不是列表，简单的数值传入函数是“传值”的过程\n",
    "    n += 100\n",
    "    print(n)\n",
    "    return \n",
    "\n",
    "# call functions\n",
    "l=[1,2,3,4,5]\n",
    "print(1)\n",
    "func1(l)\n",
    "print(l)\n",
    "\n",
    "#--------------------\n",
    "print(\"-\"*50)\n",
    "n=2\n",
    "print(n)\n",
    "func2(n)\n",
    "print(n)\n"
   ]
  },
  {
   "cell_type": "markdown",
   "metadata": {},
   "source": [
    "<head>\n",
    "    <style>\n",
    "        .para{\n",
    "        font: Tahoma, Helvetica,Arial;sans-serif\n",
    "        }\n",
    "    </style>\n",
    "</head>"
   ]
  },
  {
   "cell_type": "markdown",
   "metadata": {},
   "source": [
    "<p class=\"para\">\n",
    "# 综上，可能不是很严谨，但就这意思。\n",
    "# 对于简单的数值，采用传值操作，即在函数内对参数的操作不影响外面的变量\n",
    "# 对于复杂变量（如列表，字典，类等），采用传址操作，此时函数内的参数和外部变量是同一份内容，\n",
    "# 任何对此内容的更改都能影响另外的变量或者参数的使用\n",
    "</p>"
   ]
  },
  {
   "cell_type": "markdown",
   "metadata": {},
   "source": [
    "\n",
    "### 综上，可能不是很严谨，但就这意思\n",
    "- 对于简单的数值，采用传值操作，即在函数内对参数的操作不影响外面的变量\n",
    "- 对于复杂变量（如列表，字典，类等），采用传址操作，此时函数内的参数和外部变量是同一份内容，\n",
    "- 任何对此内容的更改都能影响另外的变量或者参数的使用"
   ]
  },
  {
   "cell_type": "markdown",
   "metadata": {},
   "source": [
    "# 对列表操作的函数\n",
    "- 在末尾追加用 append\n",
    "- 指定位置插入 insert\n",
    "- 删除 del, pop(), remove（指定元素值）,clear()\n",
    "- 翻转 reverse()\n",
    "- 扩展 extend()\n",
    "- 获取指定元素的个数 count（指定元素值）\n",
    "- list类型变量的简单赋值操作，是传地址操作,如果不想这样，就用copy（）函数，拷贝一份list到另一个地址\n"
   ]
  },
  {
   "cell_type": "code",
   "execution_count": 10,
   "metadata": {
    "collapsed": false
   },
   "outputs": [
    {
     "name": "stdout",
     "output_type": "stream",
     "text": [
      "[1, 2, 3, 4]\n",
      "[1, 2, 3, 4, 100]\n"
     ]
    }
   ],
   "source": [
    "# append（data）\n",
    "a = [i for i in range(1,5)]\n",
    "print(a)\n",
    "a.append(100)\n",
    "print(a)"
   ]
  },
  {
   "cell_type": "code",
   "execution_count": 11,
   "metadata": {
    "collapsed": false
   },
   "outputs": [
    {
     "name": "stdout",
     "output_type": "stream",
     "text": [
      "[1, 2, 3, 4]\n",
      "[1, 2, 3, 100, 4]\n"
     ]
    }
   ],
   "source": [
    "# insert(index,data), 插入位置是index的前面\n",
    "# 一般不用inset插入，消耗资源，需求也不是很大，经常是用append在末尾追加\n",
    "a = [i for i in range(1,5)]\n",
    "print(a)\n",
    "a.insert(3,100) \n",
    "print(a)"
   ]
  },
  {
   "cell_type": "code",
   "execution_count": 13,
   "metadata": {
    "collapsed": false
   },
   "outputs": [
    {
     "name": "stdout",
     "output_type": "stream",
     "text": [
      "[1, 2, 3, 4]\n",
      "[1, 2, 3]\n",
      "4\n"
     ]
    }
   ],
   "source": [
    "# 删除\n",
    "# 1. del 删除, 上面已经讲过\n",
    "# 2. pop，把最后一个元素取出来\n",
    "a = [i for i in range(1,5)]\n",
    "print(a)\n",
    "last_ele = a.pop()\n",
    "print(a)\n",
    "print(last_ele)"
   ]
  },
  {
   "cell_type": "code",
   "execution_count": 19,
   "metadata": {
    "collapsed": false
   },
   "outputs": [
    {
     "name": "stdout",
     "output_type": "stream",
     "text": [
      "[1, 2, 3, 4, 5, 6, 7, 8, 9]\n",
      "77702600\n",
      "[1, 2, 3, 4, 5, 6, 7, 9]\n",
      "77702600\n"
     ]
    },
    {
     "ename": "ValueError",
     "evalue": "list.remove(x): x not in list",
     "output_type": "error",
     "traceback": [
      "\u001b[0;31m---------------------------------------------------------------------------\u001b[0m",
      "\u001b[0;31mValueError\u001b[0m                                Traceback (most recent call last)",
      "\u001b[0;32m<ipython-input-19-78060e7d9f76>\u001b[0m in \u001b[0;36m<module>\u001b[0;34m()\u001b[0m\n\u001b[1;32m      8\u001b[0m \u001b[0mprint\u001b[0m\u001b[1;33m(\u001b[0m\u001b[0mid\u001b[0m\u001b[1;33m(\u001b[0m\u001b[0ma\u001b[0m\u001b[1;33m)\u001b[0m\u001b[1;33m)\u001b[0m\u001b[1;33m\u001b[0m\u001b[0m\n\u001b[1;32m      9\u001b[0m \u001b[1;33m\u001b[0m\u001b[0m\n\u001b[0;32m---> 10\u001b[0;31m \u001b[0ma\u001b[0m\u001b[1;33m.\u001b[0m\u001b[0mremove\u001b[0m\u001b[1;33m(\u001b[0m\u001b[1;36m1000\u001b[0m\u001b[1;33m)\u001b[0m\u001b[1;33m\u001b[0m\u001b[0m\n\u001b[0m\u001b[1;32m     11\u001b[0m \u001b[0mprint\u001b[0m\u001b[1;33m(\u001b[0m\u001b[0ma\u001b[0m\u001b[1;33m)\u001b[0m\u001b[1;33m\u001b[0m\u001b[0m\n\u001b[1;32m     12\u001b[0m \u001b[1;31m# 如果指定值不再list中，就会报错\u001b[0m\u001b[1;33m\u001b[0m\u001b[1;33m\u001b[0m\u001b[0m\n",
      "\u001b[0;31mValueError\u001b[0m: list.remove(x): x not in list"
     ]
    }
   ],
   "source": [
    "# remove：在列表中删除指定值的元素\n",
    "# 两个输出id一样，说明remove 是对同一份（同一个地址）数据操作\n",
    "a=[i for i in range(1,10)]\n",
    "print(a)\n",
    "print(id(a))\n",
    "a.remove(8)\n",
    "print(a)\n",
    "print(id(a))\n",
    "\n",
    "a.remove(1000) \n",
    "print(a)\n",
    "# 如果指定值不再list中，就会报错\n",
    "\n",
    "# 所以需要先行判定\n",
    "# if 1000 in a:\n",
    "#     a.remove(1000)\n"
   ]
  },
  {
   "cell_type": "code",
   "execution_count": 21,
   "metadata": {
    "collapsed": false
   },
   "outputs": [
    {
     "name": "stdout",
     "output_type": "stream",
     "text": [
      "[1, 2, 3, 4]\n",
      "78623176\n",
      "[]\n",
      "78623176\n"
     ]
    }
   ],
   "source": [
    "# clear 清空\n",
    "a = [i for i in range(1,5)]\n",
    "print(a)\n",
    "print(id(a))\n",
    "a.clear()\n",
    "print(a)\n",
    "print(id(a))\n",
    "\n",
    "# 输出表明：clear也是在原列表上操作，尽管clear清空了a中的元素，地址还在\n",
    "\n",
    "# 如果不需要列表地址保持不变，则清空列表可以使用下列方式\n",
    "# a = list\n",
    "# a = []\n",
    "# 然而这样子尽管a变成空列表，但是其实原列表其实还是在，只是a并不是指向它了？"
   ]
  },
  {
   "cell_type": "code",
   "execution_count": 23,
   "metadata": {
    "collapsed": false
   },
   "outputs": [
    {
     "name": "stdout",
     "output_type": "stream",
     "text": [
      "[1, 2, 3, 4, 5]\n",
      "79152968\n",
      "[5, 4, 3, 2, 1]\n",
      "79152968\n"
     ]
    }
   ],
   "source": [
    "# reverse: 翻转\n",
    "# 输出表明reverse其实是原地翻转\n",
    "a = [1,2,3,4,5]\n",
    "print(a)\n",
    "print(id(a))\n",
    "\n",
    "a.reverse()\n",
    "\n",
    "print(a)\n",
    "print(id(a))\n"
   ]
  },
  {
   "cell_type": "code",
   "execution_count": 29,
   "metadata": {
    "collapsed": false
   },
   "outputs": [
    {
     "name": "stdout",
     "output_type": "stream",
     "text": [
      "[1, 2, 3]\n",
      "79062472\n",
      "[1, 2, 3, 4, 5, 6]\n",
      "79062472\n"
     ]
    }
   ],
   "source": [
    "# extend：扩展列表，把一个列表直接拼接到后一个上\n",
    "# 下面的输出结果也表明这种扩展是在原列表的基础上直接扩展\n",
    "a = [1,2,3]\n",
    "print(a)\n",
    "print(id(a))\n",
    "      \n",
    "b = [4,5,6]\n",
    "      \n",
    "a.extend(b)\n",
    "      \n",
    "print(a)\n",
    "print(id(a))"
   ]
  },
  {
   "cell_type": "code",
   "execution_count": 45,
   "metadata": {
    "collapsed": false
   },
   "outputs": [
    {
     "name": "stdout",
     "output_type": "stream",
     "text": [
      "1\n",
      "[15, 16, 100, 17, 18, 100, 19, 20, 21, 22, 23, 24, 25, 26, 27, 28, 29]\n",
      "2\n"
     ]
    }
   ],
   "source": [
    "# count：查找列表中指定值或元素的个数\n",
    "a = [i for i in range(15,30)]\n",
    "a_len = a.count(20)\n",
    "print(a_len)\n",
    "\n",
    "a.insert(2,100)\n",
    "a.insert(5,100)\n",
    "print(a)\n",
    "print(a.count(100))\n"
   ]
  },
  {
   "cell_type": "code",
   "execution_count": 50,
   "metadata": {
    "collapsed": false
   },
   "outputs": [
    {
     "name": "stdout",
     "output_type": "stream",
     "text": [
      "[1, 2, 3, 4, 5, 6]\n",
      "[1, 2, 3, 200, 5, 6]\n",
      "[1, 2, 3, 200, 5, 6]\n",
      "--------------------------------------------------\n",
      "[1, 2, 3, 4, 5]\n",
      "79117960\n",
      "[1, 2, 3, 4, 5]\n",
      "83751304\n",
      "--------------------------------------------------\n",
      "[1, 2, 888, 4, 5]\n",
      "[1, 2, 3, 4, 5]\n"
     ]
    }
   ],
   "source": [
    "# copy: 浅拷贝\n",
    "# list类型变量的简单赋值操作，是传指操作\n",
    "a = [1,2,3,4,5,6]\n",
    "print(a)\n",
    "b = a\n",
    "b[3]=200\n",
    "print(a)\n",
    "print(b)\n",
    "\n",
    "# 为解决这个问题，使用拷贝函数copy\n",
    "print(\"-\"*50)\n",
    "a= [1,2,3,4,5]\n",
    "b = a.copy()\n",
    "print(a)\n",
    "print(id(a))\n",
    "print(b)\n",
    "print(id(b))\n",
    "\n",
    "# 可以看到a和b的地址不一样，此时更改b应该不会影响到a\n",
    "print(\"-\"*50)\n",
    "b[2]=888\n",
    "print(b)\n",
    "print(a)\n"
   ]
  },
  {
   "cell_type": "code",
   "execution_count": 58,
   "metadata": {
    "collapsed": false
   },
   "outputs": [
    {
     "name": "stdout",
     "output_type": "stream",
     "text": [
      "83829768\n",
      "83829640\n",
      "83829704\n",
      "83829704\n",
      "[1, 2, 3, [10, 20, 6]]\n",
      "[1, 2, 3, [10, 20, 6]]\n",
      "--------------------------------------------------\n",
      "78643400\n",
      "83809224\n",
      "83809160\n",
      "83830024\n",
      "[1, 2, 3, [10, 20, 888]]\n",
      "[1, 2, 3, [10, 20, 30]]\n"
     ]
    }
   ],
   "source": [
    "# 深拷贝跟浅拷贝\n",
    "a = [1,2,3,[10,20,30]]\n",
    "b = a.copy()\n",
    "print(id(a))\n",
    "print(id(b))\n",
    "print(id(a[3]))\n",
    "print(id(b[3]))\n",
    "a[3][2] = 6\n",
    "print(a)\n",
    "print(b)\n",
    "\n",
    "# 输出表明copy浅拷贝只是拷贝了一层,也就是手浅拷贝只拷贝父对象，不会拷贝对象内部的子对象\n",
    "# 为解决这一问题，可以用深拷贝deepcopy\n",
    "# 深拷贝需要引入copy模块\n",
    "import copy\n",
    "print(\"-\"*50)\n",
    "a = [1,2,3,[10,20,30]]\n",
    "b = copy.deepcopy(a)\n",
    "print(id(a))\n",
    "print(id(b))\n",
    "print(id(a[3]))\n",
    "print(id(b[3]))\n",
    "a[3][2] = 888\n",
    "print(a)\n",
    "print(b)\n",
    "# 用深拷贝后，父对象和子对象均有不同的id值\n"
   ]
  }
 ],
 "metadata": {
  "anaconda-cloud": {},
  "kernelspec": {
   "display_name": "Python 3",
   "language": "python",
   "name": "python3"
  },
  "language_info": {
   "codemirror_mode": {
    "name": "ipython",
    "version": 3
   },
   "file_extension": ".py",
   "mimetype": "text/x-python",
   "name": "python",
   "nbconvert_exporter": "python",
   "pygments_lexer": "ipython3",
   "version": "3.5.6"
  }
 },
 "nbformat": 4,
 "nbformat_minor": 1
}
