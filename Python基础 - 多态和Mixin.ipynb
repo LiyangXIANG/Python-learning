{
 "cells": [
  {
   "cell_type": "markdown",
   "metadata": {},
   "source": [
    "# 多态\n",
    "- 多态指的是同一个对象在不同情况下以不同的状态出现\n",
    "- 多态不是语法，是一种设计思想\n",
    "- 多态性：一种调用方式，不同的执行效果\n",
    "- 多态：同一事物的多种形态，动物分为人类，狗类，猪类\n",
    "- 【多态和多态性】，查看网站\n"
   ]
  },
  {
   "cell_type": "markdown",
   "metadata": {},
   "source": [
    "# Mixin设计模式\n",
    "    - 主要采用多继承方式对类的功能进行扩展\n",
    "    - 主要思想是功能的增加，而不改变大类，也就是子类只继承一个父类，但是有来自其他类的功能却不继承这些类。【注意，这是思想而已】\n",
    "    - 利用多继承语法来实现Mixin（掺入，混入）\n",
    "    - 使用Mixin实现多继承的时候要非常小心，最好遵守一定的规定（尽管不是硬性规定）：\n",
    "        - 首先，必须表示某一单一功能，而不是某个物品\n",
    "        - Mixin功能必须单一，如果有多个功能，则写多个mixin\n",
    "        - Mixin不能依赖于子类的实现\n",
    "        - 子类即使没有继承这个Mixin类，也能照样工作\n",
    "    - Mixin没有自己的语法，其实就是多继承的语法，就是需要遵守上述的规则，好处多\n",
    "    - 优点：\n",
    "        - 使用Mixin可以在不对类进行任何修改的情况下，扩充功能（其实就是模块化的思想）\n",
    "        - 可以方便的组织和维护不同功能组件的划分\n",
    "        - 可以根据需要任意调整功能类的组合\n",
    "        - 可以避免创建很多新的类，导致类的继承混乱\n",
    "    - 在框架结构中，有很多Mixin的应用"
   ]
  },
  {
   "cell_type": "code",
   "execution_count": 7,
   "metadata": {},
   "outputs": [
    {
     "name": "stdout",
     "output_type": "stream",
     "text": [
      "(<class '__main__.Tutor'>, <class '__main__.Teacher'>, <class '__main__.Student'>, <class '__main__.Person'>, <class 'object'>)\n",
      "{}\n",
      "{'__module__': '__main__', '__doc__': None}\n",
      "Study...\n"
     ]
    }
   ],
   "source": [
    "# Mixin案例\n",
    "class Person():\n",
    "    name = \"xly\"\n",
    "    age = 18\n",
    "    \n",
    "    def eat(self):\n",
    "        print(\"Eat...\")\n",
    "        \n",
    "    def drink(self):\n",
    "        print(\"Drink...\")\n",
    "        \n",
    "    def sleep(self):\n",
    "        print(\"Sleep...\")\n",
    "        \n",
    "class Teacher(Person):\n",
    "    def work(self):\n",
    "        print(\"Work...\")\n",
    "        \n",
    "class Student(Person):\n",
    "    def study(self):\n",
    "        print(\"Study...\")\n",
    "        \n",
    "class Tutor(Teacher,Student):\n",
    "    pass\n",
    "\n",
    "t = Tutor()\n",
    "print(Tutor.__mro__)\n",
    "print(t.__dict__)\n",
    "print(Tutor.__dict__)\n",
    "\n"
   ]
  },
  {
   "cell_type": "code",
   "execution_count": 11,
   "metadata": {},
   "outputs": [
    {
     "name": "stdout",
     "output_type": "stream",
     "text": [
      "(<class '__main__.TutorMix'>, <class '__main__.Person'>, <class '__main__.TeacherMixin'>, <class '__main__.StudentMixin'>, <class 'object'>)\n",
      "{}\n",
      "{'__module__': '__main__', '__doc__': None}\n"
     ]
    }
   ],
   "source": [
    "# 注意，这里的继承关系比上面的简单，因为，老师类和学生类没有父类\n",
    "# 老师Mixin，只含有单一功能work，没有构造函数也没有继承\n",
    "class TeacherMixin():\n",
    "    def work(self):\n",
    "        print(\"work...\")\n",
    "\n",
    "# 学生Mixin，只含有单一功能study      \n",
    "class StudentMixin():\n",
    "    def study(self):\n",
    "        print(\"study...\")\n",
    "        \n",
    "class TutorMix(Person,TeacherMixin,StudentMixin):\n",
    "    pass\n",
    "\n",
    "tt = TutorMix()\n",
    "print(TutorMix.__mro__)\n",
    "print(tt.__dict__)\n",
    "print(TutorMix.__dict__)"
   ]
  }
 ],
 "metadata": {
  "kernelspec": {
   "display_name": "Python 3",
   "language": "python",
   "name": "python3"
  },
  "language_info": {
   "codemirror_mode": {
    "name": "ipython",
    "version": 3
   },
   "file_extension": ".py",
   "mimetype": "text/x-python",
   "name": "python",
   "nbconvert_exporter": "python",
   "pygments_lexer": "ipython3",
   "version": "3.6.4"
  }
 },
 "nbformat": 4,
 "nbformat_minor": 2
}
