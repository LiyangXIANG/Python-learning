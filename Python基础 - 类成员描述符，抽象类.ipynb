{
 "cells": [
  {
   "cell_type": "code",
   "execution_count": 4,
   "metadata": {
    "collapsed": false
   },
   "outputs": [
    {
     "name": "stdout",
     "output_type": "stream",
     "text": [
      "xly\n"
     ]
    },
    {
     "ename": "AttributeError",
     "evalue": "'Person' object has no attribute 'name'",
     "output_type": "error",
     "traceback": [
      "\u001b[1;31m---------------------------------------------------------------------------\u001b[0m",
      "\u001b[1;31mAttributeError\u001b[0m                            Traceback (most recent call last)",
      "\u001b[1;32m<ipython-input-4-b9ec44462a0a>\u001b[0m in \u001b[0;36m<module>\u001b[1;34m()\u001b[0m\n\u001b[0;32m     14\u001b[0m \u001b[1;33m\u001b[0m\u001b[0m\n\u001b[0;32m     15\u001b[0m \u001b[1;32mdel\u001b[0m \u001b[0ma\u001b[0m\u001b[1;33m.\u001b[0m\u001b[0mname\u001b[0m\u001b[1;33m\u001b[0m\u001b[0m\n\u001b[1;32m---> 16\u001b[1;33m \u001b[0mprint\u001b[0m\u001b[1;33m(\u001b[0m\u001b[0ma\u001b[0m\u001b[1;33m.\u001b[0m\u001b[0mname\u001b[0m\u001b[1;33m)\u001b[0m\u001b[1;33m\u001b[0m\u001b[0m\n\u001b[0m",
      "\u001b[1;31mAttributeError\u001b[0m: 'Person' object has no attribute 'name'"
     ]
    }
   ],
   "source": [
    "# 变量的三种操作\n",
    "# 1. 赋值\n",
    "# 2. 读取\n",
    "# 3. 删除\n",
    "\n",
    "class Person():\n",
    "    def __init__(self):\n",
    "        self.name = \"None\"\n",
    "        self.age = 30\n",
    "        \n",
    "a = Person()\n",
    "a.name = \"xly\"\n",
    "print(a.name)\n",
    "\n",
    "del a.name\n",
    "print(a.name)"
   ]
  },
  {
   "cell_type": "code",
   "execution_count": 20,
   "metadata": {
    "collapsed": false
   },
   "outputs": [
    {
     "name": "stdout",
     "output_type": "stream",
     "text": [
      "I am overwritten\n",
      "I am called\n",
      "AAnone\n",
      "I am overwritten\n",
      "I am called\n",
      "AAxly\n"
     ]
    }
   ],
   "source": [
    "# 类属性 property\n",
    "# 应用场景：除上面三种操作外，还想对变量增加一些其他操作，就用property完成\n",
    "class A():\n",
    "    def __init__(self):\n",
    "        self.name = \"none\"\n",
    "        self.age = 30\n",
    "        \n",
    "    def fget(self):\n",
    "        print(\"I am called\")\n",
    "        return self._name\n",
    "    def fset(self, name):\n",
    "        print(\"I am overwritten\")\n",
    "        self._name = \"AA\"+ name       \n",
    "    def fdel(self):\n",
    "        pass\n",
    "    \n",
    "    name = property(fget,fset,fdel,\"This is a doc\")\n",
    "    \n",
    "a = A() # 说明__init__时，就在调用fset（）\n",
    "print(a.name)\n",
    "a.name = \"xly\"\n",
    "print(a.name)"
   ]
  },
  {
   "cell_type": "markdown",
   "metadata": {},
   "source": [
    "# 抽象类\n",
    "- 抽象方法：没有具体实现内容的方法\n",
    "- 抽象方法的主要意义是规范了子类的行为和接口\n",
    "- 抽象类的使用需要借助abc模块\n",
    "    \n",
    "            import abc\n",
    "            \n",
    "- 抽象类：包含抽象方法的类叫做抽象类，通常称为ABC类\n",
    "- 抽象类的使用：\n",
    "    - 抽象类可以包含具体方法，也可以包含抽象方法\n",
    "    - 抽象类中可以有方法也可以有属性\n",
    "    - 抽象类不允许直接实例化\n",
    "    - 必须继承才可以使用，且继承的子类必须实现所有继承来的抽象方法\n",
    "    - 假定子类没有实现所有继承来的抽象方法，则子类也不能被实例化\n",
    "    - 抽象类的主要作用是设定类的标准，以便开发时候具有统一的规范\n",
    "    "
   ]
  },
  {
   "cell_type": "code",
   "execution_count": 23,
   "metadata": {
    "collapsed": false
   },
   "outputs": [
    {
     "name": "stdout",
     "output_type": "stream",
     "text": [
      "WangWang\n",
      "Hello\n"
     ]
    }
   ],
   "source": [
    "class Animal():\n",
    "    # 这个抽象功能，这里没有具体实现，因为不同的子类会有不同的实现方式\n",
    "    # 这里保留这个函数功能，是为了保留这个父类应该具有的一种功能\n",
    "    def sayHello(self):\n",
    "        pass\n",
    "    \n",
    "class Dog(Animal):\n",
    "    def sayHello(self):\n",
    "        print(\"WangWang\")\n",
    "\n",
    "class Person(Animal):\n",
    "    def sayHello(self):\n",
    "        print(\"Hello\")\n",
    "\n",
    "d = Dog()\n",
    "d.sayHello()\n",
    "\n",
    "p = Person()\n",
    "p.sayHello()"
   ]
  },
  {
   "cell_type": "code",
   "execution_count": 3,
   "metadata": {
    "collapsed": false
   },
   "outputs": [],
   "source": [
    "# 抽象类的实现\n",
    "import abc\n",
    "\n",
    "# 声明一个类并且指定当前类的元类\n",
    "class Human(metaclass=abc.ABCMeta):\n",
    "\n",
    "    # 定义一个抽象的方法\n",
    "    @abc.abstractmethod\n",
    "    def smoking(self):\n",
    "        pass\n",
    "    \n",
    "    # 定义类抽象方法\n",
    "    @abc.abstractclassmethod\n",
    "    def drink():\n",
    "        pass\n",
    "    \n",
    "    # 定义静态抽象方法\n",
    "    @abc.abstractstaticmethod\n",
    "    def play():\n",
    "        pass\n",
    "    \n",
    "    # 定义一个正常的具体的函数\n",
    "    def sleep(self):\n",
    "        print(\"sleeping....\")"
   ]
  },
  {
   "cell_type": "markdown",
   "metadata": {},
   "source": [
    "# 自定义类\n",
    "- 类其实是一个普通类的定义和各种方法的自由组合\n",
    "- 可以定义类和函数，然后通过类直接赋值\n",
    "- 借助MethodType实现\n",
    "- 借助type实现\n",
    "- 利用元类实现 MetaClass\n",
    "    - 元类是类\n",
    "    - 被用来创造别的类"
   ]
  },
  {
   "cell_type": "code",
   "execution_count": 9,
   "metadata": {
    "collapsed": false
   },
   "outputs": [
    {
     "name": "stdout",
     "output_type": "stream",
     "text": [
      "xly你好！\n",
      "sweid你好！\n"
     ]
    }
   ],
   "source": [
    "# 函数名称可以当变量使用\n",
    "def sayHi(name):\n",
    "    print(\"{0}你好！\".format(name))\n",
    "    \n",
    "sayHi(\"xly\")\n",
    "\n",
    "niHao = sayHi;\n",
    "niHao(\"sweid\")"
   ]
  },
  {
   "cell_type": "code",
   "execution_count": 12,
   "metadata": {
    "collapsed": false
   },
   "outputs": [
    {
     "name": "stdout",
     "output_type": "stream",
     "text": [
      "Speaking\n",
      "--------------------------------------------------\n",
      "Speaking\n",
      "--------------------------------------------------\n",
      "Speaking\n"
     ]
    }
   ],
   "source": [
    "# 自己组装一个类,案例1\n",
    "\n",
    "class A():\n",
    "    pass\n",
    "\n",
    "def say(self):\n",
    "    print(\"Speaking\")\n",
    "    \n",
    "class B():\n",
    "    def say(self):\n",
    "        print(\"Speaking\")\n",
    "    \n",
    "say(1)\n",
    "print(\"-\"*50)\n",
    "\n",
    "A.say = say\n",
    "a = A()\n",
    "a.say()\n",
    "print(\"-\"*50)\n",
    "\n",
    "b = B()\n",
    "b.say()"
   ]
  },
  {
   "cell_type": "code",
   "execution_count": 14,
   "metadata": {
    "collapsed": false
   },
   "outputs": [
    {
     "ename": "TypeError",
     "evalue": "say() missing 1 required positional argument: 'self'",
     "output_type": "error",
     "traceback": [
      "\u001b[0;31m---------------------------------------------------------------------------\u001b[0m",
      "\u001b[0;31mTypeError\u001b[0m                                 Traceback (most recent call last)",
      "\u001b[0;32m<ipython-input-14-e8610afce850>\u001b[0m in \u001b[0;36m<module>\u001b[0;34m()\u001b[0m\n\u001b[1;32m      8\u001b[0m \u001b[0ma\u001b[0m \u001b[1;33m=\u001b[0m \u001b[0mA\u001b[0m\u001b[1;33m(\u001b[0m\u001b[1;33m)\u001b[0m\u001b[1;33m\u001b[0m\u001b[0m\n\u001b[1;32m      9\u001b[0m \u001b[0ma\u001b[0m\u001b[1;33m.\u001b[0m\u001b[0msay\u001b[0m \u001b[1;33m=\u001b[0m \u001b[0msay\u001b[0m\u001b[1;33m\u001b[0m\u001b[0m\n\u001b[0;32m---> 10\u001b[0;31m \u001b[0ma\u001b[0m\u001b[1;33m.\u001b[0m\u001b[0msay\u001b[0m\u001b[1;33m(\u001b[0m\u001b[1;33m)\u001b[0m\u001b[1;33m\u001b[0m\u001b[0m\n\u001b[0m\u001b[1;32m     11\u001b[0m \u001b[1;31m# 报错，说明函数直接绑定类可以，绑定实例不行\u001b[0m\u001b[1;33m\u001b[0m\u001b[1;33m\u001b[0m\u001b[0m\n",
      "\u001b[0;31mTypeError\u001b[0m: say() missing 1 required positional argument: 'self'"
     ]
    }
   ],
   "source": [
    "# 组装类例子 2 \n",
    "class A():\n",
    "    pass\n",
    "\n",
    "def say(self):\n",
    "    print(\"Speaking\")\n",
    "    \n",
    "a = A()\n",
    "a.say = say\n",
    "a.say()\n",
    "# 报错，说明函数直接绑定类可以，绑定实例对象不行"
   ]
  },
  {
   "cell_type": "code",
   "execution_count": 18,
   "metadata": {
    "collapsed": false
   },
   "outputs": [
    {
     "name": "stdout",
     "output_type": "stream",
     "text": [
      "Speaking\n"
     ]
    }
   ],
   "source": [
    "# 但是，上面的例子可以通过以下方法实现\n",
    "from types import MethodType\n",
    "class A():\n",
    "    pass\n",
    "\n",
    "def say(self):\n",
    "    print(\"Speaking\")\n",
    "    \n",
    "a = A()\n",
    "a.say = MethodType(say, A) # 绑定A类中的函数\n",
    "a.say()\n",
    "\n"
   ]
  },
  {
   "cell_type": "code",
   "execution_count": 29,
   "metadata": {
    "collapsed": false
   },
   "outputs": [
    {
     "name": "stdout",
     "output_type": "stream",
     "text": [
      "Saying...\n",
      "talking\n"
     ]
    }
   ],
   "source": [
    "# 用type造一个类\n",
    "\n",
    "# 先定义一个类应该具有的成员函数\n",
    "def say(self):\n",
    "    print(\"Saying...\")\n",
    "    \n",
    "def talk(self):\n",
    "    print(\"talking\")\n",
    "    \n",
    "# 利用type来创建一个类\n",
    "A = type(\"Aname\", (object, ), {\"class_say\":say, \"class_talk\":talk})\n",
    "\n",
    "# 然后可以正常使用这个新建的类\n",
    "a = A()\n",
    "a.class_say()\n",
    "a.class_talk()"
   ]
  },
  {
   "cell_type": "code",
   "execution_count": 33,
   "metadata": {
    "collapsed": false
   },
   "outputs": [
    {
     "name": "stdout",
     "output_type": "stream",
     "text": [
      "我是元类嘛\n"
     ]
    },
    {
     "data": {
      "text/plain": [
       "'000'"
      ]
     },
     "execution_count": 33,
     "metadata": {},
     "output_type": "execute_result"
    }
   ],
   "source": [
    "# 利用元类 MetaClass\n",
    "# 元类写法是固定的，必须继承自type\n",
    "# 约定俗成，元类命名一般都以 MetaClass结尾\n",
    "\n",
    "class AMetaClass(type):\n",
    "    # 注意以下写法\n",
    "    def __new__(cls, name, bases, attrs):\n",
    "        # 自己的方法\n",
    "        print(\"我是元类嘛\")\n",
    "        attrs[\"id\"] = \"000\"\n",
    "        attrs[\"addr\"] = \"HangZhou\"\n",
    "        return type.__new__(cls, name, bases, attrs)\n",
    "    \n",
    "# 元类定义完就可以使用\n",
    "class Teacher(object, metaclass=AMetaClass):\n",
    "    pass\n",
    "\n",
    "t = Teacher()\n",
    "t.id"
   ]
  }
 ],
 "metadata": {
  "anaconda-cloud": {},
  "kernelspec": {
   "display_name": "Python 3",
   "language": "python",
   "name": "python3"
  },
  "language_info": {
   "codemirror_mode": {
    "name": "ipython",
    "version": 3
   },
   "file_extension": ".py",
   "mimetype": "text/x-python",
   "name": "python",
   "nbconvert_exporter": "python",
   "pygments_lexer": "ipython3",
   "version": "3.5.6"
  }
 },
 "nbformat": 4,
 "nbformat_minor": 2
}
