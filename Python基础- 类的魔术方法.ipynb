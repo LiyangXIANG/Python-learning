{
 "cells": [
  {
   "cell_type": "markdown",
   "metadata": {},
   "source": [
    "# 类的常用魔术方法\n",
    "- 魔术方法就是不需要人为调用的方法，基本是在特定时刻自动触发\n",
    "- 魔术方法的一个统一特征，方法名被前后各两个下划线包围，如构造函数__init__\n",
    "- 操作类的：\n",
    "    - __new__: 对象实例化方法，类被实例化时第一个被调用的其实就是这个函数，之后才是__init__\n",
    "        这个比较特殊，一般不用，一用的话，对象很可能就没了...\n",
    "    - __call__: 对象当函数使用的时候出发\n",
    "    - __str__: 当对象当做字符串时候触发，比如对象被放到print函数内使用\n",
    "    - __repr__: 直接返回字符串，对象不需要被当字符串使用时也可以触发，跟__str__具体区别, 参看<a href = \"https://www.cnblogs.com/superxuezhazha/p/5746922.html\">网址</a>\n",
    "- 描述符相关\n",
    "    - __set__：\n",
    "    - __get__：\n",
    "    - __delete_：\n",
    "- 属性操作相关\n",
    "    - __getattr__: 访问一个不存在的属性时候触发\n",
    "    - __setattr__: 对成员属性进行设置的时候触发\n",
    "        - 主要作用是进行属性设置的时候进行验证或者修改\n",
    "        - 注意：在该方法中不能对属性直接进行赋值操作，否则死循环\n",
    "- 运算分类相关魔法函数很多\n",
    "    - __gt__(self,第二个对象): 进行大于判断时候触发的函数，返回值可以任意\n",
    "    \n"
   ]
  },
  {
   "cell_type": "code",
   "execution_count": 11,
   "metadata": {},
   "outputs": [
    {
     "name": "stdout",
     "output_type": "stream",
     "text": [
      "AAAA\n",
      "Calling me!\n",
      "I am a string now\n"
     ]
    },
    {
     "data": {
      "text/plain": [
       "这给开发人员看的"
      ]
     },
     "execution_count": 11,
     "metadata": {},
     "output_type": "execute_result"
    }
   ],
   "source": [
    "# __call__ 举例\n",
    "class A():\n",
    "    def __init__(self):\n",
    "        print(\"AAAA\")\n",
    "        \n",
    "    def __call__(self):\n",
    "        print(\"Calling me!\")\n",
    "        \n",
    "    def __str__(self):\n",
    "        return \"I am a string now\"\n",
    "    # 一个偷懒的方法\n",
    "#     __repr__=__str__\n",
    "    # __repr__是给开发人员看的\n",
    "    def __repr__(self):\n",
    "        return \"这给开发人员看的\"\n",
    "        \n",
    "a = A() # 调用__init__函数\n",
    "a() # 调用__call__函数\n",
    "print(a)\n",
    "a"
   ]
  },
  {
   "cell_type": "code",
   "execution_count": 20,
   "metadata": {},
   "outputs": [
    {
     "name": "stdout",
     "output_type": "stream",
     "text": [
      "xly\n",
      "属性hobby没有找到\n",
      "None\n"
     ]
    }
   ],
   "source": [
    "# __getattr__\n",
    "class A():\n",
    "    name = \"xly\"\n",
    "    age = 18\n",
    "    def __getattr__(self,attr):\n",
    "        print(\"属性{0}没有找到\".format(attr))\n",
    "       \n",
    "        \n",
    "a = A()\n",
    "print(a.name)\n",
    "print(a.hobby) # 为什么最后还会打印出None？"
   ]
  },
  {
   "cell_type": "code",
   "execution_count": 24,
   "metadata": {},
   "outputs": [
    {
     "name": "stdout",
     "output_type": "stream",
     "text": [
      "设置属性：name=xly\n",
      "设置属性：age=13\n",
      "xly\n",
      "13\n",
      "{'name': 'xly', 'age': 13}\n",
      "设置属性：hobby=singing\n"
     ]
    },
    {
     "ename": "AttributeError",
     "evalue": "该属性不能改变",
     "output_type": "error",
     "traceback": [
      "\u001b[1;31m---------------------------------------------------------------------------\u001b[0m",
      "\u001b[1;31mAttributeError\u001b[0m                            Traceback (most recent call last)",
      "\u001b[1;32m<ipython-input-24-7c0150ceb58a>\u001b[0m in \u001b[0;36m<module>\u001b[1;34m()\u001b[0m\n\u001b[0;32m     25\u001b[0m \u001b[0mprint\u001b[0m\u001b[1;33m(\u001b[0m\u001b[0mp\u001b[0m\u001b[1;33m.\u001b[0m\u001b[0mage\u001b[0m\u001b[1;33m)\u001b[0m\u001b[1;33m\u001b[0m\u001b[0m\n\u001b[0;32m     26\u001b[0m \u001b[0mprint\u001b[0m\u001b[1;33m(\u001b[0m\u001b[0mp\u001b[0m\u001b[1;33m.\u001b[0m\u001b[0m__dict__\u001b[0m\u001b[1;33m)\u001b[0m\u001b[1;33m\u001b[0m\u001b[0m\n\u001b[1;32m---> 27\u001b[1;33m \u001b[0mp\u001b[0m\u001b[1;33m.\u001b[0m\u001b[0mhobby\u001b[0m \u001b[1;33m=\u001b[0m \u001b[1;34m\"singing\"\u001b[0m\u001b[1;33m\u001b[0m\u001b[0m\n\u001b[0m",
      "\u001b[1;32m<ipython-input-24-7c0150ceb58a>\u001b[0m in \u001b[0;36m__setattr__\u001b[1;34m(self, key, value)\u001b[0m\n\u001b[0;32m     14\u001b[0m         \u001b[1;31m# 方法2，如下，通过__dict__\u001b[0m\u001b[1;33m\u001b[0m\u001b[1;33m\u001b[0m\u001b[0m\n\u001b[0;32m     15\u001b[0m         \u001b[1;32mif\u001b[0m \u001b[0mkey\u001b[0m \u001b[1;32min\u001b[0m \u001b[0mself\u001b[0m\u001b[1;33m.\u001b[0m\u001b[0mprivs\u001b[0m\u001b[1;33m:\u001b[0m\u001b[1;33m\u001b[0m\u001b[0m\n\u001b[1;32m---> 16\u001b[1;33m             \u001b[1;32mraise\u001b[0m \u001b[0mAttributeError\u001b[0m\u001b[1;33m(\u001b[0m\u001b[1;34m'该属性不能改变'\u001b[0m\u001b[1;33m)\u001b[0m\u001b[1;33m\u001b[0m\u001b[0m\n\u001b[0m\u001b[0;32m     17\u001b[0m         \u001b[1;32melse\u001b[0m\u001b[1;33m:\u001b[0m\u001b[1;33m\u001b[0m\u001b[0m\n\u001b[0;32m     18\u001b[0m             \u001b[0mself\u001b[0m\u001b[1;33m.\u001b[0m\u001b[0m__dict__\u001b[0m\u001b[1;33m[\u001b[0m\u001b[0mkey\u001b[0m\u001b[1;33m]\u001b[0m \u001b[1;33m=\u001b[0m \u001b[0mvalue\u001b[0m\u001b[1;33m\u001b[0m\u001b[0m\n",
      "\u001b[1;31mAttributeError\u001b[0m: 该属性不能改变"
     ]
    }
   ],
   "source": [
    "# __setattr__(self,attr,value)\n",
    "class Person():\n",
    "    privs = ['hobby']  \n",
    "    def __init__(self):\n",
    "        pass\n",
    "    def __setattr__(self, key, value):\n",
    "        print(\"设置属性：{0}={1}\".format(key,value))\n",
    "        # 下面语句会导致死循环\n",
    "        # self.key = value\n",
    "        \n",
    "        # 为避免死循环，方法1，通过调用父类魔法函数\n",
    "        # 【？我感到这个方法不大好理解，因为我不知道父类的__setattr__是怎样的？】\n",
    "        # super().__setattr__(key, value)\n",
    "        \n",
    "        # 方法2，如下，通过__dict__，觉得这个方法比较好理解\n",
    "        if key in self.privs:         \n",
    "            raise AttributeError('该属性不能改变')\n",
    "        else:\n",
    "            self.__dict__[key] = value\n",
    "        \n",
    "        \n",
    "p = Person()\n",
    "p.name = \"xly\"\n",
    "p.age = 13\n",
    "print(p.name)\n",
    "print(p.age)\n",
    "print(p.__dict__)\n",
    "p.hobby = \"singing\"\n"
   ]
  },
  {
   "cell_type": "code",
   "execution_count": 25,
   "metadata": {},
   "outputs": [
    {
     "name": "stdout",
     "output_type": "stream",
     "text": [
      "A is bigger than B?\n",
      "False\n"
     ]
    }
   ],
   "source": [
    "# __gt__\n",
    "class Student():\n",
    "    def __init__(self, name):\n",
    "        self._name = name\n",
    "        \n",
    "    def __gt__(self,obj):\n",
    "        print(\"{0} is bigger than {1}?\".format(self._name,obj._name))\n",
    "        return self._name > obj._name\n",
    "    \n",
    "\n",
    "stu1 = Student(\"A\")\n",
    "stu2 = Student(\"B\")\n",
    "print(stu1 > stu2)"
   ]
  },
  {
   "cell_type": "markdown",
   "metadata": {},
   "source": [
    "# 字符串的比较是按照什么规则\n",
    "按照字母顺序比较的，参看这个<a href = \"https://zhidao.baidu.com/question/558202137825309252.html\">例子</a>\n",
    "\n"
   ]
  }
 ],
 "metadata": {
  "anaconda-cloud": {},
  "kernelspec": {
   "display_name": "Python 3",
   "language": "python",
   "name": "python3"
  },
  "language_info": {
   "codemirror_mode": {
    "name": "ipython",
    "version": 3
   },
   "file_extension": ".py",
   "mimetype": "text/x-python",
   "name": "python",
   "nbconvert_exporter": "python",
   "pygments_lexer": "ipython3",
   "version": "3.6.4"
  }
 },
 "nbformat": 4,
 "nbformat_minor": 1
}
