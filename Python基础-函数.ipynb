{
 "cells": [
  {
   "cell_type": "markdown",
   "metadata": {},
   "source": [
    "# 函数\n",
    "- 完成一个特定功能的代码模块\n",
    "- 函数使用\n",
    "    - 函数要先定义\n",
    "        - func为函数名称，自己定义，注意camel命名法最好只给类用\n",
    "        - func后的括号和冒号不能省略，括号内可以有参数，也可以没有\n",
    "        - 所有语句块代码要缩进   \n",
    "                def func(): \n",
    "                    语句块\n",
    "                    return 返回值\n",
    "    - 在被调用时，函数才会被执行"
   ]
  },
  {
   "cell_type": "code",
   "execution_count": 2,
   "metadata": {},
   "outputs": [
    {
     "name": "stdout",
     "output_type": "stream",
     "text": [
      "I am a self-defined function\n",
      "I need to realize one specific function\n",
      "I finish my job\n"
     ]
    }
   ],
   "source": [
    "def func():\n",
    "    print(\"I am a self-defined function\")\n",
    "    print(\"I need to realize one specific function\")\n",
    "    print(\"I finish my job\")\n",
    "    \n",
    "# 定义时候并不会被执行，只有调用函数时才会执行函数中的语句内容\n",
    "# 调用时候只要写出函数名称加后面的括号即可\n",
    "func()"
   ]
  },
  {
   "cell_type": "markdown",
   "metadata": {},
   "source": [
    "## 函数的参数和返回值\n",
    "- 参数：负责给函数传递一定必要的数据或者信息\n",
    "    - 形参：在函数定义时候用到的参数没有具体值，类似占位符\n",
    "    - 实参：在调用函数的时候输入的具体的值\n",
    "- 返回值：函数执行的结果\n",
    "    - 用关键字return返回\n",
    "    - 如果没有返回，则默认返回None\n",
    "    - 函数一旦执行return语句，则无条件返回，即结束函数的执行\n",
    "    - 推荐写法是有无返回，函数最后都以return结束 （可能有点烦人...）\n",
    "    "
   ]
  },
  {
   "cell_type": "code",
   "execution_count": 6,
   "metadata": {},
   "outputs": [
    {
     "name": "stdout",
     "output_type": "stream",
     "text": [
      "Hello, xly\n",
      "Welcome to our class!\n",
      "I have welcomed xly\n"
     ]
    }
   ],
   "source": [
    "def hello(person):\n",
    "    print(\"Hello, {0}\".format(person))\n",
    "    print(\"Welcome to our class!\")\n",
    "    return \"I have welcomed {0}\".format(person)\n",
    "\n",
    "# hello 函数的调用\n",
    "p = \"xly\"\n",
    "resp = hello(p)\n",
    "print(resp)"
   ]
  },
  {
   "cell_type": "code",
   "execution_count": 9,
   "metadata": {},
   "outputs": [
    {
     "name": "stdout",
     "output_type": "stream",
     "text": [
      "Hello, xly\n",
      "提前结束Hello函数的执行\n"
     ]
    }
   ],
   "source": [
    "# return案例2\n",
    "def hello(person):\n",
    "    print(\"Hello, {0}\".format(person))\n",
    "    return(\"提前结束Hello函数的执行\")\n",
    "    print(\"Welcome to our class!\")\n",
    "    return (\"I have welcomed {0}\".format(person))\n",
    "\n",
    "# hello 函数的调用\n",
    "p = \"xly\"\n",
    "resp = hello(p)\n",
    "print(resp)"
   ]
  },
  {
   "cell_type": "code",
   "execution_count": 13,
   "metadata": {},
   "outputs": [
    {
     "name": "stdout",
     "output_type": "stream",
     "text": [
      "[1]\n",
      "[2, 4]\n",
      "[3, 6, 9]\n",
      "[4, 8, 12, 16]\n",
      "[5, 10, 15, 20, 25]\n",
      "[6, 12, 18, 24, 30, 36]\n",
      "[7, 14, 21, 28, 35, 42, 49]\n",
      "[8, 16, 24, 32, 40, 48, 56, 64]\n",
      "[9, 18, 27, 36, 45, 54, 63, 72, 81]\n"
     ]
    }
   ],
   "source": [
    "# 打印九九乘法表\n",
    "\n",
    "def jiujiuTable():\n",
    "    for i in range(1,10):\n",
    "        l=[]\n",
    "        for j in range(1,i+1):\n",
    "            l.append(i*j)\n",
    "        print(l) # 因为print函数默认打印好后换行，所以直接打印一个list\n",
    "        \n",
    "# 调用函数\n",
    "jiujiuTable()"
   ]
  },
  {
   "cell_type": "code",
   "execution_count": 15,
   "metadata": {},
   "outputs": [
    {
     "name": "stdout",
     "output_type": "stream",
     "text": [
      "Help on built-in function print in module builtins:\n",
      "\n",
      "print(...)\n",
      "    print(value, ..., sep=' ', end='\\n', file=sys.stdout, flush=False)\n",
      "    \n",
      "    Prints the values to a stream, or to sys.stdout by default.\n",
      "    Optional keyword arguments:\n",
      "    file:  a file-like object (stream); defaults to the current sys.stdout.\n",
      "    sep:   string inserted between values, default a space.\n",
      "    end:   string appended after the last value, default a newline.\n",
      "    flush: whether to forcibly flush the stream.\n",
      "\n"
     ]
    }
   ],
   "source": [
    "# 打印九九乘法表2，更改print\n",
    "\n",
    "# 查找函数帮助文档\n",
    "# 1. help\n",
    "help(print)\n"
   ]
  },
  {
   "cell_type": "code",
   "execution_count": 21,
   "metadata": {},
   "outputs": [
    {
     "name": "stdout",
     "output_type": "stream",
     "text": [
      "1 \n",
      "2 4 \n",
      "3 6 9 \n",
      "4 8 12 16 \n",
      "5 10 15 20 25 \n",
      "6 12 18 24 30 36 \n",
      "7 14 21 28 35 42 49 \n",
      "8 16 24 32 40 48 56 64 \n",
      "9 18 27 36 45 54 63 72 81 \n"
     ]
    }
   ],
   "source": [
    "# 打印九九乘法表2，更改print\n",
    "def jiujiuTable():\n",
    "    for i in range(1,10):\n",
    "        for j in range(1,i+1):\n",
    "            print(i*j,end=\" \")\n",
    "        print()\n",
    "            \n",
    "# 调用\n",
    "jiujiuTable()        "
   ]
  },
  {
   "cell_type": "code",
   "execution_count": 29,
   "metadata": {},
   "outputs": [
    {
     "name": "stdout",
     "output_type": "stream",
     "text": [
      "1 \n",
      "2 4 \n",
      "3 6 9 \n",
      "4 8 12 16 \n",
      "5 10 15 20 25 \n",
      "6 12 18 24 30 36 \n",
      "7 14 21 28 35 42 49 \n",
      "8 16 24 32 40 48 56 64 \n",
      "9 18 27 36 45 54 63 72 81 \n"
     ]
    }
   ],
   "source": [
    "# 定义一个函数，打印一行久久乘法表\n",
    "def printLine(row):\n",
    "    for col in range(1,row+1):\n",
    "        print(row*col,end=\" \")\n",
    "    print()\n",
    "    \n",
    "def jiujiuTable():\n",
    "    for i in range(1,10):\n",
    "        printLine(i) # 函数套用\n",
    "        \n",
    "# 调用\n",
    "jiujiuTable()\n",
    "    "
   ]
  },
  {
   "cell_type": "markdown",
   "metadata": {},
   "source": [
    "# 参数详解\n",
    "- python参考资料：headfirst python (适合小白) -> 零基础入门学习python（小甲鱼）\n",
    "    -> 习题 -> 腾讯公开免费课\n",
    "- 参数分类\n",
    "    - 普通参数\n",
    "        - 参见上例，定义函数时候直接定义形参名，调用时候直接把变量或者值放入制定位置\n",
    "             \n",
    "                 def 函数名(形参1，形参2，...):\n",
    "                     函数体\n",
    "                     \n",
    "                 # 调用\n",
    "                 函数名（值1，值2，...）  # 只按照位置赋值，值1对应形参1\n",
    "    - 默认参数\n",
    "        - 形参带有默认值\n",
    "        \n",
    "                def func(p1=v1,p2=v2,...):\n",
    "                    func_block\n",
    "                    \n",
    "                # 调用1\n",
    "                func()\n",
    "                \n",
    "                # 调用2\n",
    "                val1=100;\n",
    "                val2=200;\n",
    "                func(val1,val2)\n",
    "        - 如果调用时没有对形参赋值，则使用默认值进行赋值\n",
    "    - 关键字参数\n",
    "        - 语法\n",
    "            \n",
    "                def func(p1=v1, p2=v2,...):\n",
    "                    func_block\n",
    "                    \n",
    "                调用函数：\n",
    "                func(p1=val1, p2=val2,...)\n",
    "       \n",
    "       - 虽然麻烦，但是好处也有：\n",
    "            - 不易混淆，不易出错，不必追求位置一一对应\n",
    "            - 使用关键字参数，可以不考虑参数位置\n",
    "    - 收集参数\n",
    "        - 把没有位置，不能和定义时的参数位置相对应的参数，放入一个特定的数据结构中\n",
    "        - 语法：\n",
    "        \n",
    "                def func(*args): # 可以按照list的使用方式访问args得到传入的参数\n",
    "                    func_body\n",
    "                    \n",
    "                # 调用时可以写任意多个参数\n",
    "                func(p1, p2, p3, ...)\n",
    "                \n",
    "        - 参数名args不是必须这么写，但是，没有特殊原因，推荐使用args命名，约定俗成\n",
    "        - 收集参数名前必须得有*\n",
    "        - 收集参数可以喝其他参数并存\n",
    "        - 收集参数之关键字收集参数\n",
    "            - 把关键字参数按字典格式存入收集参数\n",
    "            - 语法\n",
    "            \n",
    "                       def func(**kwargs):\n",
    "                           func_body\n",
    "                       \n",
    "                       调用：\n",
    "                       func(p1=v1, p2=v2, p3=v3, ...)\n",
    "                       \n",
    "            - kwargs为约定俗成的名称\n",
    "            - 访问kwargs需要按照字典格式访问\n",
    "                    \n"
   ]
  },
  {
   "cell_type": "code",
   "execution_count": 41,
   "metadata": {},
   "outputs": [
    {
     "name": "stdout",
     "output_type": "stream",
     "text": [
      "My name is sweid. I am 30 years old. I am male\n",
      "My name is xly. I am 30 years old. I am female\n"
     ]
    }
   ],
   "source": [
    "# 默认参数示例\n",
    "def reg(name,age,gender=\"male\"):\n",
    "    print(\"My name is {0}. I am {1} years old. I am {2}\".format(name,age,gender))\n",
    "    \n",
    "# 调用1, 默认调用\n",
    "reg(\"sweid\",30)\n",
    "\n",
    "\n",
    "# 调用2\n",
    "reg(\"xly\",30,\"female\")"
   ]
  },
  {
   "cell_type": "code",
   "execution_count": 45,
   "metadata": {},
   "outputs": [
    {
     "name": "stdout",
     "output_type": "stream",
     "text": [
      "I am a student\n",
      "My name is xly. I am 30 years old. My address is Hangzhou\n",
      "I am a student\n",
      "My name is 30. I am xly years old. My address is Hangzhou\n",
      "I am a student\n",
      "My name is xly. I am 30 years old. My address is Hangzhou\n"
     ]
    }
   ],
   "source": [
    "# 关键字参数案例\n",
    "def stu(name, age, addr):\n",
    "    print(\"I am a student\")\n",
    "    print(\"My name is {0}. I am {1} years old. My address is {2}\".format(name,age,addr))\n",
    "\n",
    "# 按照普通参数调用\n",
    "nm=\"xly\"\n",
    "age=30\n",
    "addr=\"Hangzhou\"\n",
    "stu(nm,age,addr)\n",
    "\n",
    "# 如果位置放错，结果会不如预期,如下\n",
    "stu(age,nm,addr)\n",
    "\n",
    "# 按照关键字参数调用\n",
    "stu(addr=addr,name=nm,age=age) # 参数换位置无所谓，不会影响函数结果\n",
    "\n"
   ]
  },
  {
   "cell_type": "code",
   "execution_count": 54,
   "metadata": {},
   "outputs": [
    {
     "name": "stdout",
     "output_type": "stream",
     "text": [
      "Hello,大家好，下面我就简单介绍下自己.\n",
      "My name is xly. I am 30 years old\n",
      "<class 'tuple'>\n",
      "Reading\n",
      "Single\n",
      "Hangzhou\n"
     ]
    }
   ],
   "source": [
    "# 收集参数案例\n",
    "# args其实可以看成一个列表,其实是元组tuple类型\n",
    "def stu(name,age,*args):\n",
    "    print(\"Hello,大家好，下面我就简单介绍下自己.\")\n",
    "    print(\"My name is {0}. I am {1} years old\".format(name, age))\n",
    "    print(type(args)) # type函数作用是检测变量的类型\n",
    "    for item in args:  \n",
    "        print(item)\n",
    "    '''\n",
    "        这里比下面的代码要简洁\n",
    "    for i in range(len(args)):\n",
    "        print(args[i])\n",
    "    '''      \n",
    "    \n",
    "stu(\"xly\",30,\"Reading\",\"Single\",\"Hangzhou\")"
   ]
  },
  {
   "cell_type": "code",
   "execution_count": 71,
   "metadata": {},
   "outputs": [
    {
     "name": "stdout",
     "output_type": "stream",
     "text": [
      "Hello,下面我来自我介绍下：\n",
      "<class 'dict'>\n",
      "name --- xly\n",
      "age --- 30\n",
      "hobby --- Python\n",
      "work --- stu\n",
      "**************************************************\n",
      "Hello,下面我来自我介绍下：\n",
      "<class 'dict'>\n",
      "name --- sweid\n",
      "--------------------------------------------------\n"
     ]
    }
   ],
   "source": [
    "# 收集参数之关键字收集参数\n",
    "# 自我介绍\n",
    "def stu(**kwargs):\n",
    "    print(\"Hello,下面我来自我介绍下：\")\n",
    "    print(type(kwargs))\n",
    "    # 对字典的访问，python2和python3不一样\n",
    "    for k,v in kwargs.items():\n",
    "        print(k,\"---\",v)\n",
    "\n",
    "stu(name=\"xly\",age=30,hobby=\"Python\",work=\"stu\") # 将关键字和值一一对应放入kwargs的字典中\n",
    "# print(\"*******************\")\n",
    "print(\"*\"*50) # 打印50个*，用乘号*实现\n",
    "\n",
    "stu(name=\"sweid\")\n",
    "print('-'*50)\n",
    "    "
   ]
  },
  {
   "cell_type": "code",
   "execution_count": 59,
   "metadata": {},
   "outputs": [
    {
     "name": "stdout",
     "output_type": "stream",
     "text": [
      "Hello,下面我来自我介绍下：\n",
      "<class 'dict'>\n"
     ]
    }
   ],
   "source": [
    "# 收集参数可以为空的案例\n",
    "stu()"
   ]
  },
  {
   "cell_type": "markdown",
   "metadata": {},
   "source": [
    "# 收集参数混合调用的顺序问题\n",
    "- 收集参数，关键字参数，普通参数可以混合调用\n",
    "- 使用规则是，普通参数和关键字参数优先\n",
    "- 定义的时候一般按照普通参数（位置参数），收集参数*args，关键字参数，收集参数**kwargs"
   ]
  },
  {
   "cell_type": "code",
   "execution_count": 115,
   "metadata": {},
   "outputs": [
    {
     "name": "stdout",
     "output_type": "stream",
     "text": [
      "Hello,everyone!\n",
      "I am xly. I'm 30 years old.\n",
      "I like Running\n",
      "**************************************************\n",
      "A\n",
      "B\n",
      "C\n",
      "**************************************************\n",
      "Likes --- Cat\n",
      "Dislikes --- Chocolate\n"
     ]
    }
   ],
   "source": [
    "#收集参数混合调用案例\n",
    "# stu模拟一个学生的自我介绍\n",
    "# 经测试，如果既有关键字参数，又有收集参数*args，\n",
    "# 则定义函数时候，关键字参数应该放在收集参数*args后,\n",
    "# 但是应该放在**kwargs之前，如下所示\n",
    "def stu(name,age,*args,hobby=\"none\",**kwargs):\n",
    "    print(\"Hello,everyone!\")\n",
    "    print(\"I am {0}. I\\'m {1} years old.\".format(name,age))\n",
    "    if hobby==\"none\":\n",
    "        print(\"I am sorry. I do not have a hobby\")\n",
    "    else:\n",
    "        print(\"I like {}\".format(hobby))\n",
    "    \n",
    "    print(\"*\"*50)\n",
    "    for i in args:\n",
    "        print(i)\n",
    "        \n",
    "    print(\"*\"*50)\n",
    "    \n",
    "    for k,v in kwargs.items():\n",
    "        print(k,\"---\",v)\n",
    "        \n",
    "# 调用函数\n",
    "name=\"xly\"\n",
    "age=30\n",
    "stu(name, age ,\"A\",\"B\",\"C\", hobby=\"Running\",Likes=\"Cat\",Dislikes=\"Chocolate\")"
   ]
  },
  {
   "cell_type": "markdown",
   "metadata": {},
   "source": [
    "## 收集参数的解包问题\n",
    "- 把参数放入list或者字典中，直接把list/dict中的值放入收集参数中\n",
    "- 语法，参看案例\n",
    "    - 对list解包，前面加一个星号*，如stu(*list)\n",
    "    - 对dict解包，需要前面加两个星号**,如stu(**dict)\n"
   ]
  },
  {
   "cell_type": "code",
   "execution_count": 127,
   "metadata": {},
   "outputs": [
    {
     "name": "stdout",
     "output_type": "stream",
     "text": [
      "test 1\n",
      "Hello\n",
      "xly\n",
      "30\n",
      "sweid\n",
      "31\n",
      "--------------------------------------------------\n",
      "test 2\n",
      "Hello\n",
      "['xly', 30, 'sweid', 31]\n",
      "--------------------------------------------------\n",
      "test 3\n",
      "Hello\n",
      "xly\n",
      "30\n",
      "sweid\n",
      "31\n",
      "--------------------------------------------------\n",
      "test 4\n",
      "xly : 30 years old\n",
      "sweid : 31 years old\n"
     ]
    }
   ],
   "source": [
    "# 收集参数的解包问题\n",
    "\n",
    "print(\"test 1\")\n",
    "def stu(*args):\n",
    "    print(\"Hello\")\n",
    "    for i in args:\n",
    "        print(i)\n",
    "        \n",
    "stu(\"xly\",30,\"sweid\",31)\n",
    "# 感觉这样子调用比较繁琐\n",
    "\n",
    "# 引入一个list作为args的输入\n",
    "print(\"-\"*50)\n",
    "print(\"test 2\")\n",
    "l=[\"xly\",30,\"sweid\",31]\n",
    "stu(l)\n",
    "# 发现此时将整个list作为一个元素放在args中了，违背了最初的设想\n",
    "\n",
    "# 此时的调用，需要解包list中的元素\n",
    "print(\"-\"*50)\n",
    "print(\"test 3\")\n",
    "stu(*l)\n",
    "# 如此一来，结果就跟test 1 中的打印结果一致\n",
    "\n",
    "# 对dict解包的案例\n",
    "def stu(**kwargs):\n",
    "    for k,v in kwargs.items():\n",
    "        print(k,\":\",v,\"years old\")\n",
    "        \n",
    "d={\"xly\":30, \"sweid\":31}\n",
    "print(\"-\"*50)\n",
    "print(\"test 4\")\n",
    "stu(**d)\n",
    "\n"
   ]
  },
  {
   "cell_type": "markdown",
   "metadata": {},
   "source": [
    "# 函数文档\n",
    "- 函数的文档的作用是对当前函数提供使用相关的参考信息\n",
    "- 文档的写法：\n",
    "    - 在函数的内部开始的第一行使用双三引号来书写函数的帮助信息\n",
    "    - 一般具有特定格式，参见下面案例\n",
    "\n",
    "- 文档查看\n",
    "    - 使用help函数，形如 help(func)\n",
    "    - 使用doc，print(func.__doc__)\n",
    "  "
   ]
  },
  {
   "cell_type": "code",
   "execution_count": 132,
   "metadata": {},
   "outputs": [
    {
     "name": "stdout",
     "output_type": "stream",
     "text": [
      "Help on function stu in module __main__:\n",
      "\n",
      "stu(name, age, *args)\n",
      "    此函数用于学生的自我介绍\n",
      "    ：name: 学生名字\n",
      "    ：age: 学生年龄\n",
      "    ：*args：可放入其他相关信息，如爱好等等\n",
      "    ：return：此函数没有返回值\n",
      "\n",
      "--------------------------------------------------\n",
      "\n",
      "    此函数用于学生的自我介绍\n",
      "    ：name: 学生名字\n",
      "    ：age: 学生年龄\n",
      "    ：*args：可放入其他相关信息，如爱好等等\n",
      "    ：return：此函数没有返回值\n",
      "\n",
      "   \n"
     ]
    }
   ],
   "source": [
    "# 函数帮助文档书写案例\n",
    "# 函数stu是模拟一个学生的自我介绍的内容\n",
    "def stu(name,age,*args):\n",
    "    \"\"\"\n",
    "    此函数用于学生的自我介绍\n",
    "    ：name: 学生名字\n",
    "    ：age: 学生年龄\n",
    "    ：*args：可放入其他相关信息，如爱好等等\n",
    "    ：return：此函数没有返回值\n",
    "\n",
    "   \"\"\"\n",
    "# 查看stu函数的帮助信息\n",
    "# 使用help来查看\n",
    "help(stu)\n",
    "print(\"-\"*50)\n",
    "\n",
    "# 也可以使用doc来查看\n",
    "print(stu.__doc__)"
   ]
  }
 ],
 "metadata": {
  "kernelspec": {
   "display_name": "Python 3",
   "language": "python",
   "name": "python3"
  },
  "language_info": {
   "codemirror_mode": {
    "name": "ipython",
    "version": 3
   },
   "file_extension": ".py",
   "mimetype": "text/x-python",
   "name": "python",
   "nbconvert_exporter": "python",
   "pygments_lexer": "ipython3",
   "version": "3.6.4"
  }
 },
 "nbformat": 4,
 "nbformat_minor": 2
}
