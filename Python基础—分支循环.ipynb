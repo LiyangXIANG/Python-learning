{
 "cells": [
  {
   "cell_type": "markdown",
   "metadata": {},
   "source": [
    "# 三大结构\n",
    "- 顺序\n",
    "- 分支\n",
    "- 循环\n"
   ]
  },
  {
   "cell_type": "markdown",
   "metadata": {},
   "source": [
    "## 分支语句 if \n",
    "- 基本语句\n",
    "    \n",
    "        if 条件语句：\n",
    "            语句1\n",
    "            语句2\n",
    "             ...\n",
    "\n",
    "- 双向分支\n",
    "         \n",
    "         if 条件语句：\n",
    "             语句1\n",
    "             语句2\n",
    "            ...\n",
    "          else：\n",
    "             语句1\n",
    "             语句2\n",
    "         ...\n",
    "- 多向分支\n",
    "         \n",
    "         if 条件语句：\n",
    "             语句1\n",
    "             语句2\n",
    "                ...\n",
    "          elif：\n",
    "             语句1\n",
    "             语句2\n",
    "             ...\n",
    "          elif：\n",
    "             语句1\n",
    "             语句2\n",
    "             ...\n",
    "          else:\n",
    "             语句1\n",
    "             语句2\n",
    "             ...\n",
    "      \n",
    "- if语句只会执行其中一个分支\n",
    "- if语句可以嵌套使用，但不是很推荐\n",
    "- python没有switch-case,就用if-elif-else"
   ]
  },
  {
   "cell_type": "code",
   "execution_count": 11,
   "metadata": {},
   "outputs": [
    {
     "name": "stdout",
     "output_type": "stream",
     "text": [
      "请输入性别：woman\n",
      "你输入的性别是：woman\n",
      "你是女的\n"
     ]
    }
   ],
   "source": [
    "gender=input(\"请输入性别：\")\n",
    "print(\"你输入的性别是：{0}\".format(gender))\n",
    "# print(\"你输入的性别是: %s\"%gender)\n",
    "if gender==\"man\":\n",
    "    print(\"你是男的\")\n",
    "else:\n",
    "    print(\"你是女的\")\n",
    "        "
   ]
  },
  {
   "cell_type": "code",
   "execution_count": 17,
   "metadata": {},
   "outputs": [
    {
     "name": "stdout",
     "output_type": "stream",
     "text": [
      "请输入你的考试成绩：9\n",
      "你输入的成绩是：9\n",
      "不及格\n"
     ]
    }
   ],
   "source": [
    "score=input(\"请输入你的考试成绩：\")\n",
    "print(\"你输入的成绩是：{0}\".format(score))\n",
    "\n",
    "# 通过input获取的值是字符串格式，需要通过转换变成数值形式\n",
    "score=int(score)\n",
    "if score>=90:\n",
    "    print(\"优秀\")\n",
    "elif score>=80:  # 这里不需要用80<=score<90\n",
    "    print(\"优良\")\n",
    "elif score>=70:\n",
    "    print(\"一般\")\n",
    "else:\n",
    "    print(\"不及格\")\n",
    "            "
   ]
  },
  {
   "cell_type": "markdown",
   "metadata": {},
   "source": [
    "# 循环语句 for\n",
    "- for循环\n",
    "- while循环\n",
    "\n",
    "## for循环\n",
    "- for循环\n",
    "\n",
    "        for 变量 in 序列：\n",
    "            语句1\n",
    "            语句2\n",
    "            ...\n",
    "    \n"
   ]
  },
  {
   "cell_type": "code",
   "execution_count": 21,
   "metadata": {},
   "outputs": [
    {
     "name": "stdout",
     "output_type": "stream",
     "text": [
      "I love you zhangsan,let's go!\n",
      "lisi,I have no time\n",
      "wangwu,I have no time\n"
     ]
    }
   ],
   "source": [
    "for name in ['zhangsan','lisi','wangwu']:\n",
    "    if name=='zhangsan':\n",
    "        print(\"I love you zhangsan,let\\'s go!\")\n",
    "    else:\n",
    "        print(\"{},I have no time\".format(name))\n",
    "        "
   ]
  },
  {
   "cell_type": "markdown",
   "metadata": {},
   "source": [
    "# range\n",
    "- 生成一个数字序列\n",
    "- 具体范围可以设定"
   ]
  },
  {
   "cell_type": "code",
   "execution_count": 23,
   "metadata": {},
   "outputs": [
    {
     "name": "stdout",
     "output_type": "stream",
     "text": [
      "3\n",
      "4\n",
      "5\n",
      "6\n",
      "7\n",
      "8\n"
     ]
    }
   ],
   "source": [
    "for i in range(3,9):\n",
    "    print(i)\n"
   ]
  },
  {
   "cell_type": "markdown",
   "metadata": {},
   "source": [
    "# for-else 语句\n",
    "- 当循环结束时候会执行else语句\n",
    "- else语句是可选语句\n",
    "- （个人感觉没太大用处）"
   ]
  },
  {
   "cell_type": "code",
   "execution_count": 25,
   "metadata": {},
   "outputs": [
    {
     "name": "stdout",
     "output_type": "stream",
     "text": [
      "I love you zhangsan,let's go!\n",
      "lisi,I have no time\n",
      "wangwu,I have no time\n",
      "别人都不约\n"
     ]
    }
   ],
   "source": [
    "for name in ['zhangsan','lisi','wangwu']:\n",
    "    if name=='zhangsan':\n",
    "        print(\"I love you zhangsan,let\\'s go!\")\n",
    "    else:\n",
    "        print(\"{},I have no time\".format(name))\n",
    "else:\n",
    "    print(\"别人都不约\")"
   ]
  },
  {
   "cell_type": "markdown",
   "metadata": {},
   "source": [
    "# 循环之break,continue,pass\n",
    "- break, 无条件结束整个循环，循环猝死\n",
    "- continue，无条件结束本次循环，重新进入下一轮循环\n",
    "- pass，表示路过，预留位置，将来可能添加代码\n"
   ]
  },
  {
   "cell_type": "code",
   "execution_count": 29,
   "metadata": {},
   "outputs": [
    {
     "name": "stdout",
     "output_type": "stream",
     "text": [
      "1\n",
      "2\n",
      "3\n",
      "4\n",
      "5\n",
      "6\n",
      "7\n",
      "重复此句10次\n",
      "重复此句10次\n",
      "重复此句10次\n",
      "重复此句10次\n",
      "重复此句10次\n",
      "重复此句10次\n",
      "重复此句10次\n",
      "重复此句10次\n",
      "重复此句10次\n",
      "重复此句10次\n"
     ]
    }
   ],
   "source": [
    "# 在1-10中，寻找7，一旦找到，打印出来，结束寻找\n",
    "\n",
    "for i in range(1,11):\n",
    "    print(i)\n",
    "    if i==7:       \n",
    "        break\n",
    "        \n",
    "# 在python中，如果循环变量名称不重要，则可以用下划线_表示变量名称\n",
    "for _ in range(1,11):\n",
    "    print(\"重复此句10次\")\n"
   ]
  },
  {
   "cell_type": "code",
   "execution_count": 35,
   "metadata": {},
   "outputs": [
    {
     "name": "stdout",
     "output_type": "stream",
     "text": [
      "2是偶数\n",
      "4是偶数\n",
      "6是偶数\n",
      "8是偶数\n",
      "10是偶数\n",
      "2是偶数\n",
      "4是偶数\n",
      "6是偶数\n",
      "8是偶数\n",
      "10是偶数\n",
      "2是偶数吧\n",
      "4是偶数吧\n",
      "6是偶数吧\n",
      "8是偶数吧\n",
      "10是偶数吧\n"
     ]
    }
   ],
   "source": [
    "# continue语句使用\n",
    "# 打印1-10中的偶数\n",
    "for i in range(1,11):\n",
    "    if i%2==1:\n",
    "        continue\n",
    "    else:\n",
    "        print(\"{0}是偶数\".format(i))\n",
    "\n",
    "# 这样也可以  \n",
    "for i in range(1,11):\n",
    "    if i%2==1:\n",
    "        continue    \n",
    "    print(\"{0}是偶数\".format(i))\n",
    "\n",
    "# 其实正常应该是这样\n",
    "for i in range(1,11):\n",
    "    if i%2==0:\n",
    "        print(\"{0}是偶数吧\".format(i))               "
   ]
  },
  {
   "cell_type": "code",
   "execution_count": 1,
   "metadata": {},
   "outputs": [
    {
     "name": "stdout",
     "output_type": "stream",
     "text": [
      "Pass在此\n",
      "Pass在此\n"
     ]
    }
   ],
   "source": [
    "# pass用于占位，没有跳过功能\n",
    "for i in range(1,3):\n",
    "    pass\n",
    "    print(\"Pass在此\")\n"
   ]
  },
  {
   "cell_type": "markdown",
   "metadata": {},
   "source": [
    "# while循环\n",
    "- 当某个条件成立时，就执行循环语句\n",
    "- 跟for循环不同的是，while循环次数不确定\n",
    "- while语法\n",
    "         \n",
    "         while 条件表达式：\n",
    "             语句块1\n",
    "         else：              # else语句块可选，只在退出while循环时候执行一次\n",
    "             语句块2\n",
    "             "
   ]
  },
  {
   "cell_type": "code",
   "execution_count": 14,
   "metadata": {},
   "outputs": [
    {
     "name": "stdout",
     "output_type": "stream",
     "text": [
      "第1年后本金加利息共计：106700.0\n",
      "第2年后本金加利息共计：113848.9\n",
      "第3年后本金加利息共计：121476.77629999998\n",
      "第4年后本金加利息共计：129615.72031209998\n",
      "第5年后本金加利息共计：138299.97357301068\n",
      "第6年后本金加利息共计：147566.07180240238\n",
      "第7年后本金加利息共计：157452.99861316333\n",
      "第8年后本金加利息共计：168002.34952024528\n",
      "第9年后本金加利息共计：179258.5069381017\n",
      "第10年后本金加利息共计：191268.8269029545\n",
      "我去，过了10年还没实现翻倍！不算了！\n"
     ]
    }
   ],
   "source": [
    "# 如果年利率是6.7%，本利是每年翻滚，则多少年后本钱会翻倍\n",
    "benqian=100000;\n",
    "sum=benqian;\n",
    "year=0;\n",
    "while sum<=2*benqian:\n",
    "    sum=sum*(1+0.067)\n",
    "    year+=1\n",
    "    print(\"第{0}年后本金加利息共计：{1}\".format(year,sum))\n",
    "    if year>=10:\n",
    "        print(\"我去，过了10年还没实现翻倍！不算了！\")\n",
    "        break\n",
    "    \n",
    "    if sum>2*benqian:\n",
    "        print(\"已经超过两倍本钱水平\")\n",
    "    \n",
    "else:\n",
    "    print(\"可以下馆子吃一顿犒劳下\")\n",
    "    \n"
   ]
  }
 ],
 "metadata": {
  "kernelspec": {
   "display_name": "Python 3",
   "language": "python",
   "name": "python3"
  },
  "language_info": {
   "codemirror_mode": {
    "name": "ipython",
    "version": 3
   },
   "file_extension": ".py",
   "mimetype": "text/x-python",
   "name": "python",
   "nbconvert_exporter": "python",
   "pygments_lexer": "ipython3",
   "version": "3.6.4"
  }
 },
 "nbformat": 4,
 "nbformat_minor": 2
}
