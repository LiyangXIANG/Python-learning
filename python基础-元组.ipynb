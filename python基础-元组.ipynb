{
 "cells": [
  {
   "cell_type": "markdown",
   "metadata": {},
   "source": [
    "# 元组 tuple\n",
    "- 元组可以看成是不可更改的list\n",
    "- 元组的特性\n",
    "    - 有序\n",
    "    - 元组数据可以访问，但不能修改，不能修改，不能修改\n",
    "    - 元组数据可以是任意类型\n",
    "    - 总之，list所有特性，除了可以修改外，元组都具有\n",
    "    - 意味着，元组具有的一些操作，如索引，分片，序列相加，相乘，成员资格操作，都一样\n"
   ]
  },
  {
   "cell_type": "code",
   "execution_count": 14,
   "metadata": {
    "collapsed": false
   },
   "outputs": [
    {
     "name": "stdout",
     "output_type": "stream",
     "text": [
      "<class 'tuple'>\n",
      "<class 'tuple'>\n",
      "(1,)\n",
      "<class 'int'>\n",
      "1\n",
      "<class 'tuple'>\n",
      "(1,)\n",
      "<class 'tuple'>\n",
      "(1, 2, 3, 4)\n",
      "<class 'tuple'>\n",
      "(1, 2, 3, 4)\n",
      "--------------------------------------------------\n",
      "<class 'int'>\n",
      "<class 'tuple'>\n",
      "(1, 2, 3, 4, 5)\n"
     ]
    }
   ],
   "source": [
    "# 创建空元组\n",
    "t = ()\n",
    "print(type(t))\n",
    "\n",
    "# 创建只有一个元素的元组\n",
    "t = (1,) # 这里最后一定要加逗号，因为其实括号没什么用，只是起到把元素拦起来的作用\n",
    "print(type(t))\n",
    "print(t)\n",
    "\n",
    "# 如果后面不加逗号,其实t就不被当成元组了\n",
    "t = (1)\n",
    "print(type(t))\n",
    "print(t)\n",
    "\n",
    "# 其实创建元组的时候，括号甚至都可以不加，但是不大推荐\n",
    "t = 1,\n",
    "print(type(t))\n",
    "print(t)\n",
    "\n",
    "# 创建多个元素的元组，最后不用加逗号,当然，加了也没有问题\n",
    "t1 = (1,2,3,4)\n",
    "print(type(t1))\n",
    "print(t1)\n",
    "t1 = 1,2,3,4\n",
    "print(type(t1))\n",
    "print(t1)\n",
    "\n",
    "# 使其他数据结构如list来创建元组，利用函数tuple()\n",
    "print(\"-\"*50)\n",
    "l = [1,2,3,4,5]\n",
    "t = tuple(l)\n",
    "print(type(1))\n",
    "print(type(t))\n",
    "print(t)"
   ]
  },
  {
   "cell_type": "code",
   "execution_count": 21,
   "metadata": {
    "collapsed": false
   },
   "outputs": [
    {
     "name": "stdout",
     "output_type": "stream",
     "text": [
      "3\n"
     ]
    },
    {
     "ename": "IndexError",
     "evalue": "tuple index out of range",
     "output_type": "error",
     "traceback": [
      "\u001b[0;31m---------------------------------------------------------------------------\u001b[0m",
      "\u001b[0;31mIndexError\u001b[0m                                Traceback (most recent call last)",
      "\u001b[0;32m<ipython-input-21-90a742b82a46>\u001b[0m in \u001b[0;36m<module>\u001b[0;34m()\u001b[0m\n\u001b[1;32m      2\u001b[0m \u001b[0mt\u001b[0m \u001b[1;33m=\u001b[0m \u001b[1;33m(\u001b[0m\u001b[1;36m1\u001b[0m\u001b[1;33m,\u001b[0m\u001b[1;36m2\u001b[0m\u001b[1;33m,\u001b[0m\u001b[1;36m3\u001b[0m\u001b[1;33m,\u001b[0m\u001b[1;36m4\u001b[0m\u001b[1;33m)\u001b[0m\u001b[1;33m\u001b[0m\u001b[0m\n\u001b[1;32m      3\u001b[0m \u001b[0mprint\u001b[0m\u001b[1;33m(\u001b[0m\u001b[0mt\u001b[0m\u001b[1;33m[\u001b[0m\u001b[1;36m2\u001b[0m\u001b[1;33m]\u001b[0m\u001b[1;33m)\u001b[0m\u001b[1;33m\u001b[0m\u001b[0m\n\u001b[0;32m----> 4\u001b[0;31m \u001b[0mprint\u001b[0m\u001b[1;33m(\u001b[0m\u001b[0mt\u001b[0m\u001b[1;33m[\u001b[0m\u001b[1;36m10\u001b[0m\u001b[1;33m]\u001b[0m\u001b[1;33m)\u001b[0m\u001b[1;33m\u001b[0m\u001b[0m\n\u001b[0m",
      "\u001b[0;31mIndexError\u001b[0m: tuple index out of range"
     ]
    }
   ],
   "source": [
    "# 索引操作，索引不能超标\n",
    "t = (1,2,3,4)\n",
    "print(t[2])\n",
    "# 超标错误\n",
    "print(t[10])"
   ]
  },
  {
   "cell_type": "code",
   "execution_count": 22,
   "metadata": {
    "collapsed": false
   },
   "outputs": [
    {
     "name": "stdout",
     "output_type": "stream",
     "text": [
      "(1, 2, 3, 4, 5, 6)\n",
      "(2, 4, 6)\n",
      "77899240\n",
      "78549424\n"
     ]
    }
   ],
   "source": [
    "# 切片操作，切片可以超标\n",
    "t = (1,2,3,4,5,6)\n",
    "t1 = t[1::2] # 从下标1开始，每间隔1个取值，知道最后一个元素\n",
    "print(t)\n",
    "print(t1)\n",
    "print(id(t))\n",
    "print(id(t1))\n"
   ]
  },
  {
   "cell_type": "code",
   "execution_count": 29,
   "metadata": {
    "collapsed": false
   },
   "outputs": [
    {
     "name": "stdout",
     "output_type": "stream",
     "text": [
      "(1, 2, 3, 4, 5, 6)\n",
      "--------------------------------------------------\n",
      "78474912\n",
      "(1, 2, 3, 4, 5, 6)\n",
      "77898184\n"
     ]
    },
    {
     "ename": "TypeError",
     "evalue": "'tuple' object does not support item assignment",
     "output_type": "error",
     "traceback": [
      "\u001b[0;31m---------------------------------------------------------------------------\u001b[0m",
      "\u001b[0;31mTypeError\u001b[0m                                 Traceback (most recent call last)",
      "\u001b[0;32m<ipython-input-29-3524e81d7f46>\u001b[0m in \u001b[0;36m<module>\u001b[0;34m()\u001b[0m\n\u001b[1;32m     19\u001b[0m \u001b[1;33m\u001b[0m\u001b[0m\n\u001b[1;32m     20\u001b[0m \u001b[1;31m# tuple的不能修改指的是内容不可修改，否则报错，如下\u001b[0m\u001b[1;33m\u001b[0m\u001b[1;33m\u001b[0m\u001b[0m\n\u001b[0;32m---> 21\u001b[0;31m \u001b[0mt\u001b[0m\u001b[1;33m[\u001b[0m\u001b[1;36m1\u001b[0m\u001b[1;33m]\u001b[0m\u001b[1;33m=\u001b[0m\u001b[1;36m100\u001b[0m\u001b[1;33m\u001b[0m\u001b[0m\n\u001b[0m",
      "\u001b[0;31mTypeError\u001b[0m: 'tuple' object does not support item assignment"
     ]
    }
   ],
   "source": [
    "# 序列相加\n",
    "t1 = (1,2,3)\n",
    "t2 = (4,5,6)\n",
    "t3 = t1+t2\n",
    "print(t3)\n",
    "\n",
    "# 这里为什么t1可以被修改呢？\n",
    "# 其实是进行了传址操作\n",
    "# 从输出中可以看到t1其实是指向了另外的地址\n",
    "print(\"-\"*50)\n",
    "print(id(t1))\n",
    "t1 += t2 \n",
    "print(t1)\n",
    "print(id(t1))\n",
    "\n",
    "# 其实上述操作类似于下面的操作，是可行的\n",
    "t1 = (1,2,3)\n",
    "t1 = (4,5,6)\n",
    "\n",
    "# tuple的不能修改指的是内容不可修改，否则报错，如下\n",
    "t[1]=100\n"
   ]
  },
  {
   "cell_type": "code",
   "execution_count": 32,
   "metadata": {
    "collapsed": false
   },
   "outputs": [
    {
     "name": "stdout",
     "output_type": "stream",
     "text": [
      "(1, 2, 3, 1, 2, 3, 1, 2, 3)\n"
     ]
    }
   ],
   "source": [
    "# 元组相乘\n",
    "t = (1,2,3)\n",
    "t = t*3\n",
    "print(t)"
   ]
  },
  {
   "cell_type": "code",
   "execution_count": 34,
   "metadata": {
    "collapsed": false
   },
   "outputs": [
    {
     "name": "stdout",
     "output_type": "stream",
     "text": [
      "Yes\n"
     ]
    }
   ],
   "source": [
    "# 成员检测\n",
    "t = (1,5,6,8,9,10,2)\n",
    "if 5 in t:\n",
    "    print(\"Yes\")\n",
    "else:\n",
    "    print(\"No\")\n",
    "        "
   ]
  },
  {
   "cell_type": "code",
   "execution_count": 37,
   "metadata": {
    "collapsed": false
   },
   "outputs": [
    {
     "name": "stdout",
     "output_type": "stream",
     "text": [
      "1 2 3 A B "
     ]
    }
   ],
   "source": [
    "# 元组遍历，一般用for\n",
    "# 1. 单层元组遍历\n",
    "t = (1,2,3,\"A\",\"B\")\n",
    "for i in t:\n",
    "    print(i, end=\" \")"
   ]
  },
  {
   "cell_type": "code",
   "execution_count": 44,
   "metadata": {
    "collapsed": false
   },
   "outputs": [
    {
     "name": "stdout",
     "output_type": "stream",
     "text": [
      "(1, 2, 3)\n",
      "(4, 5, 6)\n",
      "('A', 'B', 'C')\n",
      "--------------------------------------------------\n",
      "1 --- 2 --- 3\n",
      "4 --- 5 --- 6\n",
      "A --- B --- C\n"
     ]
    }
   ],
   "source": [
    "# 双层元组遍历\n",
    "t = ((1,2,3),(4,5,6),(\"A\",\"B\",\"C\"))\n",
    "for i in t:\n",
    "    print(i)\n",
    "    \n",
    "# 因为每个子元组逇元素个数一致，也可以用以下方法遍历\n",
    "# 好处是可以获取每个子元组中的元素\n",
    "print(\"-\"*50)\n",
    "for k,m,n in t:\n",
    "    print(k,\"---\",m,\"---\",n)\n"
   ]
  },
  {
   "cell_type": "markdown",
   "metadata": {},
   "source": [
    "# 有关元组的函数\n",
    "- 基本跟list通用\n",
    "- len: 获取长度\n",
    "- max，min：最大最小值\n",
    "- tuple：转换或创建元组\n",
    "- count：统计某个元素在元组中出现的次数\n",
    "- index：返回某个元素在元组中的下标位置，若有多个，只返回第一个的位置"
   ]
  },
  {
   "cell_type": "code",
   "execution_count": 47,
   "metadata": {
    "collapsed": false
   },
   "outputs": [
    {
     "name": "stdout",
     "output_type": "stream",
     "text": [
      "(1, 2, 3, 4)\n",
      "()\n"
     ]
    }
   ],
   "source": [
    "# tuple\n",
    "l = [1,2,3,4]\n",
    "t = tuple(l)\n",
    "print(t)\n",
    "\n",
    "t = tuple() # tuple其实是一个class类，这里是一个实例化的过程\n",
    "print(t)"
   ]
  },
  {
   "cell_type": "markdown",
   "metadata": {},
   "source": [
    "# 元组变量交换法\n",
    "- 两个变量交换值"
   ]
  },
  {
   "cell_type": "code",
   "execution_count": 50,
   "metadata": {
    "collapsed": false
   },
   "outputs": [
    {
     "name": "stdout",
     "output_type": "stream",
     "text": [
      "1\n",
      "3\n",
      "--------------------------------------------------\n",
      "3\n",
      "1\n",
      "--------------------------------------------------\n",
      "1\n",
      "3\n"
     ]
    }
   ],
   "source": [
    "a = 1\n",
    "b = 3\n",
    "print(a)\n",
    "print(b)\n",
    "\n",
    "# java程序员\n",
    "print(\"-\"*50)\n",
    "c = a\n",
    "a = b\n",
    "b = c\n",
    "print(a)\n",
    "print(b)\n",
    "\n",
    "# python程序员\n",
    "print(\"-\"*50)\n",
    "a,b = b,a\n",
    "print(a)\n",
    "print(b)"
   ]
  }
 ],
 "metadata": {
  "anaconda-cloud": {},
  "kernelspec": {
   "display_name": "Python 3",
   "language": "python",
   "name": "python3"
  },
  "language_info": {
   "codemirror_mode": {
    "name": "ipython",
    "version": 3
   },
   "file_extension": ".py",
   "mimetype": "text/x-python",
   "name": "python",
   "nbconvert_exporter": "python",
   "pygments_lexer": "ipython3",
   "version": "3.5.6"
  }
 },
 "nbformat": 4,
 "nbformat_minor": 1
}
