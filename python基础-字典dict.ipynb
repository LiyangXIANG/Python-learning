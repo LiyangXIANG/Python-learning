{
 "cells": [
  {
   "cell_type": "markdown",
   "metadata": {},
   "source": [
    "# 字典 dict\n",
    "- 字典是以键值对形式出现的数据的集合，键值对的排列是无序的\n",
    "## 字典的创建"
   ]
  },
  {
   "cell_type": "code",
   "execution_count": 10,
   "metadata": {},
   "outputs": [
    {
     "name": "stdout",
     "output_type": "stream",
     "text": [
      "<class 'dict'>\n",
      "{'age': 30, 'name': 'xly', 'hobby': 'python'}\n",
      "{'age': 30, 'name': 'xly', 'hobby': 'python'}\n",
      "{'age': 30, 'name': 'xly', 'hobby': 'python'}\n",
      "{'age': 30, 'name': 'xly', 'hobby': 'python'}\n"
     ]
    }
   ],
   "source": [
    "# 字典的创建\n",
    "# 创建空字典1\n",
    "d = {}\n",
    "print(type(d))\n",
    "\n",
    "# 创建空字典2\n",
    "d = dict()\n",
    "\n",
    "# 创建有值得字典，其实这种方法挺简便的，建议这种\n",
    "d = {\"name\":\"xly\",\"age\":30,\"hobby\":\"python\"}\n",
    "print(d)\n",
    "\n",
    "# 用dict创建有值字典1\n",
    "d = dict({\"name\":\"xly\",\"age\":30,\"hobby\":\"python\"})\n",
    "print(d)\n",
    "\n",
    "# 用dict创建有值字典2\n",
    "# 利用关键字参数,注意关键字不要加引号\n",
    "d = dict(name=\"xly\",age=30,hobby=\"python\")\n",
    "print(d)\n",
    "\n",
    "# \n",
    "d = dict([(\"name\",\"xly\"),(\"age\",30),(\"hobby\",\"python\")])\n",
    "print(d)"
   ]
  },
  {
   "cell_type": "markdown",
   "metadata": {
    "collapsed": true
   },
   "source": [
    "# 字典的特征\n",
    "- 字典是序列类型，但是是无序序列，所以没有分片和索引\n",
    "- 字典中的数据每个都是由键值对组成，即kv对\n",
    "    - key：必须是可哈希的值，如int，string，float，tuple，但是，list，set，dict不行\n",
    "    - value：任何值都可以"
   ]
  },
  {
   "cell_type": "code",
   "execution_count": 4,
   "metadata": {},
   "outputs": [
    {
     "name": "stdout",
     "output_type": "stream",
     "text": [
      "1\n"
     ]
    }
   ],
   "source": [
    "# 访问数据\n",
    "d = {\"one\":1,\"two\":2,\"three\":3}\n",
    "# 注意访问格式\n",
    "# 中括号内是键值\n",
    "print(d[\"one\"])"
   ]
  },
  {
   "cell_type": "code",
   "execution_count": 6,
   "metadata": {},
   "outputs": [
    {
     "name": "stdout",
     "output_type": "stream",
     "text": [
      "{'two': 2, 'three': 3}\n"
     ]
    }
   ],
   "source": [
    "# 删除某个键值对，del\n",
    "d = {\"one\":1,\"two\":2,\"three\":3}\n",
    "del d[\"one\"]\n",
    "print(d)"
   ]
  },
  {
   "cell_type": "code",
   "execution_count": 9,
   "metadata": {},
   "outputs": [
    {
     "name": "stdout",
     "output_type": "stream",
     "text": [
      "key\n"
     ]
    }
   ],
   "source": [
    "# 成员检测，in, not in\n",
    "d = {\"one\":1,\"two\":2,\"three\":3}\n",
    "if 2 in d:\n",
    "    print(\"value\")\n",
    "if \"two\" in d:\n",
    "    print(\"key\")\n",
    "if (\"two\",2) in d:\n",
    "    print(\"kv\")\n",
    "    \n",
    "# 由此可见，成员检测检测的是key的内容，not value"
   ]
  },
  {
   "cell_type": "code",
   "execution_count": 1,
   "metadata": {},
   "outputs": [
    {
     "name": "stdout",
     "output_type": "stream",
     "text": [
      "one 1\n",
      "two 2\n",
      "three 3\n",
      "--------------------------------------------------\n",
      "one 1\n",
      "two 2\n",
      "three 3\n",
      "--------------------------------------------------\n",
      "1\n",
      "2\n",
      "3\n",
      "--------------------------------------------------\n",
      "one -- 1\n",
      "two -- 2\n",
      "three -- 3\n"
     ]
    }
   ],
   "source": [
    "# 遍历在python2 和python3 中区别比较大，代码不通用\n",
    "# 按key来使用for循环，在python2 \n",
    "d = {\"one\":1,\"two\":2,\"three\":3}\n",
    "for k in d:\n",
    "    print(k,d[k])\n",
    "    \n",
    "# 上述代码可以改写成如下\n",
    "print(\"-\"*50)\n",
    "for k in d.keys():\n",
    "    print(k,d[k])\n",
    "\n",
    "# 只访问字典的值\n",
    "print(\"-\"*50)\n",
    "for v in d.values():\n",
    "    print(v)\n",
    "\n",
    "# 注意以下特殊用法,推荐\n",
    "print(\"-\"*50)\n",
    "for k,v in d.items():\n",
    "    print(k,\"--\",v)\n"
   ]
  },
  {
   "cell_type": "code",
   "execution_count": 4,
   "metadata": {},
   "outputs": [
    {
     "name": "stdout",
     "output_type": "stream",
     "text": [
      "{'one': 1, 'two': 2, 'three': 3}\n",
      "{'two': 2}\n"
     ]
    }
   ],
   "source": [
    "# 字典生成式\n",
    "d = {\"one\":1,\"two\":2,\"three\":3}\n",
    "# 常规字典生成式\n",
    "dd = {k:v for k,v in d.items()}\n",
    "print(dd)\n",
    "\n",
    "# 加限制条件的字典生成式\n",
    "dd = {k:v for k,v in d.items() if v%2==0}\n",
    "print(dd)"
   ]
  },
  {
   "cell_type": "markdown",
   "metadata": {},
   "source": [
    "# 字典相关函数"
   ]
  },
  {
   "cell_type": "code",
   "execution_count": 7,
   "metadata": {},
   "outputs": [
    {
     "name": "stdout",
     "output_type": "stream",
     "text": [
      "{'one': 1, 'two': 2, 'three': 3}\n",
      "{'one': 1, 'two': 2, 'three': 3}\n"
     ]
    }
   ],
   "source": [
    "# 通用函数：len, max, min, dict\n",
    "# str(字典)：返回字典的字符串格式\n",
    "d = {\"one\":1,\"two\":2,\"three\":3}\n",
    "print(d)\n",
    "print(str(d))\n"
   ]
  },
  {
   "cell_type": "code",
   "execution_count": 11,
   "metadata": {},
   "outputs": [
    {
     "name": "stdout",
     "output_type": "stream",
     "text": [
      "<class 'dict_items'>\n",
      "dict_items([('one', 1), ('two', 2), ('three', 3)])\n"
     ]
    }
   ],
   "source": [
    "# clear: 清空字典\n",
    "# items：返回字典的键值对组成的元组格式\n",
    "d = {\"one\":1,\"two\":2,\"three\":3}\n",
    "i = d.items()\n",
    "print(type(i)) # dict_items类型可迭代\n",
    "print(i)"
   ]
  },
  {
   "cell_type": "code",
   "execution_count": 13,
   "metadata": {},
   "outputs": [
    {
     "name": "stdout",
     "output_type": "stream",
     "text": [
      "<class 'dict_keys'>\n",
      "dict_keys(['one', 'two', 'three'])\n"
     ]
    }
   ],
   "source": [
    "# keys：返回字典的键组成的一个结构\n",
    "d = {\"one\":1,\"two\":2,\"three\":3}\n",
    "k = d.keys()\n",
    "print(type(k))\n",
    "print(k)"
   ]
  },
  {
   "cell_type": "code",
   "execution_count": 15,
   "metadata": {},
   "outputs": [
    {
     "name": "stdout",
     "output_type": "stream",
     "text": [
      "<class 'dict_values'>\n",
      "dict_values([1, 2, 3])\n"
     ]
    }
   ],
   "source": [
    "# values: 返回字典的值组成的一个结构\n",
    "d = {\"one\":1,\"two\":2,\"three\":3}\n",
    "v = d.values()\n",
    "print(type(v))\n",
    "print(v)"
   ]
  },
  {
   "cell_type": "code",
   "execution_count": 21,
   "metadata": {},
   "outputs": [
    {
     "name": "stdout",
     "output_type": "stream",
     "text": [
      "1\n",
      "1\n",
      "100\n",
      "None\n"
     ]
    },
    {
     "ename": "KeyError",
     "evalue": "'qqqq'",
     "output_type": "error",
     "traceback": [
      "\u001b[1;31m---------------------------------------------------------------------------\u001b[0m",
      "\u001b[1;31mKeyError\u001b[0m                                  Traceback (most recent call last)",
      "\u001b[1;32m<ipython-input-21-2b20b08888cf>\u001b[0m in \u001b[0;36m<module>\u001b[1;34m()\u001b[0m\n\u001b[0;32m      9\u001b[0m \u001b[1;31m# 体会两种方法的区别\u001b[0m\u001b[1;33m\u001b[0m\u001b[1;33m\u001b[0m\u001b[0m\n\u001b[0;32m     10\u001b[0m \u001b[0mprint\u001b[0m\u001b[1;33m(\u001b[0m\u001b[0md\u001b[0m\u001b[1;33m.\u001b[0m\u001b[0mget\u001b[0m\u001b[1;33m(\u001b[0m\u001b[1;34m\"qqqq\"\u001b[0m\u001b[1;33m)\u001b[0m\u001b[1;33m)\u001b[0m\u001b[1;33m\u001b[0m\u001b[0m\n\u001b[1;32m---> 11\u001b[1;33m \u001b[0mprint\u001b[0m\u001b[1;33m(\u001b[0m\u001b[0md\u001b[0m\u001b[1;33m[\u001b[0m\u001b[1;34m\"qqqq\"\u001b[0m\u001b[1;33m]\u001b[0m\u001b[1;33m)\u001b[0m\u001b[1;33m\u001b[0m\u001b[0m\n\u001b[0m",
      "\u001b[1;31mKeyError\u001b[0m: 'qqqq'"
     ]
    }
   ],
   "source": [
    "# get: 根据指定键返回相应的值，好处是可以设置默认值\n",
    "d = {\"one\":1,\"two\":2,\"three\":3}\n",
    "print(d.get(\"one\"))\n",
    "\n",
    "# get默认值是None，可以设置\n",
    "print(d.get(\"one\",100)) # 后面100是默认值\n",
    "print(d.get(\"qqq\",100)) # 如果找不到，就返回100\n",
    "\n",
    "# 体会两种方法的区别\n",
    "print(d.get(\"qqqq\"))\n",
    "print(d[\"qqqq\"])"
   ]
  },
  {
   "cell_type": "code",
   "execution_count": 25,
   "metadata": {},
   "outputs": [
    {
     "name": "stdout",
     "output_type": "stream",
     "text": [
      "{'one': 222, 'two': 222, 'three': 222}\n",
      "{'one': 'SSSS', 'two': 'SSSS', 'three': 'SSSS'}\n"
     ]
    }
   ],
   "source": [
    "# fromkeys：使用指定的序列作为键，使用一个值作为所有键对应的值\n",
    "l = [\"one\",\"two\",\"three\"]\n",
    "d = dict.fromkeys(l,222)\n",
    "print(d)\n",
    "d = dict.fromkeys(l,\"SSSS\")\n",
    "print(d)"
   ]
  }
 ],
 "metadata": {
  "anaconda-cloud": {},
  "kernelspec": {
   "display_name": "Python 3",
   "language": "python",
   "name": "python3"
  },
  "language_info": {
   "codemirror_mode": {
    "name": "ipython",
    "version": 3
   },
   "file_extension": ".py",
   "mimetype": "text/x-python",
   "name": "python",
   "nbconvert_exporter": "python",
   "pygments_lexer": "ipython3",
   "version": "3.6.4"
  }
 },
 "nbformat": 4,
 "nbformat_minor": 1
}
