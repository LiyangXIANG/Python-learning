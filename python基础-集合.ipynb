{
 "cells": [
  {
   "cell_type": "markdown",
   "metadata": {},
   "source": [
    "# 集合 set\n",
    "- 集合是高中数学中的一个概念\n",
    "- 一堆确定的无序的唯一的数据，集合中每个数据称为一个元素\n",
    "- 集合的特征\n",
    "    - 集合内数据无序，所以没有索引或者下标的概念，也无法分片\n",
    "    - 集合内部数据元素具有唯一性，可以用来排除重复数据,数据量大的话用另外的方法排重比较好\n",
    "    - 集合内的数据，str,int,float,tuple,等都可，即只能放可哈希的数据\n",
    "    "
   ]
  },
  {
   "cell_type": "markdown",
   "metadata": {},
   "source": [
    "# 可哈希不可哈希？\n",
    "- 可哈希的数据类型，即不可改变的数据结构，如字符串string，元组tuple，对象集objects\n",
    "- 不可哈希的数据类型，即数据结构可以改变，如字典dict，列表list，集合set\n",
    "- 哈希：它是一个将大体量数据转化为很小数据的过程，甚至可以仅仅是一个数字，以便我们可以用在固定的时间复杂度下查询它，所以，哈希对高效的算法和数据结构很重要。"
   ]
  },
  {
   "cell_type": "code",
   "execution_count": 2,
   "metadata": {
    "collapsed": false
   },
   "outputs": [
    {
     "name": "stdout",
     "output_type": "stream",
     "text": [
      "<class 'set'>\n",
      "set()\n"
     ]
    }
   ],
   "source": [
    "# 集合的定义\n",
    "s = set()\n",
    "print(type(s))\n",
    "print(s)"
   ]
  },
  {
   "cell_type": "code",
   "execution_count": 7,
   "metadata": {
    "collapsed": false
   },
   "outputs": [
    {
     "name": "stdout",
     "output_type": "stream",
     "text": [
      "<class 'dict'>\n",
      "{}\n",
      "<class 'set'>\n",
      "{1, 2, 3, 4, 5}\n"
     ]
    }
   ],
   "source": [
    "# 如果只用空大括号定义，则定义的是一个dict类型\n",
    "d = {}\n",
    "print(type(d))\n",
    "print(d)\n",
    "\n",
    "# 大括号里面如果有数值，则定义的是集合\n",
    "s = {1,2,3,4,5}\n",
    "print(type(s))\n",
    "print(s)"
   ]
  },
  {
   "cell_type": "code",
   "execution_count": 9,
   "metadata": {
    "collapsed": false
   },
   "outputs": [
    {
     "name": "stdout",
     "output_type": "stream",
     "text": [
      "{1, 2, 3, 4, 5, 6, 7}\n"
     ]
    }
   ],
   "source": [
    "# 集合可以排重\n",
    "s = {1,2,3,4,4,5,6,6,7}\n",
    "print(s)"
   ]
  },
  {
   "cell_type": "markdown",
   "metadata": {},
   "source": [
    "# 集合的操作\n",
    "- 成员检测：in, not in"
   ]
  },
  {
   "cell_type": "markdown",
   "metadata": {},
   "source": [
    "# 集合的遍历"
   ]
  },
  {
   "cell_type": "code",
   "execution_count": 12,
   "metadata": {
    "collapsed": false
   },
   "outputs": [
    {
     "name": "stdout",
     "output_type": "stream",
     "text": [
      "2 C 4 A "
     ]
    }
   ],
   "source": [
    "# 集合的遍历\n",
    "s = {4,2,\"A\",\"C\"}\n",
    "for i in s:\n",
    "    print(i,end=\" \")\n",
    "# 输出结果反映了集合的无序性"
   ]
  },
  {
   "cell_type": "code",
   "execution_count": 16,
   "metadata": {
    "collapsed": false
   },
   "outputs": [
    {
     "name": "stdout",
     "output_type": "stream",
     "text": [
      "4 -- 5 -- 6\n",
      "I -- like -- python\n",
      "1 -- 2 -- 3\n"
     ]
    },
    {
     "ename": "TypeError",
     "evalue": "unhashable type: 'set'",
     "output_type": "error",
     "traceback": [
      "\u001b[0;31m---------------------------------------------------------------------------\u001b[0m",
      "\u001b[0;31mTypeError\u001b[0m                                 Traceback (most recent call last)",
      "\u001b[0;32m<ipython-input-16-3e6d7d9471a8>\u001b[0m in \u001b[0;36m<module>\u001b[0;34m()\u001b[0m\n\u001b[1;32m      5\u001b[0m \u001b[1;33m\u001b[0m\u001b[0m\n\u001b[1;32m      6\u001b[0m \u001b[1;31m#集合里面套集合的不可如上遍历\u001b[0m\u001b[1;33m\u001b[0m\u001b[1;33m\u001b[0m\u001b[0m\n\u001b[0;32m----> 7\u001b[0;31m \u001b[0ms\u001b[0m \u001b[1;33m=\u001b[0m \u001b[1;33m{\u001b[0m\u001b[1;33m(\u001b[0m\u001b[1;36m1\u001b[0m\u001b[1;33m,\u001b[0m\u001b[1;36m2\u001b[0m\u001b[1;33m,\u001b[0m\u001b[1;36m3\u001b[0m\u001b[1;33m)\u001b[0m\u001b[1;33m,\u001b[0m\u001b[1;33m(\u001b[0m\u001b[1;34m\"I\"\u001b[0m\u001b[1;33m,\u001b[0m\u001b[1;34m\"like\"\u001b[0m\u001b[1;33m,\u001b[0m\u001b[1;34m\"python\"\u001b[0m\u001b[1;33m)\u001b[0m\u001b[1;33m,\u001b[0m\u001b[1;33m{\u001b[0m\u001b[1;36m4\u001b[0m\u001b[1;33m,\u001b[0m\u001b[1;36m5\u001b[0m\u001b[1;33m,\u001b[0m\u001b[1;36m6\u001b[0m\u001b[1;33m}\u001b[0m\u001b[1;33m}\u001b[0m \u001b[1;31m# 这里面，{4,5,6}是不可哈希的\u001b[0m\u001b[1;33m\u001b[0m\u001b[0m\n\u001b[0m\u001b[1;32m      8\u001b[0m \u001b[1;32mfor\u001b[0m \u001b[0mk\u001b[0m\u001b[1;33m,\u001b[0m\u001b[0mm\u001b[0m\u001b[1;33m,\u001b[0m\u001b[0mn\u001b[0m \u001b[1;32min\u001b[0m \u001b[0ms\u001b[0m\u001b[1;33m:\u001b[0m\u001b[1;33m\u001b[0m\u001b[0m\n\u001b[1;32m      9\u001b[0m     \u001b[0mprint\u001b[0m\u001b[1;33m(\u001b[0m\u001b[0mk\u001b[0m\u001b[1;33m,\u001b[0m\u001b[1;34m\"--\"\u001b[0m\u001b[1;33m,\u001b[0m\u001b[0mm\u001b[0m\u001b[1;33m,\u001b[0m\u001b[1;34m\"--\"\u001b[0m\u001b[1;33m,\u001b[0m\u001b[0mn\u001b[0m\u001b[1;33m)\u001b[0m\u001b[1;33m\u001b[0m\u001b[0m\n",
      "\u001b[0;31mTypeError\u001b[0m: unhashable type: 'set'"
     ]
    }
   ],
   "source": [
    "# 带有元组的集合遍历\n",
    "s = {(1,2,3),(\"I\",\"like\",\"python\"),(4,5,6)}\n",
    "for k,m,n in s:\n",
    "    print(k,\"--\",m,\"--\",n)\n",
    "\n",
    "#集合里面套集合的不可如上遍历\n",
    "s = {(1,2,3),(\"I\",\"like\",\"python\"),{4,5,6}} # 这里面，{4,5,6}是不可哈希的\n",
    "for k,m,n in s:\n",
    "    print(k,\"--\",m,\"--\",n)"
   ]
  },
  {
   "cell_type": "markdown",
   "metadata": {},
   "source": [
    "# 集合的内涵"
   ]
  },
  {
   "cell_type": "code",
   "execution_count": 18,
   "metadata": {
    "collapsed": false
   },
   "outputs": [
    {
     "name": "stdout",
     "output_type": "stream",
     "text": [
      "{1, 2, 3, 4, 5, 6, 7}\n",
      "{1, 2, 3, 4, 5, 6, 7}\n"
     ]
    }
   ],
   "source": [
    "# 普通集合内涵\n",
    "# 以下集合自动去重\n",
    "s = {1,2,3,4,4,5,6,6,7}\n",
    "print(s)\n",
    "\n",
    "# 普通集合内涵\n",
    "ss = {i for i in s}\n",
    "print(ss)"
   ]
  },
  {
   "cell_type": "code",
   "execution_count": 21,
   "metadata": {
    "collapsed": false
   },
   "outputs": [
    {
     "name": "stdout",
     "output_type": "stream",
     "text": [
      "{2, 4, 6}\n"
     ]
    }
   ],
   "source": [
    "# 带条件的集合内涵\n",
    "ss = {i for i in s if i%2==0} # 其实就是类似于列表生成式\n",
    "print(ss)"
   ]
  },
  {
   "cell_type": "code",
   "execution_count": 26,
   "metadata": {
    "collapsed": false
   },
   "outputs": [
    {
     "name": "stdout",
     "output_type": "stream",
     "text": [
      "{'BB', 'A', 'C', 'B', 'CC', 'DD', 'AA', 'D'}\n"
     ]
    }
   ],
   "source": [
    "# 多循环的集合内涵\n",
    "s1 = {1,2,3,4}\n",
    "s2 ={\"A\",\"B\",\"C\",\"D\"}\n",
    "s = {m*n for m in s1 for n in s2 if m<3}\n",
    "print(s)"
   ]
  },
  {
   "cell_type": "markdown",
   "metadata": {},
   "source": [
    "# 集合相关的函数\n",
    "- len, max, min: 使用跟其他数据结构的一样\n",
    "- 特有的函数：\n",
    "    - add: 向集合内添加元素\n",
    "    - remove,discard: 删除\n",
    "    - copy：拷贝\n",
    "    - clear：原址清空数据\n",
    "    - pop：看起来像是随机删除一个元素\n",
    "    - 集合的交差并补\n",
    "- 集合可以相减，但不可相加\n"
   ]
  },
  {
   "cell_type": "code",
   "execution_count": 3,
   "metadata": {
    "collapsed": false
   },
   "outputs": [
    {
     "name": "stdout",
     "output_type": "stream",
     "text": [
      "{'A', 1}\n"
     ]
    }
   ],
   "source": [
    "# add\n",
    "s ={1}\n",
    "s.add(\"A\")\n",
    "print(s)"
   ]
  },
  {
   "cell_type": "code",
   "execution_count": 5,
   "metadata": {
    "collapsed": false
   },
   "outputs": [
    {
     "name": "stdout",
     "output_type": "stream",
     "text": [
      "{1, 2, 3, 4}\n",
      "74492168\n",
      "set()\n",
      "74492168\n"
     ]
    }
   ],
   "source": [
    "# clear,结果表明clear只是原地清空数据\n",
    "s = {1,2,3,4}\n",
    "print(s)\n",
    "print((id(s)))\n",
    "s.clear()\n",
    "print(s)\n",
    "print(id(s))"
   ]
  },
  {
   "cell_type": "code",
   "execution_count": 7,
   "metadata": {
    "collapsed": false
   },
   "outputs": [
    {
     "name": "stdout",
     "output_type": "stream",
     "text": [
      "74491944\n",
      "74492168\n"
     ]
    }
   ],
   "source": [
    "# copy：拷贝\n",
    "s = {1,2,3,4}\n",
    "print(id(s))\n",
    "s1 = s.copy()\n",
    "print(id(s1))"
   ]
  },
  {
   "cell_type": "code",
   "execution_count": 11,
   "metadata": {
    "collapsed": false
   },
   "outputs": [
    {
     "name": "stdout",
     "output_type": "stream",
     "text": [
      "{1, 2, 3, 4}\n",
      "{1, 2, 3}\n"
     ]
    },
    {
     "ename": "KeyError",
     "evalue": "100",
     "output_type": "error",
     "traceback": [
      "\u001b[0;31m---------------------------------------------------------------------------\u001b[0m",
      "\u001b[0;31mKeyError\u001b[0m                                  Traceback (most recent call last)",
      "\u001b[0;32m<ipython-input-11-4b78a086d9ae>\u001b[0m in \u001b[0;36m<module>\u001b[0;34m()\u001b[0m\n\u001b[1;32m      4\u001b[0m \u001b[0ms\u001b[0m\u001b[1;33m.\u001b[0m\u001b[0mremove\u001b[0m\u001b[1;33m(\u001b[0m\u001b[1;36m4\u001b[0m\u001b[1;33m)\u001b[0m\u001b[1;33m\u001b[0m\u001b[0m\n\u001b[1;32m      5\u001b[0m \u001b[0mprint\u001b[0m\u001b[1;33m(\u001b[0m\u001b[0ms\u001b[0m\u001b[1;33m)\u001b[0m\u001b[1;33m\u001b[0m\u001b[0m\n\u001b[0;32m----> 6\u001b[0;31m \u001b[0ms\u001b[0m\u001b[1;33m.\u001b[0m\u001b[0mremove\u001b[0m\u001b[1;33m(\u001b[0m\u001b[1;36m100\u001b[0m\u001b[1;33m)\u001b[0m\u001b[1;33m\u001b[0m\u001b[0m\n\u001b[0m\u001b[1;32m      7\u001b[0m \u001b[0mprint\u001b[0m\u001b[1;33m(\u001b[0m\u001b[0ms\u001b[0m\u001b[1;33m)\u001b[0m\u001b[1;33m\u001b[0m\u001b[0m\n",
      "\u001b[0;31mKeyError\u001b[0m: 100"
     ]
    }
   ],
   "source": [
    "# remove,移除指定的值，如果要删除的值不在set中，会报错\n",
    "s = {1,2,3,4}\n",
    "print(s)\n",
    "s.remove(4)\n",
    "print(s)\n",
    "s.remove(100)\n",
    "print(s)"
   ]
  },
  {
   "cell_type": "code",
   "execution_count": 12,
   "metadata": {
    "collapsed": false
   },
   "outputs": [
    {
     "name": "stdout",
     "output_type": "stream",
     "text": [
      "{1, 2, 3, 4}\n",
      "{1, 2, 3}\n",
      "{1, 2, 3}\n"
     ]
    }
   ],
   "source": [
    "# discard: 移除集合中指定的值，跟remove类似，但如果要删除的值不在set中，也不会报错\n",
    "s = {1,2,3,4}\n",
    "print(s)\n",
    "s.discard(4)\n",
    "print(s)\n",
    "s.discard(100)\n",
    "print(s)"
   ]
  },
  {
   "cell_type": "code",
   "execution_count": 20,
   "metadata": {
    "collapsed": false
   },
   "outputs": [
    {
     "name": "stdout",
     "output_type": "stream",
     "text": [
      "2\n",
      "{3, 4, 5}\n"
     ]
    }
   ],
   "source": [
    "# pop 随机移除一个元素，其实可能存在某种内部规律\n",
    "s = {4,2,3,4,5}\n",
    "s1 = s.pop()\n",
    "print(s1)\n",
    "print(s)"
   ]
  },
  {
   "cell_type": "code",
   "execution_count": 25,
   "metadata": {
    "collapsed": false
   },
   "outputs": [
    {
     "name": "stdout",
     "output_type": "stream",
     "text": [
      "{5, 6}\n",
      "{1, 2, 3, 4}\n",
      "False\n",
      "False\n",
      "{1, 2, 3, 4, 5, 6, 7, 8, 9}\n",
      "True\n"
     ]
    }
   ],
   "source": [
    "# 集合的交差并补\n",
    "# intersection: 交集\n",
    "# difference：差集\n",
    "# union：并集\n",
    "# issubset：检查一个集合是否为另一个子集\n",
    "# issuperset：检查一个集合是否是另一个集合的超集,\n",
    "#   如果一个集合包含另一个集合，则这个集合称为另一个集合的超集，而另一个集合称为这个集合的子集\n",
    "s1 = {1,2,3,4,5,6}\n",
    "s2 = {5,6,7,8,9}\n",
    "\n",
    "s_1 = s1.intersection(s2)\n",
    "print(s_1)\n",
    "s_2 = s1.difference(s2)\n",
    "print(s_2)\n",
    "s_3 = s1.issubset(s2)\n",
    "print(s_3)\n",
    "s_4 = s1.issuperset(s2)\n",
    "print(s_4)\n",
    "s_6 = s1.union(s2)\n",
    "print(s_6)\n",
    "\n",
    "s2 = {2,3}\n",
    "s_5 = s1.issuperset(s2)\n",
    "print(s_5)"
   ]
  },
  {
   "cell_type": "code",
   "execution_count": 26,
   "metadata": {
    "collapsed": false
   },
   "outputs": [
    {
     "name": "stdout",
     "output_type": "stream",
     "text": [
      "{1, 2, 3, 4}\n"
     ]
    },
    {
     "ename": "TypeError",
     "evalue": "unsupported operand type(s) for +: 'set' and 'set'",
     "output_type": "error",
     "traceback": [
      "\u001b[0;31m---------------------------------------------------------------------------\u001b[0m",
      "\u001b[0;31mTypeError\u001b[0m                                 Traceback (most recent call last)",
      "\u001b[0;32m<ipython-input-26-c4322d37bbde>\u001b[0m in \u001b[0;36m<module>\u001b[0;34m()\u001b[0m\n\u001b[1;32m      5\u001b[0m \u001b[0mprint\u001b[0m\u001b[1;33m(\u001b[0m\u001b[0ms_1\u001b[0m\u001b[1;33m)\u001b[0m\u001b[1;33m\u001b[0m\u001b[0m\n\u001b[1;32m      6\u001b[0m \u001b[1;33m\u001b[0m\u001b[0m\n\u001b[0;32m----> 7\u001b[0;31m \u001b[0ms_2\u001b[0m \u001b[1;33m=\u001b[0m \u001b[0ms1\u001b[0m\u001b[1;33m+\u001b[0m\u001b[0ms2\u001b[0m  \u001b[1;31m# 两个集合不可相加\u001b[0m\u001b[1;33m\u001b[0m\u001b[0m\n\u001b[0m\u001b[1;32m      8\u001b[0m \u001b[0mprint\u001b[0m\u001b[1;33m(\u001b[0m\u001b[0ms_2\u001b[0m\u001b[1;33m)\u001b[0m\u001b[1;33m\u001b[0m\u001b[0m\n",
      "\u001b[0;31mTypeError\u001b[0m: unsupported operand type(s) for +: 'set' and 'set'"
     ]
    }
   ],
   "source": [
    "# 集合的数学操作\n",
    "s1 = {1,2,3,4,5,6}\n",
    "s2 = {5,6,7,8,9}\n",
    "s_1 = s1-s2\n",
    "print(s_1)\n",
    "\n",
    "s_2 = s1+s2  # 两个集合不可相加\n",
    "print(s_2)\n"
   ]
  },
  {
   "cell_type": "markdown",
   "metadata": {},
   "source": [
    "# frozen set: 冰冻集合\n",
    "- 冰冻集合就是不可以进行任何修改的集合\n",
    "- frozenset是一种特殊的集合，所以集合可以的操作，除了修改，都可以进行"
   ]
  },
  {
   "cell_type": "code",
   "execution_count": 29,
   "metadata": {
    "collapsed": false
   },
   "outputs": [
    {
     "name": "stdout",
     "output_type": "stream",
     "text": [
      "frozenset()\n",
      "<class 'frozenset'>\n"
     ]
    }
   ],
   "source": [
    "# 创建冰冻集合\n",
    "s = frozenset()\n",
    "print(s)\n",
    "print(type(s))"
   ]
  }
 ],
 "metadata": {
  "anaconda-cloud": {},
  "kernelspec": {
   "display_name": "Python 3",
   "language": "python",
   "name": "python3"
  },
  "language_info": {
   "codemirror_mode": {
    "name": "ipython",
    "version": 3
   },
   "file_extension": ".py",
   "mimetype": "text/x-python",
   "name": "python",
   "nbconvert_exporter": "python",
   "pygments_lexer": "ipython3",
   "version": "3.5.6"
  }
 },
 "nbformat": 4,
 "nbformat_minor": 1
}
