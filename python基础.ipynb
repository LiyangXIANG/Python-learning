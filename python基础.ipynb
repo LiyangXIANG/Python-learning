{
 "cells": [
  {
   "cell_type": "markdown",
   "metadata": {},
   "source": [
    "- Jupyter Notebook 的优势\n",
    "    - 可以边做笔记边写代码，结果可以方便保存\n",
    "- Jupyter Notebook 的劣势\n",
    "    - 不能查看变量\n",
    "- Jupyter Notebook 的使用\n",
    "    - 直接点击开始，搜索jupyter notebook打开，则会自动跳到网页浏览器\n",
    "    - 切记不可关闭后台，那才是真正“干活”的，而浏览器只是提供一个交互界面，获取代码或文本输入，并呈现后台运行结果\n",
    "    \n"
   ]
  },
  {
   "cell_type": "markdown",
   "metadata": {},
   "source": [
    "# 注释\n",
    "    单行注释：以#开头，可以放在代码后面，也可以单独一行\n",
    "    快注释：以三个连续单引号或者双引号包围，'''....'''      \"\"\"...\"\"\" 都可以"
   ]
  },
  {
   "cell_type": "markdown",
   "metadata": {},
   "source": [
    "# 变量\n",
    "\n",
    "- 变量构成\n",
    "    - 变量一般以数字，大小写字母，下划线构成，不推荐除这三种符号之外的，这是为了交流方便\n",
    "    - 但是数字不可用于开头\n",
    "        - 如 300a， 8w，不可\n",
    "        - w8, we200可以\n",
    "    - 下划线用于开头可以，但是一般这用于特殊变量\n",
    "        - 如 _name, _age,可以，但是不推荐，两个下划线开头也不推荐，__name\n",
    "    - 变量名称大小写敏感\n",
    "    - 推荐使用具有固定意义的英文单词或者其缩写\n",
    "        - 如 srv=server，一般以posix命名规则为主\n",
    "        - 驼峰命名法（camel法），即名称以单词自动连接，且每个单词首字母大写以区分不同单词\n",
    "        \n",
    "        \n",
    "    "
   ]
  },
  {
   "cell_type": "markdown",
   "metadata": {},
   "source": [
    "### 字符串格式化方法\n",
    "- 使用%作为占位符\n",
    "    - %d：整数\n",
    "    - %s：字符串\n",
    "- 使用format函数，推荐这种\n",
    "    - 在使用上以{}和：代替%，后面加上format带参数完成"
   ]
  },
  {
   "cell_type": "code",
   "execution_count": 3,
   "metadata": {},
   "outputs": [
    {
     "name": "stdout",
     "output_type": "stream",
     "text": [
      "Hi,My name is xly. I am 30 years old\n",
      "Hi,My name is sweid. I am 31 years old\n",
      "Hi,My name is asdf. I am 28 years old\n"
     ]
    }
   ],
   "source": [
    "# 使用%来格式化字符串的例子\n",
    "s=\"Hi,My name is %s. I am %d years old\"\n",
    "name=[\"xly\",\"sweid\",\"asdf\"]\n",
    "year=[30,31,28]\n",
    "\n",
    "for i in range(len(name)):\n",
    "    print(s%(name[i],year[i]))"
   ]
  },
  {
   "cell_type": "code",
   "execution_count": 5,
   "metadata": {},
   "outputs": [
    {
     "name": "stdout",
     "output_type": "stream",
     "text": [
      "I am 30 years old, yes, I love reading and I am 30 years old.\n"
     ]
    }
   ],
   "source": [
    "# 使用format函数控制, 一个好处是{}里面的内容可以编号\n",
    "s=\"I am {1} years old, yes, I love {0} and I am {1} years old.\".format(\"reading\",30)\n",
    "print(s)"
   ]
  },
  {
   "cell_type": "markdown",
   "metadata": {},
   "source": [
    "### None\n",
    "- 表示空值，什么都没有\n",
    "- 如果函数没有返回值，则可返回None\n",
    "- 用来占位置\n",
    "- 用来解除变量绑定"
   ]
  },
  {
   "cell_type": "markdown",
   "metadata": {},
   "source": [
    "### 运算符\n",
    "- 用于运算的符号\n",
    "- 运算符的分来：\n",
    "    - 算数运算符\n",
    "    - 比较或者关系运算符 （返回布尔值，true，false）\n",
    "        - ==,等于\n",
    "        - ！=，不等于\n",
    "        - >大于\n",
    "        - <小于\n",
    "        - >= 大于等于\n",
    "        - <= 小于等于\n",
    "    - 赋值运算符\n",
    "        对布尔值进行运算的符号\n",
    "        - and，逻辑与\n",
    "        - or， 逻辑或\n",
    "        - not，逻辑非\n",
    "        - python中逻辑运算没有异或（xor，^）运算\n",
    "            异或运算是对二进制的运算，两值相等返回假，不等返回真\n",
    "    - 逻辑运算符\n",
    "        逻辑运算符的运算规则：\n",
    "            - and看做乘法，or看做加法\n",
    "            - true=1，false=0\n",
    "            - 如此逻辑运算可转换成算数运算\n",
    "            - 最后结果如果是0则为false，否则为true\n",
    "    - 位运算\n",
    "    - 成员运算\n",
    "        用来检测某一个变量是否是另一个变量的成员,返回true，false\n",
    "        - in\n",
    "        - not in\n",
    "    - 身份运算符\n",
    "        - is: 用来检测两个变量是否是同一个变量\n",
    "            var1 is var2\n",
    "        - is not: 两个变量不是同一个变量\n",
    "- 运算符的优先级\n",
    "    - 括号具有最高优先级，一旦表达式复杂，推荐使用括号\n",
    "    - 优先级表格\n",
    "        ** 指数\n",
    "        ~+- 按位翻转，一元加号和减号（+@，-@）\n",
    "        * / % //\n",
    "        >> << 右移左移运算符\n",
    "        & 位 AND\n",
    "        ^| 位运算符\n",
    "        <= < > >=\n",
    "        <> == !=\n",
    "        = %= /= //= -= += *= **=\n",
    "        is is not\n",
    "        not or and"
   ]
  },
  {
   "cell_type": "code",
   "execution_count": 11,
   "metadata": {},
   "outputs": [
    {
     "name": "stdout",
     "output_type": "stream",
     "text": [
      "2.25\n",
      "1\n",
      "2\n",
      "6561\n"
     ]
    }
   ],
   "source": [
    "'''\n",
    "算数运算符\n",
    "加减乘除\n",
    "+，-，*，/\n",
    "注意，除号/在python2.x 和python 3.x中的运算结果可能不同\n",
    "在python2.x中，9/4=2,即默认取整，小数部分四舍五入\n",
    "在python3.x中，9/4=2.25\n",
    "'''\n",
    "a=9/4\n",
    "print(a)\n",
    "\n",
    "# 取余运算用 %\n",
    "# 两数相除有商数有余数， % 返回余数\n",
    "a=9%4\n",
    "print(a)\n",
    "\n",
    "# 取商运算用 //，也叫地板除，来源于英文单词floor\n",
    "a=9//4\n",
    "print(a)\n",
    "\n",
    "# 幂运算符号为**\n",
    "a=9**4\n",
    "print(a)\n",
    "\n",
    "# 注意，跟C或java语言不同，python没有自增自减运算符 （++ 和--）"
   ]
  },
  {
   "cell_type": "code",
   "execution_count": 15,
   "metadata": {},
   "outputs": [
    {
     "name": "stdout",
     "output_type": "stream",
     "text": [
      "9\n",
      "8\n"
     ]
    }
   ],
   "source": [
    "# 赋值运算符\n",
    "# 赋值，=\n",
    "# += 是缩写\n",
    "a=2\n",
    "a+=7 # a=a+7的缩写\n",
    "print(a)\n",
    "\n",
    "# 所有的运算符都有缩写形式\n",
    "# -=，*=，/=, //=, %=, **=\n",
    "a=2\n",
    "a**=3 # a=a**3\n",
    "print(a)"
   ]
  },
  {
   "cell_type": "code",
   "execution_count": 22,
   "metadata": {},
   "outputs": [
    {
     "ename": "SyntaxError",
     "evalue": "invalid syntax (<ipython-input-22-594504f38e52>, line 19)",
     "output_type": "error",
     "traceback": [
      "\u001b[1;36m  File \u001b[1;32m\"<ipython-input-22-594504f38e52>\"\u001b[1;36m, line \u001b[1;32m19\u001b[0m\n\u001b[1;33m    a = a or (b=9) and 6\u001b[0m\n\u001b[1;37m               ^\u001b[0m\n\u001b[1;31mSyntaxError\u001b[0m\u001b[1;31m:\u001b[0m invalid syntax\n"
     ]
    }
   ],
   "source": [
    "# 逻辑运算符的运算规则\n",
    "a=True\n",
    "b=False\n",
    "c=True\n",
    "d=a and b or c # 可等价于 d= 1*0+1\n",
    "print(d)\n",
    "\n",
    "d = a or b and a # d=1+0*1\n",
    "print(d)\n",
    "\n",
    "# 逻辑运算的短路问题\n",
    "# 逻辑运算式，按照运算顺序计算，一旦能够确定整个式子的值，则不再进行计算，直接返回\n",
    "# a = True or xxxxx # 不管xxx是什么，一定是返回True，xxxx不会再向下计算\n",
    "# a = False and xxx\n",
    "\n",
    "# 如果xxx中包含赋值运算，则结果难料，如下列伪代码（运行报错，但表达此意）\n",
    "# 如果不报错，代码顺利运行，则b最终应该还是为0，即or后面的部分并未运行\n",
    "b = 0\n",
    "a = a or (b=9) and 6\n",
    "print(a)\n"
   ]
  },
  {
   "cell_type": "code",
   "execution_count": 27,
   "metadata": {},
   "outputs": [
    {
     "name": "stdout",
     "output_type": "stream",
     "text": [
      "False\n",
      "True\n",
      "False\n"
     ]
    }
   ],
   "source": [
    "# 成员运算\n",
    "l = [1,2,3,4,5]\n",
    "a=7\n",
    "\n",
    "b=a in l\n",
    "print(b)\n",
    "\n",
    "a=4\n",
    "b=a in l\n",
    "print(b)\n",
    "\n",
    "a=4\n",
    "b=a not in l\n",
    "print(b)"
   ]
  },
  {
   "cell_type": "code",
   "execution_count": null,
   "metadata": {},
   "outputs": [],
   "source": []
  },
  {
   "cell_type": "code",
   "execution_count": 31,
   "metadata": {},
   "outputs": [
    {
     "name": "stdout",
     "output_type": "stream",
     "text": [
      "True\n",
      "False\n",
      "False\n",
      "True\n"
     ]
    }
   ],
   "source": [
    "# 身份运算\n",
    "a=9\n",
    "b=9\n",
    "print(a is b)\n",
    "\n",
    "a=9\n",
    "b=9\n",
    "print(a is not b)\n",
    "\n",
    "a=\"I love a\"\n",
    "b=\"I love a\"\n",
    "print(a is b)\n",
    "\n",
    "a=\"I love a\"\n",
    "b=\"I love a\"\n",
    "print(a is not b)"
   ]
  }
 ],
 "metadata": {
  "kernelspec": {
   "display_name": "Python 3",
   "language": "python",
   "name": "python3"
  },
  "language_info": {
   "codemirror_mode": {
    "name": "ipython",
    "version": 3
   },
   "file_extension": ".py",
   "mimetype": "text/x-python",
   "name": "python",
   "nbconvert_exporter": "python",
   "pygments_lexer": "ipython3",
   "version": "3.6.4"
  }
 },
 "nbformat": 4,
 "nbformat_minor": 2
}
