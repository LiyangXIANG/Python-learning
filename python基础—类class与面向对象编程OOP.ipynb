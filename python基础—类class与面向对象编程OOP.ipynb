{
 "cells": [
  {
   "cell_type": "markdown",
   "metadata": {},
   "source": [
    "# Python的面向对象\n",
    "- 面向对象编程\n",
    "    - 基础\n",
    "    - 公有私有\n",
    "    - 继承\n",
    "    - 组合，Mixin\n",
    "- 魔法函数\n",
    "    - 魔法函数概述\n",
    "    - 构造类魔法函数\n",
    "    - 运算类魔法函数\n",
    "    \n"
   ]
  },
  {
   "cell_type": "markdown",
   "metadata": {},
   "source": [
    "# 面向对象概述（Object Oriented，OO）\n",
    "- OOP思想\n",
    "    - 接触到任意一个任务，首先想到的是任务的构成，是由模型构成的\n",
    "- 几个名词\n",
    "    - OO： 面向对象\n",
    "    - OOA：面向对象的分析\n",
    "    - OOD：面向对象的设计\n",
    "    - OOI：面向对象的的实现\n",
    "    - OOP：面向对象的的编程\n",
    "    - OOA->OOD->OOI: 面向对象的实现过程\n",
    "    \n",
    " "
   ]
  },
  {
   "cell_type": "markdown",
   "metadata": {},
   "source": [
    "# 类和对象的概念\n",
    "- 类：抽象名词，代表一个集合、共性的事物\n",
    "- 对象：具象的事物，单个个体，类的一个实例\n",
    "- 类跟对象的关系\n",
    "    - 一个具象，代表一类事物的某一个个体\n",
    "    - 一个抽象，代表一类事物\n",
    "- 类中的内容，应该具有两个内容\n",
    "    - 表明事物的特征，叫做属性（变量）\n",
    "    - 表明事物功能或者动作，称为成员方法（函数）"
   ]
  },
  {
   "cell_type": "markdown",
   "metadata": {},
   "source": [
    "# 类的基本实现\n",
    "- 类的命名\n",
    "    - 遵守变量命名的规范\n",
    "    - 大驼峰命名法，如 MyClass，每个单词首字母大写\n",
    "    - 尽量避开跟系统命名（关键字）相似的命名\n",
    "- 如何声明一个类\n",
    "    - 必须用class关键字\n",
    "    - 类由属性和方法构成，其他不允许出现\n",
    "    - 成员属性定义可以直接使用变量赋值，如果没有，使用None\n",
    "- 实例化类\n",
    "        \n",
    "        变量 = 类名()\n",
    "- 访问对象成员\n",
    "    - 使用点操作符\n",
    "    \n",
    "            obj.成员属性名称\n",
    "            obj.成员方法\n",
    "- 可以通过默认内置变量检查类和对象的所有成员\n",
    "    - 用dict内置函数，注意前后各有两个下划线，__dict__\n",
    "  \n",
    "    "
   ]
  },
  {
   "cell_type": "code",
   "execution_count": 2,
   "metadata": {
    "collapsed": true
   },
   "outputs": [],
   "source": [
    "# 定义一个空的类\n",
    "class Student():\n",
    "    # pass代表直接跳过\n",
    "    # 空类定义时，pass必须有\n",
    "    pass\n",
    "\n",
    "# 定义一个对象\n",
    "xly = Student()"
   ]
  },
  {
   "cell_type": "code",
   "execution_count": 2,
   "metadata": {
    "collapsed": false
   },
   "outputs": [
    {
     "name": "stdout",
     "output_type": "stream",
     "text": [
      "None\n",
      "18\n",
      "I am doing homework\n"
     ]
    }
   ],
   "source": [
    "# 定义一个类，用来描述听Python的学生\n",
    "class PythonStudent():\n",
    "    # 用None给不确定的值赋值\n",
    "    name = None\n",
    "    age = 18\n",
    "    course = \"Python\"\n",
    "    \n",
    "    # 需要注意：\n",
    "    # 1. def doHomework的缩进层级，小于class，跟属性平齐\n",
    "    # 2. 系统默认有一个self参数\n",
    "    def doHomework(self):\n",
    "        print(\"I am doing homework\")\n",
    "        return None\n",
    "\n",
    "# 类的实例化\n",
    "xly = PythonStudent()\n",
    "print(xly.name)\n",
    "print(xly.age)\n",
    "\n",
    "# 注意成员函数的调用并没有传递进入参数\n",
    "xly.doHomework()"
   ]
  },
  {
   "cell_type": "code",
   "execution_count": 9,
   "metadata": {
    "collapsed": false
   },
   "outputs": [
    {
     "data": {
      "text/plain": [
       "{}"
      ]
     },
     "execution_count": 9,
     "metadata": {},
     "output_type": "execute_result"
    }
   ],
   "source": [
    "# 对象的所有成员检查\n",
    "xly.__dict__"
   ]
  },
  {
   "cell_type": "code",
   "execution_count": 10,
   "metadata": {
    "collapsed": false
   },
   "outputs": [
    {
     "data": {
      "text/plain": [
       "mappingproxy({'__dict__': <attribute '__dict__' of 'PythonStudent' objects>,\n",
       "              '__doc__': None,\n",
       "              '__module__': '__main__',\n",
       "              '__weakref__': <attribute '__weakref__' of 'PythonStudent' objects>,\n",
       "              'age': 18,\n",
       "              'course': 'Python',\n",
       "              'doHomework': <function __main__.PythonStudent.doHomework>,\n",
       "              'name': None})"
      ]
     },
     "execution_count": 10,
     "metadata": {},
     "output_type": "execute_result"
    }
   ],
   "source": [
    "# 类的所有成员检查\n",
    "PythonStudent.__dict__"
   ]
  },
  {
   "cell_type": "markdown",
   "metadata": {},
   "source": [
    "# 类和对象的成员分析\n",
    "- 类和对象都可以存储成员，成员可以归类所有，也可以归对象所有\n",
    "- 类存储成员时使用的是跟类关联的一个对象，对象名就是类名\n",
    "- 类实例化时在内存空间中分配了另一个存储空间（跟类的存储地址不同），存储这个对象相关的数据\n",
    "- 独享存储成员是存储在当前对象中\n",
    "- 对象访问一个成员，如果对象中没有该成员，尝试访问类中的同名成员，如果对象中有此成员，则使用对象中的成员\n",
    "- 创建对象时，类中的成员不会放入对象当中，而是得到一个空对象，没有成员，通过__dict__函数可以验证\n",
    "- 一旦对对象中的属性重新赋值，或者对对象添加成员时，对应成员就会保存在对象中，而不会修改类成员\n"
   ]
  },
  {
   "cell_type": "code",
   "execution_count": 6,
   "metadata": {
    "collapsed": false
   },
   "outputs": [
    {
     "name": "stdout",
     "output_type": "stream",
     "text": [
      "xxx\n",
      "18\n",
      "--------------------------------------------------\n",
      "81100112\n",
      "1622176944\n",
      "--------------------------------------------------\n",
      "xxx\n",
      "18\n",
      "81100112\n",
      "1622176944\n"
     ]
    }
   ],
   "source": [
    "# 以下案例说明类实例的属性和其对象的实例的属性在不对对象的实例属性赋值的前提下，指向同一个地址空间\n",
    "\n",
    "class A():\n",
    "    name = \"xxx\"\n",
    "    age = 18\n",
    "    \n",
    "    def func(self):\n",
    "        self.name = \"yyy\"\n",
    "        self.age = 100\n",
    "        \n",
    "# 此时，A称为类实例\n",
    "print(A.name)\n",
    "print(A.age)\n",
    "print(id(A.name))\n",
    "print(id(A.age))\n",
    "\n",
    "print(\"-\"*50)\n",
    "\n",
    "# a是A类的一个对象的实例\n",
    "a = A()\n",
    "print(a.name)\n",
    "print(a.age)\n",
    "print(id(a.name))\n",
    "print(id(a.age))\n"
   ]
  },
  {
   "cell_type": "code",
   "execution_count": 8,
   "metadata": {
    "collapsed": false
   },
   "outputs": [
    {
     "name": "stdout",
     "output_type": "stream",
     "text": [
      "xly\n",
      "30\n",
      "80526672\n",
      "1622177328\n"
     ]
    }
   ],
   "source": [
    "# 下面案例表明一旦对对象实例的属性赋值，则指向的id也会变更\n",
    "class A():\n",
    "    name = \"xxx\"\n",
    "    age = 18\n",
    "    \n",
    "    def func(self):\n",
    "        self.name = \"yyy\"\n",
    "        self.age = 100\n",
    "        \n",
    "a = A()\n",
    "a.name = \"xly\"\n",
    "a.age = 30\n",
    "\n",
    "print(a.name)\n",
    "print(a.age)\n",
    "print(id(a.name))\n",
    "print(id(a.age))"
   ]
  },
  {
   "cell_type": "code",
   "execution_count": 11,
   "metadata": {
    "collapsed": false
   },
   "outputs": [
    {
     "name": "stdout",
     "output_type": "stream",
     "text": [
      "{'__doc__': None, 'name': 'xxx', 'age': 18, 'func': <function A.func at 0x0000000004D48F28>, '__dict__': <attribute '__dict__' of 'A' objects>, '__weakref__': <attribute '__weakref__' of 'A' objects>, '__module__': '__main__'}\n",
      "--------------------------------------------------\n",
      "{'age': 30, 'name': 'xly'}\n"
     ]
    }
   ],
   "source": [
    "# 在对对象属性赋值后，再用dict函数，发现对象实例的成员不再为空\n",
    "print(A.__dict__) \n",
    "print(\"-\"*50)\n",
    "print(a.__dict__)"
   ]
  },
  {
   "cell_type": "markdown",
   "metadata": {},
   "source": [
    "# 关于self\n",
    "- self在对象的方法中表示当前对象本身，如果通过对象调用一个方法，则该对象会自动传入到当前方法的第一个参数中\n",
    "- self其实不是pyhon的关键字，只是一个用于接受对象的普通参数，也可以用任何其他变量名称命名代替\n",
    "- 方法中有self形参的方法成为非绑定类的方法，可以通过对象访问，没有self的是绑定类的方法，只能通过类访问\n",
    "- 使用类访问绑定类的方法时，如果类方法中需要访问当前类的成员，可以用__class__成员名来访问"
   ]
  },
  {
   "cell_type": "code",
   "execution_count": 17,
   "metadata": {
    "collapsed": false
   },
   "outputs": [
    {
     "name": "stdout",
     "output_type": "stream",
     "text": [
      "My name is yyy\n",
      "My age id 100\n",
      "--------------------------------------------------\n",
      "My name is yyy\n",
      "My age id 100\n"
     ]
    }
   ],
   "source": [
    "# 此案例说明：\n",
    "# 1） 对象实例化后，调用方法时，会自动把对象自身作为传入参数传入到方法中\n",
    "# 2）自身self其实不是pyhon的关键字，也可以用其他变量名称命名\n",
    "\n",
    "class A():\n",
    "    name = \"xxx\"\n",
    "    age = 18\n",
    "    \n",
    "    def func(self):\n",
    "        self.name = \"yyy\"\n",
    "        self.age = 100\n",
    "        print(\"My name is {0}\".format(self.name))\n",
    "        print(\"My age id {0}\".format(self.age))\n",
    "        \n",
    "    def func1(s):\n",
    "#         s.name = \"yyy\"\n",
    "#         s.age = 100\n",
    "        print(\"My name is {0}\".format(s.name))\n",
    "        print(\"My age id {0}\".format(s.age))\n",
    "a = A()\n",
    "a.func()\n",
    "print(\"-\"*50)\n",
    "a.func1()"
   ]
  },
  {
   "cell_type": "code",
   "execution_count": 22,
   "metadata": {
    "collapsed": false
   },
   "outputs": [
    {
     "name": "stdout",
     "output_type": "stream",
     "text": [
      "My name is xly\n",
      "My age id 30\n",
      "--------------------------------------------------\n",
      "Hello!我只能通过类名访问噢，通过实例对象访问会报错哦\n",
      "--------------------------------------------------\n"
     ]
    },
    {
     "ename": "TypeError",
     "evalue": "func1() takes 0 positional arguments but 1 was given",
     "output_type": "error",
     "traceback": [
      "\u001b[0;31m---------------------------------------------------------------------------\u001b[0m",
      "\u001b[0;31mTypeError\u001b[0m                                 Traceback (most recent call last)",
      "\u001b[0;32m<ipython-input-22-7bab5f7272d6>\u001b[0m in \u001b[0;36m<module>\u001b[0;34m()\u001b[0m\n\u001b[1;32m     17\u001b[0m \u001b[0mA\u001b[0m\u001b[1;33m.\u001b[0m\u001b[0mfunc1\u001b[0m\u001b[1;33m(\u001b[0m\u001b[1;33m)\u001b[0m\u001b[1;33m\u001b[0m\u001b[0m\n\u001b[1;32m     18\u001b[0m \u001b[0mprint\u001b[0m\u001b[1;33m(\u001b[0m\u001b[1;34m\"-\"\u001b[0m\u001b[1;33m*\u001b[0m\u001b[1;36m50\u001b[0m\u001b[1;33m)\u001b[0m\u001b[1;33m\u001b[0m\u001b[0m\n\u001b[0;32m---> 19\u001b[0;31m \u001b[0ma\u001b[0m\u001b[1;33m.\u001b[0m\u001b[0mfunc1\u001b[0m\u001b[1;33m(\u001b[0m\u001b[1;33m)\u001b[0m\u001b[1;33m\u001b[0m\u001b[0m\n\u001b[0m",
      "\u001b[0;31mTypeError\u001b[0m: func1() takes 0 positional arguments but 1 was given"
     ]
    }
   ],
   "source": [
    "class A():\n",
    "    name = \"xxx\"\n",
    "    age = 18\n",
    "    \n",
    "    # 这是绑定类的方法，实例化的对象无法访问\n",
    "    def func1():\n",
    "        print(\"Hello!我只能通过类名访问噢，通过实例对象访问会报错哦\")\n",
    "    \n",
    "    # 这是非绑定类的方法，实例化的对象可以访问    \n",
    "    def func2(self):\n",
    "        self.name = \"xly\"\n",
    "        self.age = 30\n",
    "        print(\"My name is {0}\".format(self.name))\n",
    "        print(\"My age id {0}\".format(self.age))\n",
    "        \n",
    "a = A()\n",
    "a.func2()\n",
    "print(\"-\"*50)\n",
    "A.func1()\n",
    "print(\"-\"*50)\n",
    "a.func1()"
   ]
  },
  {
   "cell_type": "code",
   "execution_count": 29,
   "metadata": {
    "collapsed": false
   },
   "outputs": [
    {
     "name": "stdout",
     "output_type": "stream",
     "text": [
      "My name is xxx\n",
      "My age id 30\n",
      "My name is xxx\n",
      "My age id 18\n"
     ]
    }
   ],
   "source": [
    "class A():\n",
    "    name = \"xxx\"\n",
    "    age = 18\n",
    "    \n",
    "    # 注意这里，用__class__来访问类的成员属性\n",
    "    def func1():\n",
    "        print(\"My name is {0}\".format(__class__.name))\n",
    "        print(\"My age id {0}\".format(__class__.age))\n",
    "        \n",
    "    def func2(self):\n",
    "        self.name = \"xly\"\n",
    "        self.age = 30\n",
    "        print(\"My name is {0}\".format(__class__.name)) # 非绑定类的方法中也可以访问类的成员属性\n",
    "        print(\"My age id {0}\".format(self.age))\n",
    "a = A()        \n",
    "a.func2()\n",
    "A.func1()"
   ]
  },
  {
   "cell_type": "code",
   "execution_count": 35,
   "metadata": {
    "collapsed": false
   },
   "outputs": [
    {
     "name": "stdout",
     "output_type": "stream",
     "text": [
      "xxx\n",
      "100\n",
      "--------------------------------------------------\n",
      "xxx\n",
      "100\n",
      "zhangsan\n",
      "18\n",
      "BBB\n",
      "50\n"
     ]
    }
   ],
   "source": [
    "# 关于self 的案例\n",
    "class A():\n",
    "    name = \"zhangsan\"\n",
    "    age = 18\n",
    "    \n",
    "    # 构造函数，就是初始化对象时候调用\n",
    "    def __init__(self):\n",
    "        self.name = \"xxx\"\n",
    "        self.age = 100\n",
    "        \n",
    "    def func(self):\n",
    "        print(self.name)\n",
    "        print(self.age)\n",
    "        \n",
    "class B():\n",
    "    name = \"BBB\"\n",
    "    age = 50\n",
    "    \n",
    "a = A()\n",
    "# 此时，系统会默认把a作为第一个参数传入函数\n",
    "a.func()\n",
    "\n",
    "# func()要求有对象\n",
    "# A.func()  # 这样会报错，可以用以下方法实现\n",
    "\n",
    "# 因为用类访问非绑定方法时，无法自动传入参数，只能手动传入\n",
    "# 因此可以用以下方法\n",
    "print(\"-\"*50)\n",
    "# 把实例化对象传入\n",
    "A.func(a)\n",
    "# 把类本身传入\n",
    "A.func(A)\n",
    "\n",
    "# 此时，传入的是类实例B，因为B具有name和age属性，所以不会报错\n",
    "A.func(B)\n",
    "\n",
    "# 以上代码，A.func(B)，利用了鸭子模型（不管是不是真的鸭子，有翅膀有脚会嘎嘎叫的就是鸭子），\n",
    "# 这样子的代码，在C++和Java是肯定通不过的..."
   ]
  },
  {
   "cell_type": "markdown",
   "metadata": {},
   "source": [
    "# 面向对象的三大特性\n",
    "- 封装\n",
    "- 继承\n",
    "- 多态"
   ]
  },
  {
   "cell_type": "markdown",
   "metadata": {},
   "source": [
    "## 封装\n",
    "- 封装就是对对象的成员进行访问限制\n",
    "- 封装的三个级别：\n",
    "    - 公开，public，谁都可以访问\n",
    "    - 受保护的，protected\n",
    "    - 私有的， private\n",
    "    - python中，public, private, protected 都不是关键字\n",
    "- 判别对象的位置\n",
    "    - 对象内部\n",
    "    - 对象外部\n",
    "    - 子类中\n",
    "- 私有 private\n",
    "    - 私有成员是最高级别的封装，只能在当前类或对象中访问\n",
    "    - 在成员前面添加两个下划线即可\n",
    "    - python的私有不是真私有，其实是一个障眼法，改名字了而已...\n",
    "    - 可以用对象名._类名__.属性名访问\n",
    "- 受保护的封装 protected\n",
    "    - 对类成员进行一定级别的封装，在类或者子类中都可以进行访问，但是在外部不可以\n",
    "    - 在成员名称前加一个下划线即可\n",
    "- 公开的 public\n",
    "    - 对成员没有任何操作，任何地方都可以访问\n",
    "    "
   ]
  },
  {
   "cell_type": "markdown",
   "metadata": {},
   "source": [
    "# 私有 private"
   ]
  },
  {
   "cell_type": "code",
   "execution_count": 42,
   "metadata": {
    "collapsed": false
   },
   "outputs": [
    {
     "name": "stdout",
     "output_type": "stream",
     "text": [
      "xly\n",
      "{'__doc__': None, 'name': 'xly', '__weakref__': <attribute '__weakref__' of 'P' objects>, '__dict__': <attribute '__dict__' of 'P' objects>, '__module__': '__main__', '_P__age': 30}\n",
      "1000\n"
     ]
    }
   ],
   "source": [
    "\n",
    "class P():\n",
    "    # name是公有成员\n",
    "    name = \"xly\"\n",
    "    \n",
    "    # __age是私有成员\n",
    "    __age = 30\n",
    "    \n",
    "a = P()\n",
    "print(a.name)\n",
    "# print(a.__age) # 私有成员不能被实例对象访问,此句出错\n",
    "\n",
    "# 要看私有成员被暗地里改成了什么名字，用__dict__函数\n",
    "print(P.__dict__)\n",
    "# 可以看到，__age被改名变成了_P__age\n",
    "\n",
    "# 所以可以通过以下方法访问私有成员\n",
    "a._P__age = 1000\n",
    "print(a._P__age)"
   ]
  },
  {
   "cell_type": "markdown",
   "metadata": {},
   "source": [
    "# 继承\n",
    "- 继承就是一个类可以获得另外一个类中的成员属性和方法\n",
    "- 作用：减少代码，增加代码的复用功能，同时可以设置类与类之间的关系\n",
    "- 继承与被继承的关系：\n",
    "    - 被继承的类叫父类，也叫基类，超类\n",
    "    - 继承的类叫子类，也叫派生类\n",
    "    - 继承与被继承一定存在一个 is-a （子类 is a 父类）关系\n",
    "- 继承的特征\n",
    "    - 所有的类都继承自object类，即所有的类都是object类的子类\n",
    "    - 子类一旦继承父类，则可以使用父类中除私有成员外的所有内容\n",
    "    - 子类继承父类后并没有将父类成员完全赋值到子类中，而是通过引用关系访问调用\n",
    "    - 子类中可以定义独有的特有的成员属性和方法\n",
    "    - 子类中定义的成员和父类成员如果名称相同，则优先使用子类的成员\n",
    "    - 子类如果想扩充父类的方法，可以在定义新方法的同时访问父类成员进行代码的重用\n",
    "        - 可以使用 【父类名.父类成员】 的格式来调用父类成员\n",
    "        - 也可以使用 super().父类成员的格式来调用\n",
    "    - 继承变量函数的查找顺序问题\n",
    "        - 任何情况都是优先查找自己的变量\n",
    "        - 没有的话，查找父类\n",
    "        - 构造函数如果在本类中没有定义，则自动查找调用最近的父类的构造函数\n",
    "            如果本类有定义，则不会去父类查找\n",
    "- 构造函数\n",
    "    - 是一种特殊的函数，在类进行实例化之前进行调用\n",
    "    - 如果定义了构造函数，则实例化时候使用构造函数，不查找父类\n",
    "    - 如果子类没定义构造函数。父类的构造函数带参数，则实例化对象时候，应该按照父类构造函数的参数来构造\n",
    "- super\n",
    "    - super不是一个关键字，而是一个类\n",
    "    - super的作用是获取MRO（MethodResolusionOrder）列表中的第一个类\n",
    "    - super与父类直接没有任何实质性关系，但是通过super可以调用父类\n",
    "    - super使用方法，参见在子类构造函数中调用父类的构造函数\n",
    "- 单继承和多继承\n",
    "    - 单继承：每个类只能继承一个类\n",
    "    - 多继承：每个类允许继承多个类\n",
    "    - 单继承优点是传承有序，逻辑清晰，语法简单，隐患少；缺点是功能不能无限扩展，只能在当前唯一的继承链中扩展\n",
    "    - 多继承优点是类的功能扩展方便；缺点是继承关系混乱\n",
    "- 多重继承的菱形继承（钻石继承）\n",
    "    - 多个子类继承自同一父类，这些子类又被同一个类继承，于是继承关系图形成一个菱形图谱，导致混乱 （比如说，这些子类拥有同名的函数却功能有所不同，那么继承他们的那个子类调用这个函数时，应该调用其中的哪个函数？？）\n",
    "    - MRO的一个重要作用就是解决多继承问题\n",
    "        - MRO就是多继承中，用于保存继承顺序的一个列表\n",
    "        - MRO是python本身采用C3算法来计算出来的结果\n",
    "        - MRO列表的大致一个原则：\n",
    "            - 子类永远在父类前面\n",
    "            - 如果多个父类，则根据继承语法中括号内类的书写顺序存放\n",
    "            - 如果多个类继承了同一个父类，孙子类中只会选取继承语法括号中的第一个父类的父类\n",
    "            \n",
    "- 多态\n",
    "    - 指的是同一个对象在不同情况下以不同的状态出现，OOP编程的一个现象\n",
    "    - \n",
    "      \n"
   ]
  },
  {
   "cell_type": "markdown",
   "metadata": {},
   "source": [
    "# 继承的语法"
   ]
  },
  {
   "cell_type": "code",
   "execution_count": 45,
   "metadata": {
    "collapsed": false
   },
   "outputs": [
    {
     "name": "stdout",
     "output_type": "stream",
     "text": [
      "Sleeping...\n",
      "None\n",
      "None\n"
     ]
    }
   ],
   "source": [
    "# 继承的语法\n",
    "# 在python中，任何类都有一个共同的父类叫做object\n",
    "# 没有父类（除object类）时，就用空括号或者不用括号，推荐加括号\n",
    "class Person():\n",
    "    name = \"None\"\n",
    "    age = 0\n",
    "    def sleep(self):\n",
    "        print(\"Sleeping...\")\n",
    "\n",
    "# 父类写在括号内        \n",
    "class Teacher(Person):\n",
    "    pass\n",
    "\n",
    "t = Teacher()\n",
    "t.sleep()\n",
    "print(t.name)\n",
    "print(Teacher.name)"
   ]
  },
  {
   "cell_type": "code",
   "execution_count": 53,
   "metadata": {
    "collapsed": false
   },
   "outputs": [
    {
     "name": "stdout",
     "output_type": "stream",
     "text": [
      "None\n",
      "ss\n"
     ]
    },
    {
     "ename": "AttributeError",
     "evalue": "'Teacher' object has no attribute '__age'",
     "output_type": "error",
     "traceback": [
      "\u001b[0;31m---------------------------------------------------------------------------\u001b[0m",
      "\u001b[0;31mAttributeError\u001b[0m                            Traceback (most recent call last)",
      "\u001b[0;32m<ipython-input-53-023c141bac15>\u001b[0m in \u001b[0;36m<module>\u001b[0;34m()\u001b[0m\n\u001b[1;32m     14\u001b[0m \u001b[0mprint\u001b[0m\u001b[1;33m(\u001b[0m\u001b[0mt\u001b[0m\u001b[1;33m.\u001b[0m\u001b[0mname\u001b[0m\u001b[1;33m)\u001b[0m\u001b[1;33m\u001b[0m\u001b[0m\n\u001b[1;32m     15\u001b[0m \u001b[0mprint\u001b[0m\u001b[1;33m(\u001b[0m\u001b[0mt\u001b[0m\u001b[1;33m.\u001b[0m\u001b[0m_petname\u001b[0m\u001b[1;33m)\u001b[0m\u001b[1;33m\u001b[0m\u001b[0m\n\u001b[0;32m---> 16\u001b[0;31m \u001b[0mprint\u001b[0m\u001b[1;33m(\u001b[0m\u001b[0mt\u001b[0m\u001b[1;33m.\u001b[0m\u001b[0m__age\u001b[0m\u001b[1;33m)\u001b[0m\u001b[1;33m\u001b[0m\u001b[0m\n\u001b[0m",
      "\u001b[0;31mAttributeError\u001b[0m: 'Teacher' object has no attribute '__age'"
     ]
    }
   ],
   "source": [
    "# 子类一旦继承父类，则可以使用父类中除私有成员外的所有内容\n",
    "\n",
    "class Person():\n",
    "    name = \"None\"\n",
    "    score = 60\n",
    "    __age = 0 # age是私有\n",
    "    _petname = \"ss\" # 小名，是保护的，子类可用，但不共用\n",
    "    def sleep(self):\n",
    "        print(\"Sleeping...\")\n",
    "\n",
    "class Teacher(Person):\n",
    "    pass\n",
    "        \n",
    "t = Teacher()\n",
    "print(t.name)\n",
    "print(t._petname)\n",
    "print(t.__age) # 公开访问私有成员，报错\n"
   ]
  },
  {
   "cell_type": "code",
   "execution_count": 58,
   "metadata": {
    "collapsed": false
   },
   "outputs": [
    {
     "name": "stdout",
     "output_type": "stream",
     "text": [
      "Attention!\n",
      "None\n",
      "2345\n"
     ]
    }
   ],
   "source": [
    "# 子类中可以定义独有的特有的成员属性和方法\n",
    "class Teacher(Person):\n",
    "    teacher_id = \"2345\"\n",
    "    def make_test(self):\n",
    "        print(\"Attention!\")\n",
    "        \n",
    "t = Teacher();\n",
    "t.make_test()\n",
    "print(t.name)\n",
    "print(t.teacher_id)"
   ]
  },
  {
   "cell_type": "code",
   "execution_count": 57,
   "metadata": {
    "collapsed": false
   },
   "outputs": [
    {
     "name": "stdout",
     "output_type": "stream",
     "text": [
      "zilei\n"
     ]
    }
   ],
   "source": [
    "# 子类中定义的成员和父类成员如果名称相同，则优先使用子类的成员\n",
    "class Teacher(Person):\n",
    "    name = \"zilei\"\n",
    "    teacher_id = \"2345\"\n",
    "    def make_test(self):\n",
    "        print(\"Attention!\")\n",
    "        \n",
    "t = Teacher()\n",
    "print(t.name)"
   ]
  },
  {
   "cell_type": "code",
   "execution_count": 3,
   "metadata": {
    "collapsed": false
   },
   "outputs": [
    {
     "name": "stdout",
     "output_type": "stream",
     "text": [
      "Make some money\n",
      "Attention!\n"
     ]
    }
   ],
   "source": [
    "# 子类如果想扩充父类的方法，可以在定义新方法的同时访问父类成员进行代码的重用\n",
    "\n",
    "class Person():\n",
    "    name = \"None\"\n",
    "    score = 60\n",
    "    __age = 0 # age是私有\n",
    "    _petname = \"ss\" # 小名，是保护的，子类可用，但不共用\n",
    "    def sleep(self):\n",
    "        print(\"Sleeping...\")\n",
    "    def work(self):\n",
    "        print(\"Make some money\")\n",
    "\n",
    "class Teacher(Person):\n",
    "    name = \"zilei\"\n",
    "    teacher_id = \"2345\"\n",
    "    \n",
    "    def make_test(self):\n",
    "        print(\"Attention!\")\n",
    "        \n",
    "    def work(self):\n",
    "        # 扩充父类的功能只需要调用父类相应的函数\n",
    "        # Person.work(self) # 子类可以冒充父类\n",
    "        # 扩充父类的另一个方法\n",
    "        # super代表得到父类\n",
    "        super().work()\n",
    "        self.make_test()\n",
    "\n",
    "t = Teacher()    \n",
    "t.work()"
   ]
  },
  {
   "cell_type": "markdown",
   "metadata": {},
   "source": [
    "# 构造函数的概念"
   ]
  },
  {
   "cell_type": "code",
   "execution_count": 10,
   "metadata": {
    "collapsed": false
   },
   "outputs": [
    {
     "name": "stdout",
     "output_type": "stream",
     "text": [
      "I am initiating a dog\n"
     ]
    }
   ],
   "source": [
    "# 构造函数的概念\n",
    "\n",
    "class Dog():\n",
    "    # __init__就是构造函数\n",
    "    # 每次实例化时候，第一个被调用\n",
    "    # 主要工作是进行初始化\n",
    "    def __init__(self): # 至少有一个self的参数,必须叫做__init__\n",
    "        print(\"I am initiating a dog\")\n",
    "\n",
    "# 实例化时候。括号内的参数需要同构造函数的参数相匹配   \n",
    "d = Dog()        "
   ]
  },
  {
   "cell_type": "code",
   "execution_count": 11,
   "metadata": {
    "collapsed": false
   },
   "outputs": [
    {
     "name": "stdout",
     "output_type": "stream",
     "text": [
      "I am initiating a dog\n"
     ]
    }
   ],
   "source": [
    "# 继承中的构造函数， 案例1\n",
    "class Animal():\n",
    "    pass\n",
    "\n",
    "class JizhuiAni(Animal):\n",
    "    pass\n",
    "\n",
    "\n",
    "class Dog(JizhuiAni):\n",
    "    def __init__(self):\n",
    "        print(\"I am initiating a dog\")\n",
    "\n",
    "     \n",
    "d = Dog()"
   ]
  },
  {
   "cell_type": "code",
   "execution_count": 16,
   "metadata": {
    "collapsed": false
   },
   "outputs": [
    {
     "name": "stdout",
     "output_type": "stream",
     "text": [
      "I am initiating a dog\n",
      "I am initiating a Jizhui Animal\n"
     ]
    }
   ],
   "source": [
    "# 继承中的构造函数， 案例2\n",
    "class Animal():    \n",
    "    def __init__(self):\n",
    "        print(\"I am initiating an Animal\")\n",
    "  \n",
    "class JizhuiAni(Animal):\n",
    "    def __init__(self):\n",
    "        print(\"I am initiating a Jizhui Animal\")\n",
    "   \n",
    "\n",
    "class Dog(JizhuiAni):\n",
    "    def __init__(self):\n",
    "        print(\"I am initiating a dog\")\n",
    "\n",
    "# 实例化时候，因为在Dog子类中找到了构造函数，则不会去父类调用构造函数     \n",
    "d = Dog()\n",
    "\n",
    "class Cat(JizhuiAni):\n",
    "    pass\n",
    "\n",
    "# Cat类中没有构造函数，则会查找最近一级的父类构造函数,\n",
    "# 找到后，就会停止继续向上寻找\n",
    "c = Cat()"
   ]
  },
  {
   "cell_type": "code",
   "execution_count": 2,
   "metadata": {
    "collapsed": false
   },
   "outputs": [
    {
     "name": "stdout",
     "output_type": "stream",
     "text": [
      "I am initiating a dog\n",
      "I am init. mimi\n"
     ]
    }
   ],
   "source": [
    "# 继承中的构造函数， 案例3\n",
    "class Animal():    \n",
    "    def __init__(self):\n",
    "        print(\"I am initiating an Animal\")\n",
    "  \n",
    "class JizhuiAni(Animal):\n",
    "    def __init__(self, name):\n",
    "        print(\"I am init. {0}\".format(name))\n",
    "   \n",
    "\n",
    "class Dog(JizhuiAni):\n",
    "    def __init__(self):\n",
    "        print(\"I am initiating a dog\")\n",
    "\n",
    "# 实例化Dog时，Dog类中的构造函数跟这里匹配        \n",
    "d = Dog()\n",
    "\n",
    "# 定义一个没有构造函数的子类Cat\n",
    "class Cat(JizhuiAni):\n",
    "    pass\n",
    "\n",
    "# 实例化Cat时，用到了父类JizhuiAni类的构造函数，\n",
    "# 而该构造函数需要两个参数，一个自身，一个name，\n",
    "# 而这里只有自身，所以不匹配报错     \n",
    "c = Cat('mimi')"
   ]
  },
  {
   "cell_type": "code",
   "execution_count": 18,
   "metadata": {
    "collapsed": false
   },
   "outputs": [
    {
     "name": "stdout",
     "output_type": "stream",
     "text": [
      "I am initiating a dog\n",
      "I am init. Kitty\n"
     ]
    }
   ],
   "source": [
    "# 继承中的构造函数， 案例 4\n",
    "class Animal():    \n",
    "    def __init__(self):\n",
    "        print(\"I am initiating an Animal\")\n",
    "  \n",
    "class JizhuiAni(Animal):\n",
    "    def __init__(self, name):\n",
    "        print(\"I am init. {0}\".format(name))\n",
    "   \n",
    "\n",
    "class Dog(JizhuiAni):\n",
    "    def __init__(self):\n",
    "        print(\"I am initiating a dog\")\n",
    "\n",
    "# 实例化Dog时，Dog类中的构造函数跟这里匹配        \n",
    "d = Dog()\n",
    "\n",
    "# 定义一个没有构造函数的子类Cat\n",
    "class Cat(JizhuiAni):\n",
    "    pass\n",
    "\n",
    "# 如此一来，参数就跟构造函数的相匹配了，就不会报错    \n",
    "c = Cat(\"Kitty\")"
   ]
  },
  {
   "cell_type": "markdown",
   "metadata": {},
   "source": [
    "# super是一个类\n"
   ]
  },
  {
   "cell_type": "code",
   "execution_count": 22,
   "metadata": {
    "collapsed": false
   },
   "outputs": [
    {
     "name": "stdout",
     "output_type": "stream",
     "text": [
      "<class 'type'>\n"
     ]
    }
   ],
   "source": [
    "# super 是一个类\n",
    "print(type(super))\n",
    "# 或者，也可以用\n",
    "help(super)"
   ]
  },
  {
   "cell_type": "code",
   "execution_count": 21,
   "metadata": {
    "collapsed": false
   },
   "outputs": [
    {
     "name": "stdout",
     "output_type": "stream",
     "text": [
      "This is an animal\n",
      "Besides, this is a Buru animal\n"
     ]
    }
   ],
   "source": [
    "# 在子类的构造函数中，通过super()函数调用父类的构造函数\n",
    "class Animal():\n",
    "    def __init__(self):\n",
    "        print(\"This is an animal\")\n",
    "        \n",
    "class BuruAni(Animal):\n",
    "    def __init__(self):\n",
    "        super().__init__()\n",
    "        print(\"Besides, this is a Buru animal\")\n",
    "        \n",
    "    \n",
    "b = BuruAni()"
   ]
  },
  {
   "cell_type": "code",
   "execution_count": 21,
   "metadata": {
    "collapsed": false
   },
   "outputs": [
    {
     "name": "stdout",
     "output_type": "stream",
     "text": [
      "这是Student新增的功能\n"
     ]
    }
   ],
   "source": [
    "# 子类构造函数扩充父类的构造函数的功能， 2\n",
    "class Human():\n",
    "    def __init__(self,name,address,age):\n",
    "        self.name = name\n",
    "        self.age = age\n",
    "        self.address = address0\n",
    "        \n",
    "class Student(Human):\n",
    "    def __init__(self,name,address,age):\n",
    "#         Human.__init__(self,name,address,age) # 方法一\n",
    "        # 方法二，使用super函数\n",
    "        super(Student,self).__init__(name,address,age) # (name,address,age)这括号里面不用写self,super(这里面的Student，self可写可不写)\n",
    "        print(\"这是Student新增的功能\")\n",
    "        \n",
    "s = Student(\"xly\",\"HangZhou\",30)"
   ]
  },
  {
   "cell_type": "markdown",
   "metadata": {},
   "source": [
    "# MRO"
   ]
  },
  {
   "cell_type": "code",
   "execution_count": 3,
   "metadata": {
    "collapsed": false
   },
   "outputs": [
    {
     "name": "stdout",
     "output_type": "stream",
     "text": [
      "(<class '__main__.A'>, <class 'object'>)\n",
      "(<class '__main__.B'>, <class '__main__.A'>, <class 'object'>)\n"
     ]
    }
   ],
   "source": [
    "class A():\n",
    "    pass\n",
    "\n",
    "class B(A):\n",
    "    pass\n",
    "\n",
    "# mro 指的是所有父类的列表\n",
    "# mro 可以用来查清一个类的继承关系\n",
    "print(A.__mro__) # 返回的列表中的第一个是A类本身，然后是所有类的父类，object\n",
    "print(B.__mro__) # 返回的列表中的第一个是B类本身，然后是第一个父类A，最后是最基础的类，object"
   ]
  },
  {
   "cell_type": "markdown",
   "metadata": {},
   "source": [
    "# 多继承，不是很推崇"
   ]
  },
  {
   "cell_type": "code",
   "execution_count": 4,
   "metadata": {
    "collapsed": false,
    "scrolled": true
   },
   "outputs": [
    {
     "ename": "TypeError",
     "evalue": "Cannot create a consistent method resolution\norder (MRO) for bases A, B",
     "output_type": "error",
     "traceback": [
      "\u001b[0;31m---------------------------------------------------------------------------\u001b[0m",
      "\u001b[0;31mTypeError\u001b[0m                                 Traceback (most recent call last)",
      "\u001b[0;32m<ipython-input-4-24702c0292f6>\u001b[0m in \u001b[0;36m<module>\u001b[0;34m()\u001b[0m\n\u001b[1;32m      1\u001b[0m \u001b[1;31m# 多个父类，不大推崇，除非必须这么干\u001b[0m\u001b[1;33m\u001b[0m\u001b[1;33m\u001b[0m\u001b[0m\n\u001b[0;32m----> 2\u001b[0;31m \u001b[1;32mclass\u001b[0m \u001b[0mC\u001b[0m\u001b[1;33m(\u001b[0m\u001b[0mA\u001b[0m\u001b[1;33m,\u001b[0m\u001b[0mB\u001b[0m\u001b[1;33m)\u001b[0m\u001b[1;33m:\u001b[0m\u001b[1;33m\u001b[0m\u001b[0m\n\u001b[0m\u001b[1;32m      3\u001b[0m     \u001b[1;32mpass\u001b[0m\u001b[1;33m\u001b[0m\u001b[0m\n\u001b[1;32m      4\u001b[0m \u001b[0mprint\u001b[0m\u001b[1;33m(\u001b[0m\u001b[0mC\u001b[0m\u001b[1;33m.\u001b[0m\u001b[0m__mro__\u001b[0m\u001b[1;33m)\u001b[0m\u001b[1;33m\u001b[0m\u001b[0m\n",
      "\u001b[0;31mTypeError\u001b[0m: Cannot create a consistent method resolution\norder (MRO) for bases A, B"
     ]
    }
   ],
   "source": [
    "# 多个父类，不大推崇，除非必须这么干\n",
    "class C(A,B):\n",
    "    pass\n",
    "print(C.__mro__)"
   ]
  },
  {
   "cell_type": "code",
   "execution_count": 12,
   "metadata": {
    "collapsed": false
   },
   "outputs": [
    {
     "name": "stdout",
     "output_type": "stream",
     "text": [
      "I am flying\n",
      "xly can work\n",
      "--------------------------------------------------\n",
      "Sweid can work\n"
     ]
    }
   ],
   "source": [
    "# 多继承的一个例子\n",
    "# 子类可以直接拥有父类的属性和方法，私有的属性和方法除外\n",
    "class Fish():\n",
    "    def __init__(self,name):\n",
    "        self.name = name\n",
    "    def swim(self):\n",
    "        print(\"I am swimming\")\n",
    "        \n",
    "class Bird():\n",
    "    def __init__(self,name):\n",
    "        self.name = name\n",
    "    def fly(self):\n",
    "        print(\"I am flying\")\n",
    "\n",
    "class Human():\n",
    "    def __init__(self,name):\n",
    "        self.name = name\n",
    "        \n",
    "    def work(self,name):\n",
    "        print(\"{} can work\".format(name))\n",
    "\n",
    "    # 多继承\n",
    "class SuperMan(Human,Bird,Fish): # 其实括号里面的父类排列有一定顺序，不大清楚\n",
    "    def __init__(self,name):\n",
    "        self.name = name\n",
    "       \n",
    "    # 单继承\n",
    "class Student(Human):\n",
    "    def __init__(self,name):\n",
    "        self.name = name\n",
    "        \n",
    "\n",
    "s = SuperMan(\"xly\")\n",
    "s.fly()\n",
    "s.work(\"xly\")\n",
    "print(\"-\"*50)\n",
    "\n",
    "stu = Student(\"Sweid\")\n",
    "stu.work(\"Sweid\")"
   ]
  },
  {
   "cell_type": "code",
   "execution_count": 1,
   "metadata": {
    "collapsed": true
   },
   "outputs": [],
   "source": [
    "# 菱形继承或者钻石继承的一个示意关系\n",
    "class A():\n",
    "    pass\n",
    "class B(A):\n",
    "    pass\n",
    "class C(A):\n",
    "    pass\n",
    "class D(B,C):\n",
    "    pass"
   ]
  },
  {
   "cell_type": "markdown",
   "metadata": {},
   "source": [
    "# 关于类的一些基本函数"
   ]
  },
  {
   "cell_type": "code",
   "execution_count": 2,
   "metadata": {
    "collapsed": false
   },
   "outputs": [
    {
     "name": "stdout",
     "output_type": "stream",
     "text": [
      "True\n",
      "False\n",
      "True\n"
     ]
    }
   ],
   "source": [
    "# issubclass（A，B）, 判断是A否是B子类\n",
    "class A():\n",
    "    pass\n",
    "class B(A):\n",
    "    pass\n",
    "class C():\n",
    "    pass\n",
    "\n",
    "print(issubclass(B,A))\n",
    "print(issubclass(C,A))\n",
    "print(issubclass(C,object))"
   ]
  },
  {
   "cell_type": "code",
   "execution_count": 3,
   "metadata": {
    "collapsed": false
   },
   "outputs": [
    {
     "name": "stdout",
     "output_type": "stream",
     "text": [
      "True\n",
      "False\n"
     ]
    }
   ],
   "source": [
    "# isinstance，检测一个对象是否是一个类的实例\n",
    "class A():\n",
    "    pass\n",
    "a = A()\n",
    "print(isinstance(a,A))\n",
    "print(isinstance(A,A))"
   ]
  },
  {
   "cell_type": "code",
   "execution_count": 4,
   "metadata": {
    "collapsed": false
   },
   "outputs": [
    {
     "name": "stdout",
     "output_type": "stream",
     "text": [
      "True\n",
      "True\n",
      "False\n"
     ]
    }
   ],
   "source": [
    "# hasattr: 检测一个对象是否有成员xxx\n",
    "class A():\n",
    "    name = \"None\"\n",
    "    age = 30\n",
    "    def work(self):\n",
    "        print(\"work\")\n",
    "        \n",
    "a = A()\n",
    "print(hasattr(a,\"name\"))\n",
    "print(hasattr(a,\"age\"))\n",
    "print(hasattr(a,\"fly\"))"
   ]
  },
  {
   "cell_type": "code",
   "execution_count": 5,
   "metadata": {
    "collapsed": false
   },
   "outputs": [
    {
     "name": "stdout",
     "output_type": "stream",
     "text": [
      "Help on built-in function getattr in module builtins:\n",
      "\n",
      "getattr(...)\n",
      "    getattr(object, name[, default]) -> value\n",
      "    \n",
      "    Get a named attribute from an object; getattr(x, 'y') is equivalent to x.y.\n",
      "    When a default argument is given, it is returned when the attribute doesn't\n",
      "    exist; without it, an exception is raised in that case.\n",
      "\n"
     ]
    }
   ],
   "source": [
    "# 类似的，还有 \n",
    "# getattr: get attribute\n",
    "# setattr: set attribute\n",
    "# delattr: delete attribute\n",
    "\n",
    "help(getattr)"
   ]
  },
  {
   "cell_type": "code",
   "execution_count": 6,
   "metadata": {
    "collapsed": false
   },
   "outputs": [
    {
     "data": {
      "text/plain": [
       "['__class__',\n",
       " '__delattr__',\n",
       " '__dict__',\n",
       " '__dir__',\n",
       " '__doc__',\n",
       " '__eq__',\n",
       " '__format__',\n",
       " '__ge__',\n",
       " '__getattribute__',\n",
       " '__gt__',\n",
       " '__hash__',\n",
       " '__init__',\n",
       " '__le__',\n",
       " '__lt__',\n",
       " '__module__',\n",
       " '__ne__',\n",
       " '__new__',\n",
       " '__reduce__',\n",
       " '__reduce_ex__',\n",
       " '__repr__',\n",
       " '__setattr__',\n",
       " '__sizeof__',\n",
       " '__str__',\n",
       " '__subclasshook__',\n",
       " '__weakref__']"
      ]
     },
     "execution_count": 6,
     "metadata": {},
     "output_type": "execute_result"
    }
   ],
   "source": [
    "# dir, 获取对象的成员列表\n",
    "class A():\n",
    "    pass\n",
    "\n",
    "dir(A)"
   ]
  },
  {
   "cell_type": "markdown",
   "metadata": {},
   "source": [
    "# 类的成员描述符（类的属性）\n",
    "- 类的成员描述符是为了在类中对类的成员属性进行相关操作而创建的一种方式\n",
    "- 对属性的三种操作方式\n",
    "    - get：获取属性\n",
    "    - set：修改或者添加属性\n",
    "    - delete：删除属性\n",
    "- 使用类的成员描述符，三种方法\n",
    "    - 使用类实现描述器\n",
    "    - 使用属性修饰符\n",
    "    - 使用property函数，property(fget, fset, fdel, doc)\n",
    "- 无论哪种修饰符，都是为了对成员属性进行相应的控制\n",
    "    - 类的方式：适合多个类中的多个属性共用一个描述符\n",
    "    - property方式适合在当前类中使用，可以控制一个类中的多个属性\n",
    "    - 属性修饰符：适用当前类中适用，控制一个类中的一个属性\n",
    "    \n",
    "    "
   ]
  },
  {
   "cell_type": "code",
   "execution_count": 12,
   "metadata": {
    "collapsed": false
   },
   "outputs": [
    {
     "name": "stdout",
     "output_type": "stream",
     "text": [
      "Hi. My name is ZHANGSAN\n",
      "Hi. My name is LISI\n"
     ]
    }
   ],
   "source": [
    "# 属性案例1, 利用一个函数自动规整名字大小写\n",
    "class Student():\n",
    "    def __init__(self,name,age):\n",
    "        self.name = name\n",
    "        self.age = age\n",
    "        self.setName(name)\n",
    "        \n",
    "    def intro(self):\n",
    "        print(\"Hi. My name is {0}\".format(self.name))\n",
    "        \n",
    "    def setName(self,name):\n",
    "        self.name = name.upper()\n",
    "    \n",
    "s1 = Student(\"zhangsan\",20)\n",
    "s2 = Student(\"Lisi\",30)\n",
    "s1.intro()\n",
    "s2.intro()\n"
   ]
  },
  {
   "cell_type": "code",
   "execution_count": 71,
   "metadata": {
    "collapsed": true
   },
   "outputs": [],
   "source": [
    "# 使用property函数\n",
    "# 对name属性，希望大写方式保存\n",
    "# 对age属性，希望用整数保存\n",
    "class Person():\n",
    "    # 函数名称不一定非要用fget，可任意\n",
    "    # fget，对属性进行读取的操作\n",
    "    # 注意，这里必须要用_name,使其私有化，用name会报错，为什么？？会无穷调用name = property()??\n",
    "    def fget(self):\n",
    "        return (self._name*2) \n",
    "    # fset，对属性进行设置的操作\n",
    "    def fset(self, name): \n",
    "        self._name = name.upper()\n",
    "    # fdel，对属性进行删除的操作，\n",
    "    def fdel(self):\n",
    "#         self._name = \"None\" # 这里其实没实际意义上的删除属性，只是将名字换成None而已    \n",
    "        del self._name\n",
    "    \n",
    "    # 如此一来，对name这个成员属性就可以进行括号内的函数操作了，注意顺序\n",
    "    # 首先，是“读”的操作，然后是“写”的操作，之后是“删”的操作，最后是“说明文档”\n",
    "    name = property(fget,fset,fdel,\"对name进行操作\") \n",
    "\n",
    "p1 = Person()\n",
    "p1.name = \"xly\" # 此时会自动调用fset（）函数\n",
    "p1.name # 此时会自动调用fet（）函数\n",
    "del p1.name # 触发fdel函数\n"
   ]
  },
  {
   "cell_type": "code",
   "execution_count": 56,
   "metadata": {
    "collapsed": false
   },
   "outputs": [
    {
     "data": {
      "text/plain": [
       "20"
      ]
     },
     "execution_count": 56,
     "metadata": {},
     "output_type": "execute_result"
    }
   ],
   "source": [
    "# 使用property函数\n",
    "# 对age属性，希望用整数保存\n",
    "import math\n",
    "class Person():\n",
    "    '''\n",
    "    这是一个说明文档\n",
    "    '''\n",
    "\n",
    "    def fget(self):\n",
    "        return self._age\n",
    "\n",
    "    def fset(self, age): \n",
    "        self._age = math.floor(age)\n",
    "\n",
    "    def fdel(self):\n",
    "        self._age = 0\n",
    "    \n",
    "    age = property(fget,fset,fdel,\"对age进行操作\") \n",
    "\n",
    "p1 = Person()\n",
    "p1.age = 20.4\n",
    "p1.age \n"
   ]
  },
  {
   "cell_type": "markdown",
   "metadata": {},
   "source": [
    "# 类的内置属性\n",
    "\n",
    "            "
   ]
  },
  {
   "cell_type": "code",
   "execution_count": 64,
   "metadata": {
    "collapsed": false
   },
   "outputs": [
    {
     "name": "stdout",
     "output_type": "stream",
     "text": [
      "{'__module__': '__main__', '__dict__': <attribute '__dict__' of 'Person' objects>, 'fset': <function Person.fset at 0x0000000004E5F1E0>, 'fdel': <function Person.fdel at 0x0000000004E5F158>, '__doc__': '\\n    这是一个说明文档\\n    ', '__weakref__': <attribute '__weakref__' of 'Person' objects>, 'age': <property object at 0x0000000004E5EBD8>, 'fget': <function Person.fget at 0x0000000004E5F268>}\n",
      "--------------------------------------------------\n",
      "\n",
      "    这是一个说明文档\n",
      "    \n",
      "--------------------------------------------------\n",
      "Person\n",
      "--------------------------------------------------\n",
      "(<class 'object'>,)\n"
     ]
    }
   ],
   "source": [
    "# __dict__: 以字典的方式显示类的成员组成\n",
    "# __doc__: 获取类的文档信息\n",
    "# __name__: 获取类的名称，如果在模块中使用，获取模块的名称\n",
    "# __bases__: 获取某个类的所有父类，以元组的方式显示\n",
    "\n",
    "print(Person.__dict__)\n",
    "print(\"-\"*50)\n",
    "print(Person.__doc__)\n",
    "print(\"-\"*50)\n",
    "print(Person.__name__)\n",
    "print(\"-\"*50)\n",
    "print(Person.__bases__)"
   ]
  },
  {
   "cell_type": "markdown",
   "metadata": {},
   "source": [
    "# 类和对象的三种方法\n",
    "- 实例方法\n",
    "    - 需要实例化对象才能使用，类本身不能调用\n",
    "    - 第一个参数使用self来传递对象或者类的属性和方法到静态类函数的方法体中\n",
    "- 类方法,使用 @classmethod 装饰器\n",
    "    - 不需要实例化，第一个参数按惯例使用cls来传递类的属性和方法到静态类函数的方法体中\n",
    "    - 实例对象和类对象都可以调用\n",
    "- 静态方法，使用 @staticmethod 装饰器，没有\n",
    "    - 不需要实例化，参数随意，没有“self”和“cls”参数，但是方法体中不能使用类或实例的任何属性和方法；\n",
    "    - 实例对象和类对象都可以调用\n",
    "- 三种方法的区别，可以参看<a href=\"https://www.cnblogs.com/wcwnina/p/8644892.html\">博客</a>\n",
    "    \n",
    "    "
   ]
  },
  {
   "cell_type": "code",
   "execution_count": 17,
   "metadata": {
    "collapsed": false
   },
   "outputs": [
    {
     "name": "stdout",
     "output_type": "stream",
     "text": [
      "<__main__.Person object at 0x0000000005ACA978>\n",
      "eating...\n",
      "<class '__main__.Person'>\n",
      "eating...\n",
      "<class '__main__.Person'>\n",
      "playing...\n",
      "<class '__main__.Person'>\n",
      "playing...\n",
      "saying...\n",
      "saying...\n"
     ]
    }
   ],
   "source": [
    "# 类和对象的三种方法\n",
    "class Person():\n",
    "    # 实例方法\n",
    "    def eat(self):\n",
    "        print(self)\n",
    "        print(\"eating...\")\n",
    "        \n",
    "    # 类方法\n",
    "    @classmethod\n",
    "    def play(cls): # 这里cls是惯例，为了跟self相区别\n",
    "        print(cls)\n",
    "        print(\"playing...\")\n",
    "\n",
    "    # 静态方法\n",
    "    # 不需要用第一个参数表示自身或者类\n",
    "    @staticmethod\n",
    "    def say():\n",
    "        print(\"saying...\")\n",
    "\n",
    "xly = Person()\n",
    "\n",
    "# 实例方法\n",
    "xly.eat()\n",
    "\n",
    "# 类方法\n",
    "Person.play()\n",
    "xly.play()\n",
    "\n",
    "# 静态方法\n",
    "xly.say()\n",
    "Person.say()"
   ]
  }
 ],
 "metadata": {
  "anaconda-cloud": {},
  "kernelspec": {
   "display_name": "Python 3",
   "language": "python",
   "name": "python3"
  },
  "language_info": {
   "codemirror_mode": {
    "name": "ipython",
    "version": 3
   },
   "file_extension": ".py",
   "mimetype": "text/x-python",
   "name": "python",
   "nbconvert_exporter": "python",
   "pygments_lexer": "ipython3",
   "version": "3.5.6"
  }
 },
 "nbformat": 4,
 "nbformat_minor": 2
}
